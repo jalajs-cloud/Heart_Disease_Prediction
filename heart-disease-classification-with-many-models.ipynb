{
 "cells": [
  {
   "cell_type": "markdown",
   "id": "4a1fdc5d",
   "metadata": {
    "papermill": {
     "duration": 0.032138,
     "end_time": "2022-09-12T12:38:52.651535",
     "exception": false,
     "start_time": "2022-09-12T12:38:52.619397",
     "status": "completed"
    },
    "tags": []
   },
   "source": [
    "# Data description :"
   ]
  },
  {
   "cell_type": "raw",
   "id": "e91139af",
   "metadata": {
    "papermill": {
     "duration": 0.031506,
     "end_time": "2022-09-12T12:38:52.713234",
     "exception": false,
     "start_time": "2022-09-12T12:38:52.681728",
     "status": "completed"
    },
    "tags": []
   },
   "source": [
    "1-Age: age of the patient [years]\n",
    "2-Sex: sex of the patient [M: Male, F: Female]\n",
    "ChestPainType: chest pain type [TA: Typical Angina, ATA: Atypical Angina, NAP: Non-Anginal Pain, ASY: Asymptomatic]\n",
    "RestingBP: resting blood pressure [mm Hg]\n",
    "Cholesterol: serum cholesterol [mm/dl]\n",
    "FastingBS: fasting blood sugar [1: if FastingBS > 120 mg/dl, 0: otherwise]\n",
    "RestingECG: resting electrocardiogram results [Normal: Normal, ST: having ST-T wave abnormality (T wave inversions and/or ST elevation or depression of > 0.05 mV), LVH: showing probable or definite left ventricular hypertrophy by Estes' criteria]\n",
    "MaxHR: maximum heart rate achieved [Numeric value between 60 and 202]\n",
    "ExerciseAngina: exercise-induced angina [Y: Yes, N: No]\n",
    "Oldpeak: oldpeak = ST [Numeric value measured in depression]\n",
    "ST_Slope: the slope of the peak exercise ST segment [Up: upsloping, Flat: flat, Down: downsloping]\n",
    "HeartDisease: output class [1: heart disease, 0: Normal]"
   ]
  },
  {
   "cell_type": "raw",
   "id": "79980a1c",
   "metadata": {
    "papermill": {
     "duration": 0.029068,
     "end_time": "2022-09-12T12:38:52.772368",
     "exception": false,
     "start_time": "2022-09-12T12:38:52.743300",
     "status": "completed"
    },
    "tags": []
   },
   "source": [
    "#contest\n",
    "Cardiovascular diseases (CVDs) are the number 1 cause of death globally, \n",
    "taking an estimated 17.9 million lives each year, \n",
    "which accounts for 31% of all deaths worldwide. \n",
    "Four out of 5CVD deaths are due to heart attacks and strokes,\n",
    "and one-third of these deaths occur prematurely in people under 70 years of age.\n",
    "Heart failure is a common event caused by CVDs and this dataset contains 11 features that can be used to predict a possible heart disease.\n",
    "People with cardiovascular disease or who are at high cardiovascular risk (due to the presence of one or more risk factors such \n",
    "as hypertension, diabetes, hyperlipidaemia or already established disease) need early detection and management wherein a machine learning model can be of great help."
   ]
  },
  {
   "cell_type": "markdown",
   "id": "e8f77f99",
   "metadata": {
    "papermill": {
     "duration": 0.029132,
     "end_time": "2022-09-12T12:38:52.831644",
     "exception": false,
     "start_time": "2022-09-12T12:38:52.802512",
     "status": "completed"
    },
    "tags": []
   },
   "source": [
    "# Importing libraries :"
   ]
  },
  {
   "cell_type": "code",
   "execution_count": 1,
   "id": "392e98ee",
   "metadata": {
    "execution": {
     "iopub.execute_input": "2022-09-12T12:38:52.893218Z",
     "iopub.status.busy": "2022-09-12T12:38:52.892595Z",
     "iopub.status.idle": "2022-09-12T12:38:55.999842Z",
     "shell.execute_reply": "2022-09-12T12:38:55.998837Z"
    },
    "papermill": {
     "duration": 3.141379,
     "end_time": "2022-09-12T12:38:56.002873",
     "exception": false,
     "start_time": "2022-09-12T12:38:52.861494",
     "status": "completed"
    },
    "tags": []
   },
   "outputs": [
    {
     "data": {
      "text/html": [
       "<style type='text/css'>\n",
       ".datatable table.frame { margin-bottom: 0; }\n",
       ".datatable table.frame thead { border-bottom: none; }\n",
       ".datatable table.frame tr.coltypes td {  color: #FFFFFF;  line-height: 6px;  padding: 0 0.5em;}\n",
       ".datatable .bool    { background: #DDDD99; }\n",
       ".datatable .object  { background: #565656; }\n",
       ".datatable .int     { background: #5D9E5D; }\n",
       ".datatable .float   { background: #4040CC; }\n",
       ".datatable .str     { background: #CC4040; }\n",
       ".datatable .time    { background: #40CC40; }\n",
       ".datatable .row_index {  background: var(--jp-border-color3);  border-right: 1px solid var(--jp-border-color0);  color: var(--jp-ui-font-color3);  font-size: 9px;}\n",
       ".datatable .frame tbody td { text-align: left; }\n",
       ".datatable .frame tr.coltypes .row_index {  background: var(--jp-border-color0);}\n",
       ".datatable th:nth-child(2) { padding-left: 12px; }\n",
       ".datatable .hellipsis {  color: var(--jp-cell-editor-border-color);}\n",
       ".datatable .vellipsis {  background: var(--jp-layout-color0);  color: var(--jp-cell-editor-border-color);}\n",
       ".datatable .na {  color: var(--jp-cell-editor-border-color);  font-size: 80%;}\n",
       ".datatable .sp {  opacity: 0.25;}\n",
       ".datatable .footer { font-size: 9px; }\n",
       ".datatable .frame_dimensions {  background: var(--jp-border-color3);  border-top: 1px solid var(--jp-border-color0);  color: var(--jp-ui-font-color3);  display: inline-block;  opacity: 0.6;  padding: 1px 10px 1px 5px;}\n",
       "</style>\n"
      ],
      "text/plain": [
       "<IPython.core.display.HTML object>"
      ]
     },
     "metadata": {},
     "output_type": "display_data"
    }
   ],
   "source": [
    "import pandas as pd\n",
    "import numpy as np\n",
    "from matplotlib import pyplot as plt\n",
    "import seaborn as sns\n",
    "from sklearn.model_selection import train_test_split\n",
    "from sklearn.linear_model import LogisticRegression\n",
    "from sklearn.tree  import DecisionTreeClassifier\n",
    "from sklearn.ensemble import RandomForestClassifier\n",
    "from lightgbm import LGBMClassifier\n",
    "from sklearn.metrics import accuracy_score,confusion_matrix,classification_report,f1_score\n",
    "from sklearn.metrics import classification_report\n",
    "from sklearn.metrics import accuracy_score\n",
    "from catboost import CatBoostClassifier\n",
    "from sklearn.linear_model import LogisticRegression\n",
    "from sklearn.neighbors import  KNeighborsClassifier\n",
    "from sklearn.ensemble import VotingClassifier\n",
    "from sklearn.metrics import accuracy_score, precision_score, recall_score, f1_score"
   ]
  },
  {
   "cell_type": "code",
   "execution_count": 2,
   "id": "6f29e84a",
   "metadata": {
    "execution": {
     "iopub.execute_input": "2022-09-12T12:38:56.064079Z",
     "iopub.status.busy": "2022-09-12T12:38:56.063694Z",
     "iopub.status.idle": "2022-09-12T12:38:56.086758Z",
     "shell.execute_reply": "2022-09-12T12:38:56.085554Z"
    },
    "papermill": {
     "duration": 0.057104,
     "end_time": "2022-09-12T12:38:56.089727",
     "exception": false,
     "start_time": "2022-09-12T12:38:56.032623",
     "status": "completed"
    },
    "tags": []
   },
   "outputs": [],
   "source": [
    "df=pd.read_csv(\"../input/heart-failure-prediction/heart.csv\")"
   ]
  },
  {
   "cell_type": "code",
   "execution_count": 3,
   "id": "dafe8fb0",
   "metadata": {
    "execution": {
     "iopub.execute_input": "2022-09-12T12:38:56.151396Z",
     "iopub.status.busy": "2022-09-12T12:38:56.150953Z",
     "iopub.status.idle": "2022-09-12T12:38:56.172810Z",
     "shell.execute_reply": "2022-09-12T12:38:56.171963Z"
    },
    "papermill": {
     "duration": 0.05501,
     "end_time": "2022-09-12T12:38:56.174934",
     "exception": false,
     "start_time": "2022-09-12T12:38:56.119924",
     "status": "completed"
    },
    "tags": []
   },
   "outputs": [
    {
     "data": {
      "text/html": [
       "<div>\n",
       "<style scoped>\n",
       "    .dataframe tbody tr th:only-of-type {\n",
       "        vertical-align: middle;\n",
       "    }\n",
       "\n",
       "    .dataframe tbody tr th {\n",
       "        vertical-align: top;\n",
       "    }\n",
       "\n",
       "    .dataframe thead th {\n",
       "        text-align: right;\n",
       "    }\n",
       "</style>\n",
       "<table border=\"1\" class=\"dataframe\">\n",
       "  <thead>\n",
       "    <tr style=\"text-align: right;\">\n",
       "      <th></th>\n",
       "      <th>Age</th>\n",
       "      <th>Sex</th>\n",
       "      <th>ChestPainType</th>\n",
       "      <th>RestingBP</th>\n",
       "      <th>Cholesterol</th>\n",
       "      <th>FastingBS</th>\n",
       "      <th>RestingECG</th>\n",
       "      <th>MaxHR</th>\n",
       "      <th>ExerciseAngina</th>\n",
       "      <th>Oldpeak</th>\n",
       "      <th>ST_Slope</th>\n",
       "      <th>HeartDisease</th>\n",
       "    </tr>\n",
       "  </thead>\n",
       "  <tbody>\n",
       "    <tr>\n",
       "      <th>0</th>\n",
       "      <td>40</td>\n",
       "      <td>M</td>\n",
       "      <td>ATA</td>\n",
       "      <td>140</td>\n",
       "      <td>289</td>\n",
       "      <td>0</td>\n",
       "      <td>Normal</td>\n",
       "      <td>172</td>\n",
       "      <td>N</td>\n",
       "      <td>0.0</td>\n",
       "      <td>Up</td>\n",
       "      <td>0</td>\n",
       "    </tr>\n",
       "    <tr>\n",
       "      <th>1</th>\n",
       "      <td>49</td>\n",
       "      <td>F</td>\n",
       "      <td>NAP</td>\n",
       "      <td>160</td>\n",
       "      <td>180</td>\n",
       "      <td>0</td>\n",
       "      <td>Normal</td>\n",
       "      <td>156</td>\n",
       "      <td>N</td>\n",
       "      <td>1.0</td>\n",
       "      <td>Flat</td>\n",
       "      <td>1</td>\n",
       "    </tr>\n",
       "    <tr>\n",
       "      <th>2</th>\n",
       "      <td>37</td>\n",
       "      <td>M</td>\n",
       "      <td>ATA</td>\n",
       "      <td>130</td>\n",
       "      <td>283</td>\n",
       "      <td>0</td>\n",
       "      <td>ST</td>\n",
       "      <td>98</td>\n",
       "      <td>N</td>\n",
       "      <td>0.0</td>\n",
       "      <td>Up</td>\n",
       "      <td>0</td>\n",
       "    </tr>\n",
       "    <tr>\n",
       "      <th>3</th>\n",
       "      <td>48</td>\n",
       "      <td>F</td>\n",
       "      <td>ASY</td>\n",
       "      <td>138</td>\n",
       "      <td>214</td>\n",
       "      <td>0</td>\n",
       "      <td>Normal</td>\n",
       "      <td>108</td>\n",
       "      <td>Y</td>\n",
       "      <td>1.5</td>\n",
       "      <td>Flat</td>\n",
       "      <td>1</td>\n",
       "    </tr>\n",
       "    <tr>\n",
       "      <th>4</th>\n",
       "      <td>54</td>\n",
       "      <td>M</td>\n",
       "      <td>NAP</td>\n",
       "      <td>150</td>\n",
       "      <td>195</td>\n",
       "      <td>0</td>\n",
       "      <td>Normal</td>\n",
       "      <td>122</td>\n",
       "      <td>N</td>\n",
       "      <td>0.0</td>\n",
       "      <td>Up</td>\n",
       "      <td>0</td>\n",
       "    </tr>\n",
       "  </tbody>\n",
       "</table>\n",
       "</div>"
      ],
      "text/plain": [
       "   Age Sex ChestPainType  RestingBP  Cholesterol  FastingBS RestingECG  MaxHR  \\\n",
       "0   40   M           ATA        140          289          0     Normal    172   \n",
       "1   49   F           NAP        160          180          0     Normal    156   \n",
       "2   37   M           ATA        130          283          0         ST     98   \n",
       "3   48   F           ASY        138          214          0     Normal    108   \n",
       "4   54   M           NAP        150          195          0     Normal    122   \n",
       "\n",
       "  ExerciseAngina  Oldpeak ST_Slope  HeartDisease  \n",
       "0              N      0.0       Up             0  \n",
       "1              N      1.0     Flat             1  \n",
       "2              N      0.0       Up             0  \n",
       "3              Y      1.5     Flat             1  \n",
       "4              N      0.0       Up             0  "
      ]
     },
     "execution_count": 3,
     "metadata": {},
     "output_type": "execute_result"
    }
   ],
   "source": [
    "df.head()"
   ]
  },
  {
   "cell_type": "markdown",
   "id": "26307ffe",
   "metadata": {
    "papermill": {
     "duration": 0.029537,
     "end_time": "2022-09-12T12:38:56.234749",
     "exception": false,
     "start_time": "2022-09-12T12:38:56.205212",
     "status": "completed"
    },
    "tags": []
   },
   "source": [
    "# EDA:"
   ]
  },
  {
   "cell_type": "code",
   "execution_count": 4,
   "id": "e7d95c37",
   "metadata": {
    "execution": {
     "iopub.execute_input": "2022-09-12T12:38:56.297005Z",
     "iopub.status.busy": "2022-09-12T12:38:56.296158Z",
     "iopub.status.idle": "2022-09-12T12:38:56.306536Z",
     "shell.execute_reply": "2022-09-12T12:38:56.305203Z"
    },
    "papermill": {
     "duration": 0.044707,
     "end_time": "2022-09-12T12:38:56.309412",
     "exception": false,
     "start_time": "2022-09-12T12:38:56.264705",
     "status": "completed"
    },
    "tags": []
   },
   "outputs": [
    {
     "data": {
      "text/plain": [
       "Age               0\n",
       "Sex               0\n",
       "ChestPainType     0\n",
       "RestingBP         0\n",
       "Cholesterol       0\n",
       "FastingBS         0\n",
       "RestingECG        0\n",
       "MaxHR             0\n",
       "ExerciseAngina    0\n",
       "Oldpeak           0\n",
       "ST_Slope          0\n",
       "HeartDisease      0\n",
       "dtype: int64"
      ]
     },
     "execution_count": 4,
     "metadata": {},
     "output_type": "execute_result"
    }
   ],
   "source": [
    "df.isnull().sum()\n",
    "#check if there is missing data and we found that there is no missing data "
   ]
  },
  {
   "cell_type": "code",
   "execution_count": 5,
   "id": "cbfdd797",
   "metadata": {
    "execution": {
     "iopub.execute_input": "2022-09-12T12:38:56.372701Z",
     "iopub.status.busy": "2022-09-12T12:38:56.371876Z",
     "iopub.status.idle": "2022-09-12T12:38:56.396276Z",
     "shell.execute_reply": "2022-09-12T12:38:56.395016Z"
    },
    "papermill": {
     "duration": 0.059264,
     "end_time": "2022-09-12T12:38:56.399510",
     "exception": false,
     "start_time": "2022-09-12T12:38:56.340246",
     "status": "completed"
    },
    "tags": []
   },
   "outputs": [
    {
     "name": "stdout",
     "output_type": "stream",
     "text": [
      "<class 'pandas.core.frame.DataFrame'>\n",
      "RangeIndex: 918 entries, 0 to 917\n",
      "Data columns (total 12 columns):\n",
      " #   Column          Non-Null Count  Dtype  \n",
      "---  ------          --------------  -----  \n",
      " 0   Age             918 non-null    int64  \n",
      " 1   Sex             918 non-null    object \n",
      " 2   ChestPainType   918 non-null    object \n",
      " 3   RestingBP       918 non-null    int64  \n",
      " 4   Cholesterol     918 non-null    int64  \n",
      " 5   FastingBS       918 non-null    int64  \n",
      " 6   RestingECG      918 non-null    object \n",
      " 7   MaxHR           918 non-null    int64  \n",
      " 8   ExerciseAngina  918 non-null    object \n",
      " 9   Oldpeak         918 non-null    float64\n",
      " 10  ST_Slope        918 non-null    object \n",
      " 11  HeartDisease    918 non-null    int64  \n",
      "dtypes: float64(1), int64(6), object(5)\n",
      "memory usage: 86.2+ KB\n"
     ]
    }
   ],
   "source": [
    "df.info()\n",
    "#we have three types in this data "
   ]
  },
  {
   "cell_type": "code",
   "execution_count": 6,
   "id": "3fac71b4",
   "metadata": {
    "execution": {
     "iopub.execute_input": "2022-09-12T12:38:56.463201Z",
     "iopub.status.busy": "2022-09-12T12:38:56.462190Z",
     "iopub.status.idle": "2022-09-12T12:38:56.699606Z",
     "shell.execute_reply": "2022-09-12T12:38:56.697934Z"
    },
    "papermill": {
     "duration": 0.27132,
     "end_time": "2022-09-12T12:38:56.702171",
     "exception": false,
     "start_time": "2022-09-12T12:38:56.430851",
     "status": "completed"
    },
    "tags": []
   },
   "outputs": [
    {
     "data": {
      "text/plain": [
       "[Text(0, 0, 'No'), Text(1, 0, 'Yes')]"
      ]
     },
     "execution_count": 6,
     "metadata": {},
     "output_type": "execute_result"
    },
    {
     "data": {
      "image/png": "[encoded data removed]",
      "text/plain": [
       "<Figure size 864x504 with 1 Axes>"
      ]
     },
     "metadata": {
      "needs_background": "light"
     },
     "output_type": "display_data"
    }
   ],
   "source": [
    "plt.figure(figsize=(12, 7))\n",
    "heartDisease_countplot = sns.countplot(x=df.HeartDisease,palette=[\"#CD5C5C\",\"#BDB76B\"])\n",
    "heartDisease_countplot.set_title(\"Distribution of Target 'Heart Disease'\")\n",
    "heartDisease_countplot.set_xticklabels(['No', 'Yes'], fontsize=20)\n",
    "#OUR TARGET IS Heart Disease :"
   ]
  },
  {
   "cell_type": "markdown",
   "id": "a22a62bd",
   "metadata": {
    "papermill": {
     "duration": 0.031646,
     "end_time": "2022-09-12T12:38:56.765324",
     "exception": false,
     "start_time": "2022-09-12T12:38:56.733678",
     "status": "completed"
    },
    "tags": []
   },
   "source": [
    "Here we notice that there is heartdisease is more than there is not "
   ]
  },
  {
   "cell_type": "code",
   "execution_count": 7,
   "id": "ac2e40d1",
   "metadata": {
    "execution": {
     "iopub.execute_input": "2022-09-12T12:38:56.828244Z",
     "iopub.status.busy": "2022-09-12T12:38:56.827804Z",
     "iopub.status.idle": "2022-09-12T12:38:57.008865Z",
     "shell.execute_reply": "2022-09-12T12:38:57.007287Z"
    },
    "papermill": {
     "duration": 0.216202,
     "end_time": "2022-09-12T12:38:57.011967",
     "exception": false,
     "start_time": "2022-09-12T12:38:56.795765",
     "status": "completed"
    },
    "tags": []
   },
   "outputs": [
    {
     "data": {
      "text/plain": [
       "Text(0, 0.5, 'Count')"
      ]
     },
     "execution_count": 7,
     "metadata": {},
     "output_type": "execute_result"
    },
    {
     "data": {
      "image/png": "[encoded data removed]",
      "text/plain": [
       "<Figure size 432x288 with 1 Axes>"
      ]
     },
     "metadata": {
      "needs_background": "light"
     },
     "output_type": "display_data"
    }
   ],
   "source": [
    "sns.countplot(data=df,x='Sex' , palette=['pink','brown']);\n",
    "plt.title('Sex Distribution')\n",
    "plt.xlabel('Sex')\n",
    "plt.ylabel('Count')"
   ]
  },
  {
   "cell_type": "markdown",
   "id": "f44e439f",
   "metadata": {
    "papermill": {
     "duration": 0.032012,
     "end_time": "2022-09-12T12:38:57.076516",
     "exception": false,
     "start_time": "2022-09-12T12:38:57.044504",
     "status": "completed"
    },
    "tags": []
   },
   "source": [
    "Here we notice the who have more heart disease is the males "
   ]
  },
  {
   "cell_type": "code",
   "execution_count": 8,
   "id": "337eb3a1",
   "metadata": {
    "execution": {
     "iopub.execute_input": "2022-09-12T12:38:57.140980Z",
     "iopub.status.busy": "2022-09-12T12:38:57.140194Z",
     "iopub.status.idle": "2022-09-12T12:38:57.295043Z",
     "shell.execute_reply": "2022-09-12T12:38:57.293786Z"
    },
    "papermill": {
     "duration": 0.191116,
     "end_time": "2022-09-12T12:38:57.298375",
     "exception": false,
     "start_time": "2022-09-12T12:38:57.107259",
     "status": "completed"
    },
    "tags": []
   },
   "outputs": [
    {
     "data": {
      "image/png": "[encoded data removed]",
      "text/plain": [
       "<Figure size 432x288 with 1 Axes>"
      ]
     },
     "metadata": {},
     "output_type": "display_data"
    }
   ],
   "source": [
    "plt.rcParams.update({'font.size': 10})\n",
    "ax=df['Sex'].value_counts().plot.pie(explode=[0.5,0.5],autopct='%1.2f%%',shadow=True );\n",
    "ax.set_title(label = \"Sex\");\n",
    "plt.axis('off');"
   ]
  },
  {
   "cell_type": "markdown",
   "id": "a7bebd37",
   "metadata": {
    "papermill": {
     "duration": 0.043675,
     "end_time": "2022-09-12T12:38:57.395064",
     "exception": false,
     "start_time": "2022-09-12T12:38:57.351389",
     "status": "completed"
    },
    "tags": []
   },
   "source": [
    "Here we find 78.98% of makes have heart disease and 21.02% of females have heart disease and \n",
    "males are approximately 3 times more likely to have heart disease than females."
   ]
  },
  {
   "cell_type": "code",
   "execution_count": 9,
   "id": "096adefa",
   "metadata": {
    "execution": {
     "iopub.execute_input": "2022-09-12T12:38:57.460146Z",
     "iopub.status.busy": "2022-09-12T12:38:57.459747Z",
     "iopub.status.idle": "2022-09-12T12:38:57.467858Z",
     "shell.execute_reply": "2022-09-12T12:38:57.466983Z"
    },
    "papermill": {
     "duration": 0.042751,
     "end_time": "2022-09-12T12:38:57.470082",
     "exception": false,
     "start_time": "2022-09-12T12:38:57.427331",
     "status": "completed"
    },
    "tags": []
   },
   "outputs": [
    {
     "data": {
      "text/plain": [
       "array(['ATA', 'NAP', 'ASY', 'TA'], dtype=object)"
      ]
     },
     "execution_count": 9,
     "metadata": {},
     "output_type": "execute_result"
    }
   ],
   "source": [
    "df.ChestPainType.unique() "
   ]
  },
  {
   "cell_type": "markdown",
   "id": "df6e6de6",
   "metadata": {
    "papermill": {
     "duration": 0.031257,
     "end_time": "2022-09-12T12:38:57.532024",
     "exception": false,
     "start_time": "2022-09-12T12:38:57.500767",
     "status": "completed"
    },
    "tags": []
   },
   "source": [
    "Here we check the types of chestpain :we have four types of chest pain \n",
    "    ATA,NAP,ASY,TA\n",
    "   "
   ]
  },
  {
   "cell_type": "code",
   "execution_count": 10,
   "id": "b99eb857",
   "metadata": {
    "execution": {
     "iopub.execute_input": "2022-09-12T12:38:57.595651Z",
     "iopub.status.busy": "2022-09-12T12:38:57.595249Z",
     "iopub.status.idle": "2022-09-12T12:38:57.601127Z",
     "shell.execute_reply": "2022-09-12T12:38:57.599971Z"
    },
    "papermill": {
     "duration": 0.040449,
     "end_time": "2022-09-12T12:38:57.603418",
     "exception": false,
     "start_time": "2022-09-12T12:38:57.562969",
     "status": "completed"
    },
    "tags": []
   },
   "outputs": [],
   "source": [
    "ChestPainType_label = ['ATA', 'NAP', 'ASY', 'TA']\n",
    "ChestPainType_size = [173, 203, 496, 46]\n",
    "ChestPainType_explode = (0, 0, 0, 0)"
   ]
  },
  {
   "cell_type": "code",
   "execution_count": 11,
   "id": "e81d88b0",
   "metadata": {
    "execution": {
     "iopub.execute_input": "2022-09-12T12:38:57.667289Z",
     "iopub.status.busy": "2022-09-12T12:38:57.666869Z",
     "iopub.status.idle": "2022-09-12T12:38:58.007707Z",
     "shell.execute_reply": "2022-09-12T12:38:58.006641Z"
    },
    "papermill": {
     "duration": 0.375852,
     "end_time": "2022-09-12T12:38:58.010401",
     "exception": false,
     "start_time": "2022-09-12T12:38:57.634549",
     "status": "completed"
    },
    "tags": []
   },
   "outputs": [
    {
     "data": {
      "text/plain": [
       "<matplotlib.legend.Legend at 0x7fb8440b7ed0>"
      ]
     },
     "execution_count": 11,
     "metadata": {},
     "output_type": "execute_result"
    },
    {
     "data": {
      "image/png": "[encoded data removed]",
      "text/plain": [
       "<Figure size 576x648 with 1 Axes>"
      ]
     },
     "metadata": {},
     "output_type": "display_data"
    }
   ],
   "source": [
    "plt.figure(figsize=(8,9))\n",
    "plt.pie( ChestPainType_size , explode=ChestPainType_explode , labels=ChestPainType_label ,shadow=True ,\n",
    "        autopct='%1.2f%%' , startangle=90, colors= ['lime','crimson', 'slateblue', 'deeppink'])\n",
    "plt.title(\"count of ChestPainType\")\n",
    "plt.legend()"
   ]
  },
  {
   "cell_type": "markdown",
   "id": "d726aa34",
   "metadata": {
    "papermill": {
     "duration": 0.032056,
     "end_time": "2022-09-12T12:38:58.075176",
     "exception": false,
     "start_time": "2022-09-12T12:38:58.043120",
     "status": "completed"
    },
    "tags": []
   },
   "source": [
    " Here we found that ASY is the type who has the highest pre for the pain chest ."
   ]
  },
  {
   "cell_type": "markdown",
   "id": "8fb0c3b2",
   "metadata": {
    "papermill": {
     "duration": 0.031451,
     "end_time": "2022-09-12T12:38:58.139328",
     "exception": false,
     "start_time": "2022-09-12T12:38:58.107877",
     "status": "completed"
    },
    "tags": []
   },
   "source": [
    "Here first we have to know that  RestingECG is :a non-invasive test that can detect abnormalities including arrhythmias,evidence of coronary heart disease, left ventricular hypertrophy and bundle branch blocks. "
   ]
  },
  {
   "cell_type": "code",
   "execution_count": 12,
   "id": "e90d79f8",
   "metadata": {
    "execution": {
     "iopub.execute_input": "2022-09-12T12:38:58.204942Z",
     "iopub.status.busy": "2022-09-12T12:38:58.203645Z",
     "iopub.status.idle": "2022-09-12T12:38:58.209780Z",
     "shell.execute_reply": "2022-09-12T12:38:58.208555Z"
    },
    "papermill": {
     "duration": 0.04116,
     "end_time": "2022-09-12T12:38:58.212184",
     "exception": false,
     "start_time": "2022-09-12T12:38:58.171024",
     "status": "completed"
    },
    "tags": []
   },
   "outputs": [],
   "source": [
    "RestingECG_label = ['Normal', 'ST', 'LVH']\n",
    "RestingECG_size = [552, 178, 188]\n",
    "RestingECG_explode = (0, 0, 0)"
   ]
  },
  {
   "cell_type": "markdown",
   "id": "faf0f91c",
   "metadata": {
    "papermill": {
     "duration": 0.031277,
     "end_time": "2022-09-12T12:38:58.275072",
     "exception": false,
     "start_time": "2022-09-12T12:38:58.243795",
     "status": "completed"
    },
    "tags": []
   },
   "source": [
    "here we have three levels of restingEGG':'Normal', 'ST', 'LVH'"
   ]
  },
  {
   "cell_type": "code",
   "execution_count": 13,
   "id": "f328ca12",
   "metadata": {
    "execution": {
     "iopub.execute_input": "2022-09-12T12:38:58.341824Z",
     "iopub.status.busy": "2022-09-12T12:38:58.341000Z",
     "iopub.status.idle": "2022-09-12T12:38:58.600508Z",
     "shell.execute_reply": "2022-09-12T12:38:58.599638Z"
    },
    "papermill": {
     "duration": 0.29666,
     "end_time": "2022-09-12T12:38:58.603365",
     "exception": false,
     "start_time": "2022-09-12T12:38:58.306705",
     "status": "completed"
    },
    "tags": []
   },
   "outputs": [
    {
     "data": {
      "text/plain": [
       "<matplotlib.legend.Legend at 0x7fb84404af90>"
      ]
     },
     "execution_count": 13,
     "metadata": {},
     "output_type": "execute_result"
    },
    {
     "data": {
      "image/png": "[encoded data removed]",
      "text/plain": [
       "<Figure size 576x648 with 1 Axes>"
      ]
     },
     "metadata": {},
     "output_type": "display_data"
    }
   ],
   "source": [
    "plt.figure(figsize=(8,9))\n",
    "plt.pie( RestingECG_size , explode=RestingECG_explode , labels=RestingECG_label ,shadow=True ,\n",
    "        autopct='%1.2f%%' , startangle=90, colors=['lime', 'red', 'slateblue'])\n",
    "plt.title(\"count of RestingECG\")\n",
    "plt.legend()"
   ]
  },
  {
   "cell_type": "markdown",
   "id": "f8c82ecc",
   "metadata": {
    "papermill": {
     "duration": 0.032161,
     "end_time": "2022-09-12T12:38:58.685398",
     "exception": false,
     "start_time": "2022-09-12T12:38:58.653237",
     "status": "completed"
    },
    "tags": []
   },
   "source": [
    "Here we find that the normal have the highest pre "
   ]
  },
  {
   "cell_type": "code",
   "execution_count": 14,
   "id": "c8495c67",
   "metadata": {
    "execution": {
     "iopub.execute_input": "2022-09-12T12:38:58.753432Z",
     "iopub.status.busy": "2022-09-12T12:38:58.752636Z",
     "iopub.status.idle": "2022-09-12T12:38:58.757755Z",
     "shell.execute_reply": "2022-09-12T12:38:58.756570Z"
    },
    "papermill": {
     "duration": 0.04132,
     "end_time": "2022-09-12T12:38:58.759912",
     "exception": false,
     "start_time": "2022-09-12T12:38:58.718592",
     "status": "completed"
    },
    "tags": []
   },
   "outputs": [],
   "source": [
    "ExerciseAngina_label = ['yes', 'no']\n",
    "ExerciseAngina_size = [552, 178]\n",
    "ExerciseAngina_explode = (0, 0)"
   ]
  },
  {
   "cell_type": "code",
   "execution_count": 15,
   "id": "e7ad2c1f",
   "metadata": {
    "execution": {
     "iopub.execute_input": "2022-09-12T12:38:58.828157Z",
     "iopub.status.busy": "2022-09-12T12:38:58.827417Z",
     "iopub.status.idle": "2022-09-12T12:38:59.149671Z",
     "shell.execute_reply": "2022-09-12T12:38:59.148388Z"
    },
    "papermill": {
     "duration": 0.360707,
     "end_time": "2022-09-12T12:38:59.152966",
     "exception": false,
     "start_time": "2022-09-12T12:38:58.792259",
     "status": "completed"
    },
    "tags": []
   },
   "outputs": [
    {
     "data": {
      "text/plain": [
       "<matplotlib.legend.Legend at 0x7fb843f8dd10>"
      ]
     },
     "execution_count": 15,
     "metadata": {},
     "output_type": "execute_result"
    },
    {
     "data": {
      "image/png": "[encoded data removed]",
      "text/plain": [
       "<Figure size 576x648 with 1 Axes>"
      ]
     },
     "metadata": {},
     "output_type": "display_data"
    }
   ],
   "source": [
    "plt.figure(figsize=(8,9))\n",
    "plt.pie( ExerciseAngina_size , explode=ExerciseAngina_explode , labels=ExerciseAngina_label ,shadow=True ,\n",
    "        autopct='%1.2f%%' , startangle=90, colors=['pink', 'crimson'])\n",
    "plt.title(\"ExerciseAngina\")\n",
    "plt.legend()"
   ]
  },
  {
   "cell_type": "markdown",
   "id": "64497611",
   "metadata": {
    "papermill": {
     "duration": 0.03255,
     "end_time": "2022-09-12T12:38:59.219049",
     "exception": false,
     "start_time": "2022-09-12T12:38:59.186499",
     "status": "completed"
    },
    "tags": []
   },
   "source": [
    "Here who had ExerciseAngina is more than whos hadnot and by pre is 75.62%"
   ]
  },
  {
   "cell_type": "code",
   "execution_count": 16,
   "id": "1d132731",
   "metadata": {
    "execution": {
     "iopub.execute_input": "2022-09-12T12:38:59.286799Z",
     "iopub.status.busy": "2022-09-12T12:38:59.286073Z",
     "iopub.status.idle": "2022-09-12T12:38:59.291220Z",
     "shell.execute_reply": "2022-09-12T12:38:59.290321Z"
    },
    "papermill": {
     "duration": 0.041952,
     "end_time": "2022-09-12T12:38:59.293717",
     "exception": false,
     "start_time": "2022-09-12T12:38:59.251765",
     "status": "completed"
    },
    "tags": []
   },
   "outputs": [],
   "source": [
    "ST_Slope_label = ['Flat','Up','Down']\n",
    "ST_Slope_size = [552, 178, 188]\n",
    "ST_Slope_explode = (0, 0, 0)"
   ]
  },
  {
   "cell_type": "code",
   "execution_count": 17,
   "id": "e95109e6",
   "metadata": {
    "execution": {
     "iopub.execute_input": "2022-09-12T12:38:59.362026Z",
     "iopub.status.busy": "2022-09-12T12:38:59.361592Z",
     "iopub.status.idle": "2022-09-12T12:38:59.790362Z",
     "shell.execute_reply": "2022-09-12T12:38:59.789043Z"
    },
    "papermill": {
     "duration": 0.466685,
     "end_time": "2022-09-12T12:38:59.793850",
     "exception": false,
     "start_time": "2022-09-12T12:38:59.327165",
     "status": "completed"
    },
    "tags": []
   },
   "outputs": [
    {
     "data": {
      "text/plain": [
       "<matplotlib.legend.Legend at 0x7fb843f2ee10>"
      ]
     },
     "execution_count": 17,
     "metadata": {},
     "output_type": "execute_result"
    },
    {
     "data": {
      "image/png": "[encoded data removed]",
      "text/plain": [
       "<Figure size 576x648 with 1 Axes>"
      ]
     },
     "metadata": {},
     "output_type": "display_data"
    }
   ],
   "source": [
    "plt.figure(figsize=(8,9))\n",
    "plt.pie( ST_Slope_size , explode=ST_Slope_explode , labels=ST_Slope_label ,shadow=True ,\n",
    "        autopct='%1.2f%%' , startangle=90, colors=['brown', 'crimson','yellow'])\n",
    "plt.title(\"ST_Slopea\")\n",
    "plt.legend()"
   ]
  },
  {
   "cell_type": "code",
   "execution_count": 18,
   "id": "847f6d46",
   "metadata": {
    "execution": {
     "iopub.execute_input": "2022-09-12T12:38:59.868085Z",
     "iopub.status.busy": "2022-09-12T12:38:59.866942Z",
     "iopub.status.idle": "2022-09-12T12:38:59.876718Z",
     "shell.execute_reply": "2022-09-12T12:38:59.875743Z"
    },
    "papermill": {
     "duration": 0.048732,
     "end_time": "2022-09-12T12:38:59.879368",
     "exception": false,
     "start_time": "2022-09-12T12:38:59.830636",
     "status": "completed"
    },
    "tags": []
   },
   "outputs": [],
   "source": [
    "Categorical = df.select_dtypes(include=['object'])\n",
    "Numerical = df.select_dtypes(include=['int64', 'float64'])"
   ]
  },
  {
   "cell_type": "code",
   "execution_count": 19,
   "id": "f17ab01e",
   "metadata": {
    "execution": {
     "iopub.execute_input": "2022-09-12T12:38:59.948350Z",
     "iopub.status.busy": "2022-09-12T12:38:59.947413Z",
     "iopub.status.idle": "2022-09-12T12:39:08.116929Z",
     "shell.execute_reply": "2022-09-12T12:39:08.115779Z"
    },
    "papermill": {
     "duration": 8.206801,
     "end_time": "2022-09-12T12:39:08.119521",
     "exception": false,
     "start_time": "2022-09-12T12:38:59.912720",
     "status": "completed"
    },
    "tags": []
   },
   "outputs": [
    {
     "data": {
      "image/png": "[encoded data removed]",
      "text/plain": [
       "<Figure size 720x360 with 1 Axes>"
      ]
     },
     "metadata": {
      "needs_background": "light"
     },
     "output_type": "display_data"
    },
    {
     "data": {
      "image/png": "[encoded data removed]",
      "text/plain": [
       "<Figure size 720x360 with 1 Axes>"
      ]
     },
     "metadata": {
      "needs_background": "light"
     },
     "output_type": "display_data"
    },
    {
     "data": {
      "image/png": "[encoded data removed]",
      "text/plain": [
       "<Figure size 720x360 with 1 Axes>"
      ]
     },
     "metadata": {
      "needs_background": "light"
     },
     "output_type": "display_data"
    },
    {
     "data": {
      "image/png": "[encoded data removed]",
      "text/plain": [
       "<Figure size 720x360 with 1 Axes>"
      ]
     },
     "metadata": {
      "needs_background": "light"
     },
     "output_type": "display_data"
    },
    {
     "data": {
      "image/png": "[encoded data removed]",
      "text/plain": [
       "<Figure size 720x360 with 1 Axes>"
      ]
     },
     "metadata": {
      "needs_background": "light"
     },
     "output_type": "display_data"
    },
    {
     "data": {
      "image/png": "[encoded data removed]",
      "text/plain": [
       "<Figure size 720x360 with 1 Axes>"
      ]
     },
     "metadata": {
      "needs_background": "light"
     },
     "output_type": "display_data"
    },
    {
     "data": {
      "image/png": "[encoded data removed]",
      "text/plain": [
       "<Figure size 720x360 with 1 Axes>"
      ]
     },
     "metadata": {
      "needs_background": "light"
     },
     "output_type": "display_data"
    }
   ],
   "source": [
    "# ploting numerical features with target\n",
    "#here we compare betwwen our target and our numerical features \n",
    "for i in Numerical:\n",
    "    plt.figure(figsize=(10,5))\n",
    "    sns.countplot(x=i, data=df, hue='HeartDisease')\n",
    "    plt.legend(['Normal', 'Heart Disease'])\n",
    "    plt.title(i)\n",
    "    plt.show()"
   ]
  },
  {
   "cell_type": "code",
   "execution_count": 20,
   "id": "c0d51c95",
   "metadata": {
    "execution": {
     "iopub.execute_input": "2022-09-12T12:39:08.195401Z",
     "iopub.status.busy": "2022-09-12T12:39:08.194983Z",
     "iopub.status.idle": "2022-09-12T12:39:09.263078Z",
     "shell.execute_reply": "2022-09-12T12:39:09.261429Z"
    },
    "papermill": {
     "duration": 1.109341,
     "end_time": "2022-09-12T12:39:09.265977",
     "exception": false,
     "start_time": "2022-09-12T12:39:08.156636",
     "status": "completed"
    },
    "tags": []
   },
   "outputs": [
    {
     "data": {
      "image/png": "[encoded data removed]",
      "text/plain": [
       "<Figure size 720x720 with 1 Axes>"
      ]
     },
     "metadata": {
      "needs_background": "light"
     },
     "output_type": "display_data"
    },
    {
     "data": {
      "image/png": "[encoded data removed]",
      "text/plain": [
       "<Figure size 720x720 with 1 Axes>"
      ]
     },
     "metadata": {
      "needs_background": "light"
     },
     "output_type": "display_data"
    },
    {
     "data": {
      "image/png": "[encoded data removed]",
      "text/plain": [
       "<Figure size 720x720 with 1 Axes>"
      ]
     },
     "metadata": {
      "needs_background": "light"
     },
     "output_type": "display_data"
    },
    {
     "data": {
      "image/png": "[encoded data removed]",
      "text/plain": [
       "<Figure size 720x720 with 1 Axes>"
      ]
     },
     "metadata": {
      "needs_background": "light"
     },
     "output_type": "display_data"
    },
    {
     "data": {
      "image/png": "[encoded data removed]",
      "text/plain": [
       "<Figure size 720x720 with 1 Axes>"
      ]
     },
     "metadata": {
      "needs_background": "light"
     },
     "output_type": "display_data"
    }
   ],
   "source": [
    "#here we compare betwwen our target and our Categorical features \n",
    "for i in Categorical:\n",
    "    plt.figure(figsize=(10,10))\n",
    "    sns.countplot(x=i, data=df, hue='HeartDisease', edgecolor='black')\n",
    "    plt.legend(['Normal', 'Heart Disease'])\n",
    "    plt.title(i)\n",
    "    plt.show()"
   ]
  },
  {
   "cell_type": "raw",
   "id": "0dc78add",
   "metadata": {
    "papermill": {
     "duration": 0.039167,
     "end_time": "2022-09-12T12:39:09.343379",
     "exception": false,
     "start_time": "2022-09-12T12:39:09.304212",
     "status": "completed"
    },
    "tags": []
   },
   "source": [
    "observations after EDA:\n",
    "1-Males are consistently more likely to have heart disease.\n",
    "2-Inidividuals with ASY chest pain are consistently more likely to have heart disease. \n",
    "ATA and NAP are consistently less liekly to have heart disease.\n",
    "The trend is inconsistent for individuals with TA.\n",
    "3-Flat and down ST_Slope have higher HeartDisease rate while Up ST_Slope has lower HeartDisease rate.\n",
    "4-People with higher oldpeak tend to have exercise engima. There is no obvious trend with other categorical variables\n",
    "5-Cholesterol seem to be higher in females and people with low fasting blood sugar, though the difference looks small.\n",
    "6-Most of heart disease Patients have age between 55 and 65\n",
    "7- Most patients with 0 oldpeak, don't have Heart disease\n",
    "8- Most tested Patients have RestingBP between 120 and 150\n"
   ]
  },
  {
   "cell_type": "markdown",
   "id": "2a889962",
   "metadata": {
    "papermill": {
     "duration": 0.036924,
     "end_time": "2022-09-12T12:39:09.420472",
     "exception": false,
     "start_time": "2022-09-12T12:39:09.383548",
     "status": "completed"
    },
    "tags": []
   },
   "source": [
    "# Handeling with outliers :"
   ]
  },
  {
   "cell_type": "code",
   "execution_count": 21,
   "id": "3abbab3d",
   "metadata": {
    "execution": {
     "iopub.execute_input": "2022-09-12T12:39:09.497523Z",
     "iopub.status.busy": "2022-09-12T12:39:09.496574Z",
     "iopub.status.idle": "2022-09-12T12:39:09.808393Z",
     "shell.execute_reply": "2022-09-12T12:39:09.805913Z"
    },
    "papermill": {
     "duration": 0.354,
     "end_time": "2022-09-12T12:39:09.811710",
     "exception": false,
     "start_time": "2022-09-12T12:39:09.457710",
     "status": "completed"
    },
    "tags": []
   },
   "outputs": [
    {
     "data": {
      "text/plain": [
       "<AxesSubplot:>"
      ]
     },
     "execution_count": 21,
     "metadata": {},
     "output_type": "execute_result"
    },
    {
     "data": {
      "image/png": "[encoded data removed]",
      "text/plain": [
       "<Figure size 1080x648 with 1 Axes>"
      ]
     },
     "metadata": {
      "needs_background": "light"
     },
     "output_type": "display_data"
    }
   ],
   "source": [
    "plt.figure(figsize=(15,9))\n",
    "sns.boxplot(data=df)"
   ]
  },
  {
   "cell_type": "markdown",
   "id": "664ff883",
   "metadata": {
    "papermill": {
     "duration": 0.037842,
     "end_time": "2022-09-12T12:39:09.888046",
     "exception": false,
     "start_time": "2022-09-12T12:39:09.850204",
     "status": "completed"
    },
    "tags": []
   },
   "source": [
    "after the boxplot we find that the outliers here in (age - restingBP-cholesterol-MaxHR-oldpeak)"
   ]
  },
  {
   "cell_type": "markdown",
   "id": "5dbc6a54",
   "metadata": {
    "papermill": {
     "duration": 0.037601,
     "end_time": "2022-09-12T12:39:09.963906",
     "exception": false,
     "start_time": "2022-09-12T12:39:09.926305",
     "status": "completed"
    },
    "tags": []
   },
   "source": [
    "so that i decided to make alist of them "
   ]
  },
  {
   "cell_type": "code",
   "execution_count": 22,
   "id": "0771f6a8",
   "metadata": {
    "execution": {
     "iopub.execute_input": "2022-09-12T12:39:10.042022Z",
     "iopub.status.busy": "2022-09-12T12:39:10.041057Z",
     "iopub.status.idle": "2022-09-12T12:39:10.046219Z",
     "shell.execute_reply": "2022-09-12T12:39:10.045251Z"
    },
    "papermill": {
     "duration": 0.046401,
     "end_time": "2022-09-12T12:39:10.048402",
     "exception": false,
     "start_time": "2022-09-12T12:39:10.002001",
     "status": "completed"
    },
    "tags": []
   },
   "outputs": [],
   "source": [
    "df_num_name = ['Age', 'RestingBP', 'Cholesterol', 'MaxHR', 'Oldpeak']\n"
   ]
  },
  {
   "cell_type": "code",
   "execution_count": 23,
   "id": "e324746f",
   "metadata": {
    "execution": {
     "iopub.execute_input": "2022-09-12T12:39:10.125997Z",
     "iopub.status.busy": "2022-09-12T12:39:10.125143Z",
     "iopub.status.idle": "2022-09-12T12:39:10.130628Z",
     "shell.execute_reply": "2022-09-12T12:39:10.129858Z"
    },
    "papermill": {
     "duration": 0.047,
     "end_time": "2022-09-12T12:39:10.132729",
     "exception": false,
     "start_time": "2022-09-12T12:39:10.085729",
     "status": "completed"
    },
    "tags": []
   },
   "outputs": [],
   "source": [
    "#here we are detecting outliers :\n",
    "\n",
    "def find_outliers_IQR(df):\n",
    "\n",
    "   q1=df.quantile(0.25)\n",
    "\n",
    "   q3=df.quantile(0.75)\n",
    "\n",
    "   IQR=q3-q1\n",
    "\n",
    "   outliers = df[((df<(q1-1.5*IQR)) | (df>(q3+1.5*IQR)))]\n",
    "\n",
    "   return outliers"
   ]
  },
  {
   "cell_type": "code",
   "execution_count": 24,
   "id": "5907bd14",
   "metadata": {
    "execution": {
     "iopub.execute_input": "2022-09-12T12:39:10.209824Z",
     "iopub.status.busy": "2022-09-12T12:39:10.209090Z",
     "iopub.status.idle": "2022-09-12T12:39:10.219295Z",
     "shell.execute_reply": "2022-09-12T12:39:10.218292Z"
    },
    "papermill": {
     "duration": 0.051635,
     "end_time": "2022-09-12T12:39:10.221941",
     "exception": false,
     "start_time": "2022-09-12T12:39:10.170306",
     "status": "completed"
    },
    "tags": []
   },
   "outputs": [
    {
     "name": "stdout",
     "output_type": "stream",
     "text": [
      "number of outliers: 28\n",
      "max outlier value: 200\n",
      "min outlier value: 0\n"
     ]
    }
   ],
   "source": [
    "#here we are trying to find the numbers of outliers and max and min of them to can detect them clearly:\n",
    "outliers = find_outliers_IQR(df['RestingBP'])\n",
    "print('number of outliers: '+ str(len(outliers)))\n",
    "\n",
    "print('max outlier value: '+ str(outliers.max()))\n",
    "\n",
    "print('min outlier value: '+ str(outliers.min()))"
   ]
  },
  {
   "cell_type": "markdown",
   "id": "304d85a8",
   "metadata": {
    "papermill": {
     "duration": 0.037485,
     "end_time": "2022-09-12T12:39:10.297300",
     "exception": false,
     "start_time": "2022-09-12T12:39:10.259815",
     "status": "completed"
    },
    "tags": []
   },
   "source": [
    "we find that there are 27 outliers and max ouliers id 200 and the min is 80 "
   ]
  },
  {
   "cell_type": "code",
   "execution_count": 25,
   "id": "23f4239f",
   "metadata": {
    "execution": {
     "iopub.execute_input": "2022-09-12T12:39:10.376452Z",
     "iopub.status.busy": "2022-09-12T12:39:10.375869Z",
     "iopub.status.idle": "2022-09-12T12:39:10.397529Z",
     "shell.execute_reply": "2022-09-12T12:39:10.395972Z"
    },
    "papermill": {
     "duration": 0.065149,
     "end_time": "2022-09-12T12:39:10.400950",
     "exception": false,
     "start_time": "2022-09-12T12:39:10.335801",
     "status": "completed"
    },
    "tags": []
   },
   "outputs": [
    {
     "name": "stdout",
     "output_type": "stream",
     "text": [
      "-Check Age outliers \n",
      "number of outliers: 0\n",
      "max outlier value: nan\n",
      "min outlier value: nan\n",
      "\n",
      "-Check RestingBP outliers \n",
      "number of outliers: 28\n",
      "max outlier value: 200\n",
      "min outlier value: 0\n",
      "\n",
      "-Check Cholesterol outliers \n",
      "number of outliers: 183\n",
      "max outlier value: 603\n",
      "min outlier value: 0\n",
      "\n",
      "-Check MaxHR outliers \n",
      "number of outliers: 2\n",
      "max outlier value: 63\n",
      "min outlier value: 60\n",
      "\n",
      "-Check Oldpeak outliers \n",
      "number of outliers: 16\n",
      "max outlier value: 6.2\n",
      "min outlier value: -2.6\n",
      "\n"
     ]
    }
   ],
   "source": [
    "for char in df_num_name :\n",
    "    outliers = find_outliers_IQR(df[str(char)])\n",
    "    \n",
    "    print(f\"-Check {char} outliers \")\n",
    "\n",
    "    print('number of outliers: '+ str(len(outliers)))\n",
    "\n",
    "    print('max outlier value: '+ str(outliers.max()))\n",
    "\n",
    "    print('min outlier value: '+ str(outliers.min())+ '\\n')"
   ]
  },
  {
   "cell_type": "code",
   "execution_count": 26,
   "id": "885bd662",
   "metadata": {
    "execution": {
     "iopub.execute_input": "2022-09-12T12:39:10.479665Z",
     "iopub.status.busy": "2022-09-12T12:39:10.479018Z",
     "iopub.status.idle": "2022-09-12T12:39:10.486260Z",
     "shell.execute_reply": "2022-09-12T12:39:10.485394Z"
    },
    "papermill": {
     "duration": 0.049565,
     "end_time": "2022-09-12T12:39:10.489141",
     "exception": false,
     "start_time": "2022-09-12T12:39:10.439576",
     "status": "completed"
    },
    "scrolled": true,
    "tags": []
   },
   "outputs": [
    {
     "name": "stdout",
     "output_type": "stream",
     "text": [
      " original shape of Cholesterol : (918,)\n",
      " zero values of Cholesterol : (172, 12)\n",
      " non zero values of Cholesterol : (746, 12)\n"
     ]
    }
   ],
   "source": [
    "print(f\" original shape of Cholesterol : {df.Cholesterol.shape}\")\n",
    "\n",
    "ziro_Cholesterol = df[df['Cholesterol'] == 0]\n",
    "print(f\" zero values of Cholesterol : {ziro_Cholesterol.shape}\")\n",
    "\n",
    "non_ziro_Cholesterol = df[df['Cholesterol'] != 0]\n",
    "print(f\" non zero values of Cholesterol : {non_ziro_Cholesterol.shape}\")"
   ]
  },
  {
   "cell_type": "code",
   "execution_count": 27,
   "id": "b6f4db60",
   "metadata": {
    "execution": {
     "iopub.execute_input": "2022-09-12T12:39:10.570675Z",
     "iopub.status.busy": "2022-09-12T12:39:10.569885Z",
     "iopub.status.idle": "2022-09-12T12:39:10.589389Z",
     "shell.execute_reply": "2022-09-12T12:39:10.588160Z"
    },
    "papermill": {
     "duration": 0.063537,
     "end_time": "2022-09-12T12:39:10.591823",
     "exception": false,
     "start_time": "2022-09-12T12:39:10.528286",
     "status": "completed"
    },
    "tags": []
   },
   "outputs": [
    {
     "data": {
      "text/html": [
       "<div>\n",
       "<style scoped>\n",
       "    .dataframe tbody tr th:only-of-type {\n",
       "        vertical-align: middle;\n",
       "    }\n",
       "\n",
       "    .dataframe tbody tr th {\n",
       "        vertical-align: top;\n",
       "    }\n",
       "\n",
       "    .dataframe thead th {\n",
       "        text-align: right;\n",
       "    }\n",
       "</style>\n",
       "<table border=\"1\" class=\"dataframe\">\n",
       "  <thead>\n",
       "    <tr style=\"text-align: right;\">\n",
       "      <th></th>\n",
       "      <th>Age</th>\n",
       "      <th>Sex</th>\n",
       "      <th>ChestPainType</th>\n",
       "      <th>RestingBP</th>\n",
       "      <th>Cholesterol</th>\n",
       "      <th>FastingBS</th>\n",
       "      <th>RestingECG</th>\n",
       "      <th>MaxHR</th>\n",
       "      <th>ExerciseAngina</th>\n",
       "      <th>Oldpeak</th>\n",
       "      <th>ST_Slope</th>\n",
       "      <th>HeartDisease</th>\n",
       "    </tr>\n",
       "  </thead>\n",
       "  <tbody>\n",
       "    <tr>\n",
       "      <th>0</th>\n",
       "      <td>40</td>\n",
       "      <td>M</td>\n",
       "      <td>ATA</td>\n",
       "      <td>140</td>\n",
       "      <td>289.0</td>\n",
       "      <td>0</td>\n",
       "      <td>Normal</td>\n",
       "      <td>172</td>\n",
       "      <td>N</td>\n",
       "      <td>0.0</td>\n",
       "      <td>Up</td>\n",
       "      <td>0</td>\n",
       "    </tr>\n",
       "    <tr>\n",
       "      <th>1</th>\n",
       "      <td>49</td>\n",
       "      <td>F</td>\n",
       "      <td>NAP</td>\n",
       "      <td>160</td>\n",
       "      <td>180.0</td>\n",
       "      <td>0</td>\n",
       "      <td>Normal</td>\n",
       "      <td>156</td>\n",
       "      <td>N</td>\n",
       "      <td>1.0</td>\n",
       "      <td>Flat</td>\n",
       "      <td>1</td>\n",
       "    </tr>\n",
       "    <tr>\n",
       "      <th>2</th>\n",
       "      <td>37</td>\n",
       "      <td>M</td>\n",
       "      <td>ATA</td>\n",
       "      <td>130</td>\n",
       "      <td>283.0</td>\n",
       "      <td>0</td>\n",
       "      <td>ST</td>\n",
       "      <td>98</td>\n",
       "      <td>N</td>\n",
       "      <td>0.0</td>\n",
       "      <td>Up</td>\n",
       "      <td>0</td>\n",
       "    </tr>\n",
       "    <tr>\n",
       "      <th>3</th>\n",
       "      <td>48</td>\n",
       "      <td>F</td>\n",
       "      <td>ASY</td>\n",
       "      <td>138</td>\n",
       "      <td>214.0</td>\n",
       "      <td>0</td>\n",
       "      <td>Normal</td>\n",
       "      <td>108</td>\n",
       "      <td>Y</td>\n",
       "      <td>1.5</td>\n",
       "      <td>Flat</td>\n",
       "      <td>1</td>\n",
       "    </tr>\n",
       "    <tr>\n",
       "      <th>4</th>\n",
       "      <td>54</td>\n",
       "      <td>M</td>\n",
       "      <td>NAP</td>\n",
       "      <td>150</td>\n",
       "      <td>195.0</td>\n",
       "      <td>0</td>\n",
       "      <td>Normal</td>\n",
       "      <td>122</td>\n",
       "      <td>N</td>\n",
       "      <td>0.0</td>\n",
       "      <td>Up</td>\n",
       "      <td>0</td>\n",
       "    </tr>\n",
       "  </tbody>\n",
       "</table>\n",
       "</div>"
      ],
      "text/plain": [
       "   Age Sex ChestPainType  RestingBP  Cholesterol  FastingBS RestingECG  MaxHR  \\\n",
       "0   40   M           ATA        140        289.0          0     Normal    172   \n",
       "1   49   F           NAP        160        180.0          0     Normal    156   \n",
       "2   37   M           ATA        130        283.0          0         ST     98   \n",
       "3   48   F           ASY        138        214.0          0     Normal    108   \n",
       "4   54   M           NAP        150        195.0          0     Normal    122   \n",
       "\n",
       "  ExerciseAngina  Oldpeak ST_Slope  HeartDisease  \n",
       "0              N      0.0       Up             0  \n",
       "1              N      1.0     Flat             1  \n",
       "2              N      0.0       Up             0  \n",
       "3              Y      1.5     Flat             1  \n",
       "4              N      0.0       Up             0  "
      ]
     },
     "execution_count": 27,
     "metadata": {},
     "output_type": "execute_result"
    }
   ],
   "source": [
    "df.loc[df['Cholesterol'] == 0,'Cholesterol'] = np.nan\n",
    "df.head(5)"
   ]
  },
  {
   "cell_type": "code",
   "execution_count": 28,
   "id": "c34339b2",
   "metadata": {
    "execution": {
     "iopub.execute_input": "2022-09-12T12:39:10.671767Z",
     "iopub.status.busy": "2022-09-12T12:39:10.671385Z",
     "iopub.status.idle": "2022-09-12T12:39:10.682714Z",
     "shell.execute_reply": "2022-09-12T12:39:10.681711Z"
    },
    "papermill": {
     "duration": 0.054041,
     "end_time": "2022-09-12T12:39:10.685036",
     "exception": false,
     "start_time": "2022-09-12T12:39:10.630995",
     "status": "completed"
    },
    "tags": []
   },
   "outputs": [
    {
     "data": {
      "text/plain": [
       "0      289.0\n",
       "1      180.0\n",
       "2      283.0\n",
       "3      214.0\n",
       "4      195.0\n",
       "       ...  \n",
       "913    264.0\n",
       "914    193.0\n",
       "915    131.0\n",
       "916    236.0\n",
       "917    175.0\n",
       "Name: Cholesterol, Length: 918, dtype: float64"
      ]
     },
     "execution_count": 28,
     "metadata": {},
     "output_type": "execute_result"
    }
   ],
   "source": [
    "df[\"Cholesterol\"] = df[\"Cholesterol\"].fillna(df[\"Cholesterol\"].median())\n",
    "df[\"Cholesterol\"]"
   ]
  },
  {
   "cell_type": "code",
   "execution_count": 29,
   "id": "0b7a3b0f",
   "metadata": {
    "execution": {
     "iopub.execute_input": "2022-09-12T12:39:10.767161Z",
     "iopub.status.busy": "2022-09-12T12:39:10.766040Z",
     "iopub.status.idle": "2022-09-12T12:39:10.783874Z",
     "shell.execute_reply": "2022-09-12T12:39:10.782338Z"
    },
    "papermill": {
     "duration": 0.062247,
     "end_time": "2022-09-12T12:39:10.786468",
     "exception": false,
     "start_time": "2022-09-12T12:39:10.724221",
     "status": "completed"
    },
    "tags": []
   },
   "outputs": [
    {
     "data": {
      "text/html": [
       "<div>\n",
       "<style scoped>\n",
       "    .dataframe tbody tr th:only-of-type {\n",
       "        vertical-align: middle;\n",
       "    }\n",
       "\n",
       "    .dataframe tbody tr th {\n",
       "        vertical-align: top;\n",
       "    }\n",
       "\n",
       "    .dataframe thead th {\n",
       "        text-align: right;\n",
       "    }\n",
       "</style>\n",
       "<table border=\"1\" class=\"dataframe\">\n",
       "  <thead>\n",
       "    <tr style=\"text-align: right;\">\n",
       "      <th></th>\n",
       "      <th>Age</th>\n",
       "      <th>Sex</th>\n",
       "      <th>ChestPainType</th>\n",
       "      <th>RestingBP</th>\n",
       "      <th>Cholesterol</th>\n",
       "      <th>FastingBS</th>\n",
       "      <th>RestingECG</th>\n",
       "      <th>MaxHR</th>\n",
       "      <th>ExerciseAngina</th>\n",
       "      <th>Oldpeak</th>\n",
       "      <th>ST_Slope</th>\n",
       "      <th>HeartDisease</th>\n",
       "    </tr>\n",
       "  </thead>\n",
       "  <tbody>\n",
       "    <tr>\n",
       "      <th>449</th>\n",
       "      <td>55</td>\n",
       "      <td>M</td>\n",
       "      <td>NAP</td>\n",
       "      <td>0</td>\n",
       "      <td>237.0</td>\n",
       "      <td>0</td>\n",
       "      <td>Normal</td>\n",
       "      <td>155</td>\n",
       "      <td>N</td>\n",
       "      <td>1.5</td>\n",
       "      <td>Flat</td>\n",
       "      <td>1</td>\n",
       "    </tr>\n",
       "  </tbody>\n",
       "</table>\n",
       "</div>"
      ],
      "text/plain": [
       "     Age Sex ChestPainType  RestingBP  Cholesterol  FastingBS RestingECG  \\\n",
       "449   55   M           NAP          0        237.0          0     Normal   \n",
       "\n",
       "     MaxHR ExerciseAngina  Oldpeak ST_Slope  HeartDisease  \n",
       "449    155              N      1.5     Flat             1  "
      ]
     },
     "execution_count": 29,
     "metadata": {},
     "output_type": "execute_result"
    }
   ],
   "source": [
    "ziro_RestingBP = df[df['RestingBP'] == 0]\n",
    "ziro_RestingBP"
   ]
  },
  {
   "cell_type": "code",
   "execution_count": 30,
   "id": "694f5182",
   "metadata": {
    "execution": {
     "iopub.execute_input": "2022-09-12T12:39:10.867010Z",
     "iopub.status.busy": "2022-09-12T12:39:10.866618Z",
     "iopub.status.idle": "2022-09-12T12:39:10.875383Z",
     "shell.execute_reply": "2022-09-12T12:39:10.873518Z"
    },
    "papermill": {
     "duration": 0.052539,
     "end_time": "2022-09-12T12:39:10.878137",
     "exception": false,
     "start_time": "2022-09-12T12:39:10.825598",
     "status": "completed"
    },
    "tags": []
   },
   "outputs": [],
   "source": [
    "df = df.drop(df[(df['RestingBP'] == 0)].index) \n",
    "#after this we decide to drop this columns "
   ]
  },
  {
   "cell_type": "code",
   "execution_count": 31,
   "id": "8ab9c663",
   "metadata": {
    "execution": {
     "iopub.execute_input": "2022-09-12T12:39:10.956942Z",
     "iopub.status.busy": "2022-09-12T12:39:10.956561Z",
     "iopub.status.idle": "2022-09-12T12:39:10.968337Z",
     "shell.execute_reply": "2022-09-12T12:39:10.966841Z"
    },
    "papermill": {
     "duration": 0.054102,
     "end_time": "2022-09-12T12:39:10.970857",
     "exception": false,
     "start_time": "2022-09-12T12:39:10.916755",
     "status": "completed"
    },
    "tags": []
   },
   "outputs": [],
   "source": [
    "normal_RestingBP = df[df['RestingBP'] <= 120 ]\n",
    "PreHyper_RestingBP = df[(df['RestingBP'] > 120) & (df['RestingBP']<= 139) ]\n",
    "High1_RestingBP = df[(df['RestingBP'] >= 140) & (df['RestingBP']<= 159) ]\n",
    "High2_RestingBP = df[(df['RestingBP'] >= 160) & (df['RestingBP']<= 180) ]\n",
    "HyperTensive_RestingBP = df[df['RestingBP'] >= 180]\n",
    "#here we detect the restingbp"
   ]
  },
  {
   "cell_type": "markdown",
   "id": "2bc8adf6",
   "metadata": {
    "papermill": {
     "duration": 0.039633,
     "end_time": "2022-09-12T12:39:11.049693",
     "exception": false,
     "start_time": "2022-09-12T12:39:11.010060",
     "status": "completed"
    },
    "tags": []
   },
   "source": [
    "# Encoding categorical features:"
   ]
  },
  {
   "cell_type": "code",
   "execution_count": 32,
   "id": "ed40222a",
   "metadata": {
    "execution": {
     "iopub.execute_input": "2022-09-12T12:39:11.129534Z",
     "iopub.status.busy": "2022-09-12T12:39:11.129128Z",
     "iopub.status.idle": "2022-09-12T12:39:11.134272Z",
     "shell.execute_reply": "2022-09-12T12:39:11.133034Z"
    },
    "papermill": {
     "duration": 0.048379,
     "end_time": "2022-09-12T12:39:11.136559",
     "exception": false,
     "start_time": "2022-09-12T12:39:11.088180",
     "status": "completed"
    },
    "tags": []
   },
   "outputs": [],
   "source": [
    "from sklearn.preprocessing import LabelEncoder\n"
   ]
  },
  {
   "cell_type": "code",
   "execution_count": 33,
   "id": "ee89e887",
   "metadata": {
    "execution": {
     "iopub.execute_input": "2022-09-12T12:39:11.217029Z",
     "iopub.status.busy": "2022-09-12T12:39:11.216635Z",
     "iopub.status.idle": "2022-09-12T12:39:11.221510Z",
     "shell.execute_reply": "2022-09-12T12:39:11.220555Z"
    },
    "papermill": {
     "duration": 0.04774,
     "end_time": "2022-09-12T12:39:11.223706",
     "exception": false,
     "start_time": "2022-09-12T12:39:11.175966",
     "status": "completed"
    },
    "tags": []
   },
   "outputs": [],
   "source": [
    "ChestPainType_le = LabelEncoder()\n",
    "RestingECG_le = LabelEncoder()\n",
    "ExerciseAngina_le = LabelEncoder()\n",
    "ST_Slope_le = LabelEncoder()\n",
    "Sex_le = LabelEncoder()\n"
   ]
  },
  {
   "cell_type": "code",
   "execution_count": 34,
   "id": "822c87ef",
   "metadata": {
    "execution": {
     "iopub.execute_input": "2022-09-12T12:39:11.303682Z",
     "iopub.status.busy": "2022-09-12T12:39:11.303272Z",
     "iopub.status.idle": "2022-09-12T12:39:11.310638Z",
     "shell.execute_reply": "2022-09-12T12:39:11.309283Z"
    },
    "papermill": {
     "duration": 0.050178,
     "end_time": "2022-09-12T12:39:11.312969",
     "exception": false,
     "start_time": "2022-09-12T12:39:11.262791",
     "status": "completed"
    },
    "tags": []
   },
   "outputs": [],
   "source": [
    "df['ChestPainType'] = ChestPainType_le.fit_transform(df['ChestPainType'])"
   ]
  },
  {
   "cell_type": "code",
   "execution_count": 35,
   "id": "56634d76",
   "metadata": {
    "execution": {
     "iopub.execute_input": "2022-09-12T12:39:11.393250Z",
     "iopub.status.busy": "2022-09-12T12:39:11.392823Z",
     "iopub.status.idle": "2022-09-12T12:39:11.399622Z",
     "shell.execute_reply": "2022-09-12T12:39:11.398493Z"
    },
    "papermill": {
     "duration": 0.049889,
     "end_time": "2022-09-12T12:39:11.401843",
     "exception": false,
     "start_time": "2022-09-12T12:39:11.351954",
     "status": "completed"
    },
    "tags": []
   },
   "outputs": [
    {
     "data": {
      "text/plain": [
       "array(['ASY', 'ATA', 'NAP', 'TA'], dtype=object)"
      ]
     },
     "execution_count": 35,
     "metadata": {},
     "output_type": "execute_result"
    }
   ],
   "source": [
    "ChestPainType_le.classes_"
   ]
  },
  {
   "cell_type": "code",
   "execution_count": 36,
   "id": "09c50f54",
   "metadata": {
    "execution": {
     "iopub.execute_input": "2022-09-12T12:39:11.481576Z",
     "iopub.status.busy": "2022-09-12T12:39:11.481183Z",
     "iopub.status.idle": "2022-09-12T12:39:11.487213Z",
     "shell.execute_reply": "2022-09-12T12:39:11.486026Z"
    },
    "papermill": {
     "duration": 0.049759,
     "end_time": "2022-09-12T12:39:11.489938",
     "exception": false,
     "start_time": "2022-09-12T12:39:11.440179",
     "status": "completed"
    },
    "tags": []
   },
   "outputs": [],
   "source": [
    "df['RestingECG'] = RestingECG_le.fit_transform(df['RestingECG'])\n"
   ]
  },
  {
   "cell_type": "code",
   "execution_count": 37,
   "id": "cc3fc328",
   "metadata": {
    "execution": {
     "iopub.execute_input": "2022-09-12T12:39:11.571506Z",
     "iopub.status.busy": "2022-09-12T12:39:11.571073Z",
     "iopub.status.idle": "2022-09-12T12:39:11.578260Z",
     "shell.execute_reply": "2022-09-12T12:39:11.577072Z"
    },
    "papermill": {
     "duration": 0.050861,
     "end_time": "2022-09-12T12:39:11.580817",
     "exception": false,
     "start_time": "2022-09-12T12:39:11.529956",
     "status": "completed"
    },
    "tags": []
   },
   "outputs": [
    {
     "data": {
      "text/plain": [
       "array(['LVH', 'Normal', 'ST'], dtype=object)"
      ]
     },
     "execution_count": 37,
     "metadata": {},
     "output_type": "execute_result"
    }
   ],
   "source": [
    "RestingECG_le.classes_"
   ]
  },
  {
   "cell_type": "code",
   "execution_count": 38,
   "id": "13b4d077",
   "metadata": {
    "execution": {
     "iopub.execute_input": "2022-09-12T12:39:11.661612Z",
     "iopub.status.busy": "2022-09-12T12:39:11.661224Z",
     "iopub.status.idle": "2022-09-12T12:39:11.667049Z",
     "shell.execute_reply": "2022-09-12T12:39:11.666166Z"
    },
    "papermill": {
     "duration": 0.048545,
     "end_time": "2022-09-12T12:39:11.669445",
     "exception": false,
     "start_time": "2022-09-12T12:39:11.620900",
     "status": "completed"
    },
    "tags": []
   },
   "outputs": [],
   "source": [
    "df['ST_Slope'] = ST_Slope_le.fit_transform(df['ExerciseAngina'])"
   ]
  },
  {
   "cell_type": "code",
   "execution_count": 39,
   "id": "286553b2",
   "metadata": {
    "execution": {
     "iopub.execute_input": "2022-09-12T12:39:11.750192Z",
     "iopub.status.busy": "2022-09-12T12:39:11.749752Z",
     "iopub.status.idle": "2022-09-12T12:39:11.755969Z",
     "shell.execute_reply": "2022-09-12T12:39:11.755146Z"
    },
    "papermill": {
     "duration": 0.049504,
     "end_time": "2022-09-12T12:39:11.758013",
     "exception": false,
     "start_time": "2022-09-12T12:39:11.708509",
     "status": "completed"
    },
    "tags": []
   },
   "outputs": [
    {
     "data": {
      "text/plain": [
       "array(['N', 'Y'], dtype=object)"
      ]
     },
     "execution_count": 39,
     "metadata": {},
     "output_type": "execute_result"
    }
   ],
   "source": [
    "ST_Slope_le.classes_"
   ]
  },
  {
   "cell_type": "code",
   "execution_count": 40,
   "id": "fa362718",
   "metadata": {
    "execution": {
     "iopub.execute_input": "2022-09-12T12:39:11.841294Z",
     "iopub.status.busy": "2022-09-12T12:39:11.840868Z",
     "iopub.status.idle": "2022-09-12T12:39:11.847140Z",
     "shell.execute_reply": "2022-09-12T12:39:11.846030Z"
    },
    "papermill": {
     "duration": 0.050789,
     "end_time": "2022-09-12T12:39:11.849610",
     "exception": false,
     "start_time": "2022-09-12T12:39:11.798821",
     "status": "completed"
    },
    "tags": []
   },
   "outputs": [],
   "source": [
    "df['ExerciseAngina'] = ExerciseAngina_le.fit_transform(df['ExerciseAngina'])"
   ]
  },
  {
   "cell_type": "code",
   "execution_count": 41,
   "id": "36aa3280",
   "metadata": {
    "execution": {
     "iopub.execute_input": "2022-09-12T12:39:11.930189Z",
     "iopub.status.busy": "2022-09-12T12:39:11.929727Z",
     "iopub.status.idle": "2022-09-12T12:39:11.937068Z",
     "shell.execute_reply": "2022-09-12T12:39:11.936003Z"
    },
    "papermill": {
     "duration": 0.050221,
     "end_time": "2022-09-12T12:39:11.939395",
     "exception": false,
     "start_time": "2022-09-12T12:39:11.889174",
     "status": "completed"
    },
    "tags": []
   },
   "outputs": [
    {
     "data": {
      "text/plain": [
       "array(['N', 'Y'], dtype=object)"
      ]
     },
     "execution_count": 41,
     "metadata": {},
     "output_type": "execute_result"
    }
   ],
   "source": [
    "ExerciseAngina_le.classes_"
   ]
  },
  {
   "cell_type": "code",
   "execution_count": 42,
   "id": "dd2d1087",
   "metadata": {
    "execution": {
     "iopub.execute_input": "2022-09-12T12:39:12.022521Z",
     "iopub.status.busy": "2022-09-12T12:39:12.021554Z",
     "iopub.status.idle": "2022-09-12T12:39:12.027936Z",
     "shell.execute_reply": "2022-09-12T12:39:12.026717Z"
    },
    "papermill": {
     "duration": 0.051059,
     "end_time": "2022-09-12T12:39:12.030570",
     "exception": false,
     "start_time": "2022-09-12T12:39:11.979511",
     "status": "completed"
    },
    "tags": []
   },
   "outputs": [],
   "source": [
    "df['Sex'] = Sex_le.fit_transform(df['Sex'])"
   ]
  },
  {
   "cell_type": "code",
   "execution_count": 43,
   "id": "24621484",
   "metadata": {
    "execution": {
     "iopub.execute_input": "2022-09-12T12:39:12.113046Z",
     "iopub.status.busy": "2022-09-12T12:39:12.112365Z",
     "iopub.status.idle": "2022-09-12T12:39:12.119869Z",
     "shell.execute_reply": "2022-09-12T12:39:12.118763Z"
    },
    "papermill": {
     "duration": 0.051,
     "end_time": "2022-09-12T12:39:12.122125",
     "exception": false,
     "start_time": "2022-09-12T12:39:12.071125",
     "status": "completed"
    },
    "tags": []
   },
   "outputs": [
    {
     "data": {
      "text/plain": [
       "array(['F', 'M'], dtype=object)"
      ]
     },
     "execution_count": 43,
     "metadata": {},
     "output_type": "execute_result"
    }
   ],
   "source": [
    "Sex_le.classes_"
   ]
  },
  {
   "cell_type": "code",
   "execution_count": 44,
   "id": "97f5b986",
   "metadata": {
    "execution": {
     "iopub.execute_input": "2022-09-12T12:39:12.202439Z",
     "iopub.status.busy": "2022-09-12T12:39:12.202004Z",
     "iopub.status.idle": "2022-09-12T12:39:12.218148Z",
     "shell.execute_reply": "2022-09-12T12:39:12.216444Z"
    },
    "papermill": {
     "duration": 0.060191,
     "end_time": "2022-09-12T12:39:12.221416",
     "exception": false,
     "start_time": "2022-09-12T12:39:12.161225",
     "status": "completed"
    },
    "tags": []
   },
   "outputs": [
    {
     "name": "stdout",
     "output_type": "stream",
     "text": [
      "<class 'pandas.core.frame.DataFrame'>\n",
      "Int64Index: 917 entries, 0 to 917\n",
      "Data columns (total 12 columns):\n",
      " #   Column          Non-Null Count  Dtype  \n",
      "---  ------          --------------  -----  \n",
      " 0   Age             917 non-null    int64  \n",
      " 1   Sex             917 non-null    int64  \n",
      " 2   ChestPainType   917 non-null    int64  \n",
      " 3   RestingBP       917 non-null    int64  \n",
      " 4   Cholesterol     917 non-null    float64\n",
      " 5   FastingBS       917 non-null    int64  \n",
      " 6   RestingECG      917 non-null    int64  \n",
      " 7   MaxHR           917 non-null    int64  \n",
      " 8   ExerciseAngina  917 non-null    int64  \n",
      " 9   Oldpeak         917 non-null    float64\n",
      " 10  ST_Slope        917 non-null    int64  \n",
      " 11  HeartDisease    917 non-null    int64  \n",
      "dtypes: float64(2), int64(10)\n",
      "memory usage: 93.1 KB\n"
     ]
    }
   ],
   "source": [
    "df.info()"
   ]
  },
  {
   "cell_type": "markdown",
   "id": "6ea0e29f",
   "metadata": {
    "papermill": {
     "duration": 0.039569,
     "end_time": "2022-09-12T12:39:12.301073",
     "exception": false,
     "start_time": "2022-09-12T12:39:12.261504",
     "status": "completed"
    },
    "tags": []
   },
   "source": [
    "# Split and test the data:"
   ]
  },
  {
   "cell_type": "code",
   "execution_count": 45,
   "id": "c844e767",
   "metadata": {
    "execution": {
     "iopub.execute_input": "2022-09-12T12:39:12.382382Z",
     "iopub.status.busy": "2022-09-12T12:39:12.381925Z",
     "iopub.status.idle": "2022-09-12T12:39:12.388823Z",
     "shell.execute_reply": "2022-09-12T12:39:12.387942Z"
    },
    "papermill": {
     "duration": 0.050367,
     "end_time": "2022-09-12T12:39:12.391120",
     "exception": false,
     "start_time": "2022-09-12T12:39:12.340753",
     "status": "completed"
    },
    "tags": []
   },
   "outputs": [],
   "source": [
    "x = df.drop('HeartDisease', axis=1)\n",
    "y = df.HeartDisease\n",
    "#here we seprate the target "
   ]
  },
  {
   "cell_type": "code",
   "execution_count": 46,
   "id": "608ab85e",
   "metadata": {
    "execution": {
     "iopub.execute_input": "2022-09-12T12:39:12.471441Z",
     "iopub.status.busy": "2022-09-12T12:39:12.470997Z",
     "iopub.status.idle": "2022-09-12T12:39:12.479303Z",
     "shell.execute_reply": "2022-09-12T12:39:12.478112Z"
    },
    "papermill": {
     "duration": 0.051836,
     "end_time": "2022-09-12T12:39:12.481811",
     "exception": false,
     "start_time": "2022-09-12T12:39:12.429975",
     "status": "completed"
    },
    "tags": []
   },
   "outputs": [],
   "source": [
    "from sklearn.model_selection import train_test_split\n",
    "X_train,X_test,y_train,y_test = train_test_split(x,y,test_size=0.2,random_state=21)"
   ]
  },
  {
   "cell_type": "code",
   "execution_count": 47,
   "id": "cfec5156",
   "metadata": {
    "execution": {
     "iopub.execute_input": "2022-09-12T12:39:12.563751Z",
     "iopub.status.busy": "2022-09-12T12:39:12.563027Z",
     "iopub.status.idle": "2022-09-12T12:39:12.577170Z",
     "shell.execute_reply": "2022-09-12T12:39:12.575931Z"
    },
    "papermill": {
     "duration": 0.057757,
     "end_time": "2022-09-12T12:39:12.579580",
     "exception": false,
     "start_time": "2022-09-12T12:39:12.521823",
     "status": "completed"
    },
    "tags": []
   },
   "outputs": [],
   "source": [
    "from sklearn.preprocessing import StandardScaler\n",
    "std_scaler = StandardScaler()\n",
    "std_scaler.fit(x)\n",
    "X_train_std=std_scaler.transform(X_train)\n",
    "X_test_std=std_scaler.transform(X_test)\n",
    "\n",
    "X_train = pd.DataFrame(X_train_std, columns=x.columns)\n",
    "X_test = pd.DataFrame(X_test_std, columns=x.columns)"
   ]
  },
  {
   "cell_type": "code",
   "execution_count": 48,
   "id": "b7b48709",
   "metadata": {
    "execution": {
     "iopub.execute_input": "2022-09-12T12:39:12.660205Z",
     "iopub.status.busy": "2022-09-12T12:39:12.659755Z",
     "iopub.status.idle": "2022-09-12T12:39:12.690761Z",
     "shell.execute_reply": "2022-09-12T12:39:12.689616Z"
    },
    "papermill": {
     "duration": 0.074513,
     "end_time": "2022-09-12T12:39:12.693206",
     "exception": false,
     "start_time": "2022-09-12T12:39:12.618693",
     "status": "completed"
    },
    "tags": []
   },
   "outputs": [
    {
     "data": {
      "text/html": [
       "<div>\n",
       "<style scoped>\n",
       "    .dataframe tbody tr th:only-of-type {\n",
       "        vertical-align: middle;\n",
       "    }\n",
       "\n",
       "    .dataframe tbody tr th {\n",
       "        vertical-align: top;\n",
       "    }\n",
       "\n",
       "    .dataframe thead th {\n",
       "        text-align: right;\n",
       "    }\n",
       "</style>\n",
       "<table border=\"1\" class=\"dataframe\">\n",
       "  <thead>\n",
       "    <tr style=\"text-align: right;\">\n",
       "      <th></th>\n",
       "      <th>Age</th>\n",
       "      <th>Sex</th>\n",
       "      <th>ChestPainType</th>\n",
       "      <th>RestingBP</th>\n",
       "      <th>Cholesterol</th>\n",
       "      <th>FastingBS</th>\n",
       "      <th>RestingECG</th>\n",
       "      <th>MaxHR</th>\n",
       "      <th>ExerciseAngina</th>\n",
       "      <th>Oldpeak</th>\n",
       "      <th>ST_Slope</th>\n",
       "    </tr>\n",
       "  </thead>\n",
       "  <tbody>\n",
       "    <tr>\n",
       "      <th>0</th>\n",
       "      <td>0.052026</td>\n",
       "      <td>0.516309</td>\n",
       "      <td>1.276887</td>\n",
       "      <td>0.970493</td>\n",
       "      <td>-0.902823</td>\n",
       "      <td>-0.551733</td>\n",
       "      <td>0.017264</td>\n",
       "      <td>-0.581047</td>\n",
       "      <td>-0.824310</td>\n",
       "      <td>-0.831502</td>\n",
       "      <td>-0.824310</td>\n",
       "    </tr>\n",
       "    <tr>\n",
       "      <th>1</th>\n",
       "      <td>0.052026</td>\n",
       "      <td>-1.936826</td>\n",
       "      <td>0.230501</td>\n",
       "      <td>0.414627</td>\n",
       "      <td>1.231972</td>\n",
       "      <td>-0.551733</td>\n",
       "      <td>1.600366</td>\n",
       "      <td>0.126132</td>\n",
       "      <td>-0.824310</td>\n",
       "      <td>-0.831502</td>\n",
       "      <td>-0.824310</td>\n",
       "    </tr>\n",
       "    <tr>\n",
       "      <th>2</th>\n",
       "      <td>0.158042</td>\n",
       "      <td>0.516309</td>\n",
       "      <td>-0.815884</td>\n",
       "      <td>-0.030066</td>\n",
       "      <td>2.055929</td>\n",
       "      <td>-0.551733</td>\n",
       "      <td>0.017264</td>\n",
       "      <td>-0.188170</td>\n",
       "      <td>1.213136</td>\n",
       "      <td>0.293802</td>\n",
       "      <td>1.213136</td>\n",
       "    </tr>\n",
       "    <tr>\n",
       "      <th>3</th>\n",
       "      <td>-1.114157</td>\n",
       "      <td>-1.936826</td>\n",
       "      <td>1.276887</td>\n",
       "      <td>0.970493</td>\n",
       "      <td>0.202027</td>\n",
       "      <td>-0.551733</td>\n",
       "      <td>0.017264</td>\n",
       "      <td>1.501203</td>\n",
       "      <td>-0.824310</td>\n",
       "      <td>-0.831502</td>\n",
       "      <td>-0.824310</td>\n",
       "    </tr>\n",
       "    <tr>\n",
       "      <th>4</th>\n",
       "      <td>-0.372041</td>\n",
       "      <td>0.516309</td>\n",
       "      <td>-0.815884</td>\n",
       "      <td>0.414627</td>\n",
       "      <td>-0.228677</td>\n",
       "      <td>-0.551733</td>\n",
       "      <td>1.600366</td>\n",
       "      <td>0.126132</td>\n",
       "      <td>1.213136</td>\n",
       "      <td>3.857266</td>\n",
       "      <td>1.213136</td>\n",
       "    </tr>\n",
       "  </tbody>\n",
       "</table>\n",
       "</div>"
      ],
      "text/plain": [
       "        Age       Sex  ChestPainType  RestingBP  Cholesterol  FastingBS  \\\n",
       "0  0.052026  0.516309       1.276887   0.970493    -0.902823  -0.551733   \n",
       "1  0.052026 -1.936826       0.230501   0.414627     1.231972  -0.551733   \n",
       "2  0.158042  0.516309      -0.815884  -0.030066     2.055929  -0.551733   \n",
       "3 -1.114157 -1.936826       1.276887   0.970493     0.202027  -0.551733   \n",
       "4 -0.372041  0.516309      -0.815884   0.414627    -0.228677  -0.551733   \n",
       "\n",
       "   RestingECG     MaxHR  ExerciseAngina   Oldpeak  ST_Slope  \n",
       "0    0.017264 -0.581047       -0.824310 -0.831502 -0.824310  \n",
       "1    1.600366  0.126132       -0.824310 -0.831502 -0.824310  \n",
       "2    0.017264 -0.188170        1.213136  0.293802  1.213136  \n",
       "3    0.017264  1.501203       -0.824310 -0.831502 -0.824310  \n",
       "4    1.600366  0.126132        1.213136  3.857266  1.213136  "
      ]
     },
     "metadata": {},
     "output_type": "display_data"
    },
    {
     "data": {
      "text/html": [
       "<div>\n",
       "<style scoped>\n",
       "    .dataframe tbody tr th:only-of-type {\n",
       "        vertical-align: middle;\n",
       "    }\n",
       "\n",
       "    .dataframe tbody tr th {\n",
       "        vertical-align: top;\n",
       "    }\n",
       "\n",
       "    .dataframe thead th {\n",
       "        text-align: right;\n",
       "    }\n",
       "</style>\n",
       "<table border=\"1\" class=\"dataframe\">\n",
       "  <thead>\n",
       "    <tr style=\"text-align: right;\">\n",
       "      <th></th>\n",
       "      <th>Age</th>\n",
       "      <th>Sex</th>\n",
       "      <th>ChestPainType</th>\n",
       "      <th>RestingBP</th>\n",
       "      <th>Cholesterol</th>\n",
       "      <th>FastingBS</th>\n",
       "      <th>RestingECG</th>\n",
       "      <th>MaxHR</th>\n",
       "      <th>ExerciseAngina</th>\n",
       "      <th>Oldpeak</th>\n",
       "      <th>ST_Slope</th>\n",
       "    </tr>\n",
       "  </thead>\n",
       "  <tbody>\n",
       "    <tr>\n",
       "      <th>0</th>\n",
       "      <td>0.370075</td>\n",
       "      <td>-1.936826</td>\n",
       "      <td>2.323272</td>\n",
       "      <td>-0.141240</td>\n",
       "      <td>1.213246</td>\n",
       "      <td>-0.551733</td>\n",
       "      <td>0.017264</td>\n",
       "      <td>-1.523953</td>\n",
       "      <td>-0.824310</td>\n",
       "      <td>0.106251</td>\n",
       "      <td>-0.824310</td>\n",
       "    </tr>\n",
       "    <tr>\n",
       "      <th>1</th>\n",
       "      <td>-1.114157</td>\n",
       "      <td>0.516309</td>\n",
       "      <td>-0.815884</td>\n",
       "      <td>-0.697106</td>\n",
       "      <td>-1.277348</td>\n",
       "      <td>-0.551733</td>\n",
       "      <td>0.017264</td>\n",
       "      <td>-0.659623</td>\n",
       "      <td>1.213136</td>\n",
       "      <td>0.106251</td>\n",
       "      <td>1.213136</td>\n",
       "    </tr>\n",
       "    <tr>\n",
       "      <th>2</th>\n",
       "      <td>-1.432206</td>\n",
       "      <td>0.516309</td>\n",
       "      <td>-0.815884</td>\n",
       "      <td>-0.697106</td>\n",
       "      <td>4.171998</td>\n",
       "      <td>1.812470</td>\n",
       "      <td>0.017264</td>\n",
       "      <td>0.597585</td>\n",
       "      <td>1.213136</td>\n",
       "      <td>0.106251</td>\n",
       "      <td>1.213136</td>\n",
       "    </tr>\n",
       "    <tr>\n",
       "      <th>3</th>\n",
       "      <td>-1.114157</td>\n",
       "      <td>0.516309</td>\n",
       "      <td>-0.815884</td>\n",
       "      <td>-0.697106</td>\n",
       "      <td>-1.239896</td>\n",
       "      <td>-0.551733</td>\n",
       "      <td>-1.565838</td>\n",
       "      <td>-0.659623</td>\n",
       "      <td>1.213136</td>\n",
       "      <td>1.512882</td>\n",
       "      <td>1.213136</td>\n",
       "    </tr>\n",
       "    <tr>\n",
       "      <th>4</th>\n",
       "      <td>0.476092</td>\n",
       "      <td>0.516309</td>\n",
       "      <td>0.230501</td>\n",
       "      <td>-0.363586</td>\n",
       "      <td>-0.116319</td>\n",
       "      <td>1.812470</td>\n",
       "      <td>0.017264</td>\n",
       "      <td>-1.052500</td>\n",
       "      <td>1.213136</td>\n",
       "      <td>1.044005</td>\n",
       "      <td>1.213136</td>\n",
       "    </tr>\n",
       "  </tbody>\n",
       "</table>\n",
       "</div>"
      ],
      "text/plain": [
       "        Age       Sex  ChestPainType  RestingBP  Cholesterol  FastingBS  \\\n",
       "0  0.370075 -1.936826       2.323272  -0.141240     1.213246  -0.551733   \n",
       "1 -1.114157  0.516309      -0.815884  -0.697106    -1.277348  -0.551733   \n",
       "2 -1.432206  0.516309      -0.815884  -0.697106     4.171998   1.812470   \n",
       "3 -1.114157  0.516309      -0.815884  -0.697106    -1.239896  -0.551733   \n",
       "4  0.476092  0.516309       0.230501  -0.363586    -0.116319   1.812470   \n",
       "\n",
       "   RestingECG     MaxHR  ExerciseAngina   Oldpeak  ST_Slope  \n",
       "0    0.017264 -1.523953       -0.824310  0.106251 -0.824310  \n",
       "1    0.017264 -0.659623        1.213136  0.106251  1.213136  \n",
       "2    0.017264  0.597585        1.213136  0.106251  1.213136  \n",
       "3   -1.565838 -0.659623        1.213136  1.512882  1.213136  \n",
       "4    0.017264 -1.052500        1.213136  1.044005  1.213136  "
      ]
     },
     "metadata": {},
     "output_type": "display_data"
    }
   ],
   "source": [
    "display(X_train.head())\n",
    "display(X_test.head())"
   ]
  },
  {
   "cell_type": "markdown",
   "id": "50c1735d",
   "metadata": {
    "papermill": {
     "duration": 0.03947,
     "end_time": "2022-09-12T12:39:12.773326",
     "exception": false,
     "start_time": "2022-09-12T12:39:12.733856",
     "status": "completed"
    },
    "tags": []
   },
   "source": [
    "# Modeling by different methods  :"
   ]
  },
  {
   "cell_type": "markdown",
   "id": "1fc0024b",
   "metadata": {
    "papermill": {
     "duration": 0.04066,
     "end_time": "2022-09-12T12:39:12.854463",
     "exception": false,
     "start_time": "2022-09-12T12:39:12.813803",
     "status": "completed"
    },
    "tags": []
   },
   "source": [
    "# Logistic Regression :\n"
   ]
  },
  {
   "cell_type": "code",
   "execution_count": 49,
   "id": "28ea0651",
   "metadata": {
    "execution": {
     "iopub.execute_input": "2022-09-12T12:39:12.935900Z",
     "iopub.status.busy": "2022-09-12T12:39:12.935503Z",
     "iopub.status.idle": "2022-09-12T12:39:12.939928Z",
     "shell.execute_reply": "2022-09-12T12:39:12.938966Z"
    },
    "papermill": {
     "duration": 0.047876,
     "end_time": "2022-09-12T12:39:12.941930",
     "exception": false,
     "start_time": "2022-09-12T12:39:12.894054",
     "status": "completed"
    },
    "tags": []
   },
   "outputs": [],
   "source": [
    "lr = LogisticRegression(C = 80)"
   ]
  },
  {
   "cell_type": "code",
   "execution_count": 50,
   "id": "c3321bd1",
   "metadata": {
    "execution": {
     "iopub.execute_input": "2022-09-12T12:39:13.025723Z",
     "iopub.status.busy": "2022-09-12T12:39:13.024917Z",
     "iopub.status.idle": "2022-09-12T12:39:13.043608Z",
     "shell.execute_reply": "2022-09-12T12:39:13.042565Z"
    },
    "papermill": {
     "duration": 0.063046,
     "end_time": "2022-09-12T12:39:13.046066",
     "exception": false,
     "start_time": "2022-09-12T12:39:12.983020",
     "status": "completed"
    },
    "tags": []
   },
   "outputs": [
    {
     "data": {
      "text/plain": [
       "LogisticRegression(C=80)"
      ]
     },
     "execution_count": 50,
     "metadata": {},
     "output_type": "execute_result"
    }
   ],
   "source": [
    "lr.fit(X_train , y_train)"
   ]
  },
  {
   "cell_type": "code",
   "execution_count": 51,
   "id": "5ca647c3",
   "metadata": {
    "execution": {
     "iopub.execute_input": "2022-09-12T12:39:13.127904Z",
     "iopub.status.busy": "2022-09-12T12:39:13.127187Z",
     "iopub.status.idle": "2022-09-12T12:39:13.136709Z",
     "shell.execute_reply": "2022-09-12T12:39:13.135599Z"
    },
    "papermill": {
     "duration": 0.053091,
     "end_time": "2022-09-12T12:39:13.139236",
     "exception": false,
     "start_time": "2022-09-12T12:39:13.086145",
     "status": "completed"
    },
    "tags": []
   },
   "outputs": [
    {
     "data": {
      "text/plain": [
       "0.8240109140518418"
      ]
     },
     "execution_count": 51,
     "metadata": {},
     "output_type": "execute_result"
    }
   ],
   "source": [
    "lr.score(X_train , y_train)"
   ]
  },
  {
   "cell_type": "code",
   "execution_count": 52,
   "id": "33483acf",
   "metadata": {
    "execution": {
     "iopub.execute_input": "2022-09-12T12:39:13.243143Z",
     "iopub.status.busy": "2022-09-12T12:39:13.241948Z",
     "iopub.status.idle": "2022-09-12T12:39:13.251605Z",
     "shell.execute_reply": "2022-09-12T12:39:13.250526Z"
    },
    "papermill": {
     "duration": 0.074969,
     "end_time": "2022-09-12T12:39:13.253986",
     "exception": false,
     "start_time": "2022-09-12T12:39:13.179017",
     "status": "completed"
    },
    "tags": []
   },
   "outputs": [
    {
     "data": {
      "text/plain": [
       "0.8315217391304348"
      ]
     },
     "execution_count": 52,
     "metadata": {},
     "output_type": "execute_result"
    }
   ],
   "source": [
    "lr.score(X_test , y_test)"
   ]
  },
  {
   "cell_type": "code",
   "execution_count": 53,
   "id": "e6d51ad4",
   "metadata": {
    "execution": {
     "iopub.execute_input": "2022-09-12T12:39:13.337695Z",
     "iopub.status.busy": "2022-09-12T12:39:13.337006Z",
     "iopub.status.idle": "2022-09-12T12:39:13.347208Z",
     "shell.execute_reply": "2022-09-12T12:39:13.346056Z"
    },
    "papermill": {
     "duration": 0.054562,
     "end_time": "2022-09-12T12:39:13.349809",
     "exception": false,
     "start_time": "2022-09-12T12:39:13.295247",
     "status": "completed"
    },
    "tags": []
   },
   "outputs": [
    {
     "data": {
      "text/plain": [
       "array([0, 1, 1, 1, 1, 1, 0, 0, 0, 0, 0, 0, 0, 0, 1, 0, 1, 1, 1, 0, 0, 0,\n",
       "       1, 0, 1, 1, 1, 0, 1, 0, 1, 0, 0, 0, 0, 0, 1, 0, 1, 1, 0, 1, 1, 1,\n",
       "       1, 0, 1, 1, 0, 1, 1, 0, 1, 1, 1, 1, 0, 0, 1, 1, 1, 1, 0, 1, 0, 0,\n",
       "       0, 1, 1, 0, 1, 1, 1, 0, 0, 1, 0, 1, 1, 0, 1, 0, 0, 1, 1, 1, 1, 1,\n",
       "       1, 0, 1, 0, 1, 0, 1, 1, 0, 0, 1, 1, 0, 0, 0, 1, 1, 1, 0, 0, 0, 0,\n",
       "       0, 1, 0, 1, 0, 0, 0, 1, 1, 1, 1, 0, 0, 1, 1, 0, 1, 1, 1, 1, 0, 0,\n",
       "       0, 1, 0, 1, 1, 0, 0, 1, 1, 0, 1, 0, 1, 1, 0, 0, 1, 1, 1, 1, 0, 0,\n",
       "       0, 0, 1, 1, 0, 1, 1, 0, 1, 1, 0, 0, 1, 1, 0, 1, 1, 1, 1, 0, 1, 1,\n",
       "       1, 1, 1, 0, 1, 1, 1, 0])"
      ]
     },
     "execution_count": 53,
     "metadata": {},
     "output_type": "execute_result"
    }
   ],
   "source": [
    "lr.predict(X_test)"
   ]
  },
  {
   "cell_type": "code",
   "execution_count": 54,
   "id": "56ef834c",
   "metadata": {
    "execution": {
     "iopub.execute_input": "2022-09-12T12:39:13.433615Z",
     "iopub.status.busy": "2022-09-12T12:39:13.432572Z",
     "iopub.status.idle": "2022-09-12T12:39:13.447080Z",
     "shell.execute_reply": "2022-09-12T12:39:13.446088Z"
    },
    "papermill": {
     "duration": 0.058379,
     "end_time": "2022-09-12T12:39:13.449448",
     "exception": false,
     "start_time": "2022-09-12T12:39:13.391069",
     "status": "completed"
    },
    "tags": []
   },
   "outputs": [
    {
     "data": {
      "text/html": [
       "<div>\n",
       "<style scoped>\n",
       "    .dataframe tbody tr th:only-of-type {\n",
       "        vertical-align: middle;\n",
       "    }\n",
       "\n",
       "    .dataframe tbody tr th {\n",
       "        vertical-align: top;\n",
       "    }\n",
       "\n",
       "    .dataframe thead th {\n",
       "        text-align: right;\n",
       "    }\n",
       "</style>\n",
       "<table border=\"1\" class=\"dataframe\">\n",
       "  <thead>\n",
       "    <tr style=\"text-align: right;\">\n",
       "      <th></th>\n",
       "      <th>Y_test</th>\n",
       "      <th>Y_pred</th>\n",
       "    </tr>\n",
       "  </thead>\n",
       "  <tbody>\n",
       "    <tr>\n",
       "      <th>199</th>\n",
       "      <td>0</td>\n",
       "      <td>0</td>\n",
       "    </tr>\n",
       "    <tr>\n",
       "      <th>44</th>\n",
       "      <td>1</td>\n",
       "      <td>1</td>\n",
       "    </tr>\n",
       "    <tr>\n",
       "      <th>103</th>\n",
       "      <td>1</td>\n",
       "      <td>1</td>\n",
       "    </tr>\n",
       "    <tr>\n",
       "      <th>852</th>\n",
       "      <td>1</td>\n",
       "      <td>1</td>\n",
       "    </tr>\n",
       "    <tr>\n",
       "      <th>480</th>\n",
       "      <td>1</td>\n",
       "      <td>1</td>\n",
       "    </tr>\n",
       "    <tr>\n",
       "      <th>665</th>\n",
       "      <td>1</td>\n",
       "      <td>1</td>\n",
       "    </tr>\n",
       "    <tr>\n",
       "      <th>146</th>\n",
       "      <td>0</td>\n",
       "      <td>0</td>\n",
       "    </tr>\n",
       "    <tr>\n",
       "      <th>128</th>\n",
       "      <td>0</td>\n",
       "      <td>0</td>\n",
       "    </tr>\n",
       "    <tr>\n",
       "      <th>260</th>\n",
       "      <td>0</td>\n",
       "      <td>0</td>\n",
       "    </tr>\n",
       "    <tr>\n",
       "      <th>811</th>\n",
       "      <td>0</td>\n",
       "      <td>0</td>\n",
       "    </tr>\n",
       "  </tbody>\n",
       "</table>\n",
       "</div>"
      ],
      "text/plain": [
       "     Y_test  Y_pred\n",
       "199       0       0\n",
       "44        1       1\n",
       "103       1       1\n",
       "852       1       1\n",
       "480       1       1\n",
       "665       1       1\n",
       "146       0       0\n",
       "128       0       0\n",
       "260       0       0\n",
       "811       0       0"
      ]
     },
     "execution_count": 54,
     "metadata": {},
     "output_type": "execute_result"
    }
   ],
   "source": [
    "Y_pred = lr.predict(X_test)\n",
    "data = pd.DataFrame({\"Y_test\" : y_test , \"Y_pred\": Y_pred})\n",
    "data.head(10)"
   ]
  },
  {
   "cell_type": "markdown",
   "id": "920fe045",
   "metadata": {
    "papermill": {
     "duration": 0.040941,
     "end_time": "2022-09-12T12:39:13.530857",
     "exception": false,
     "start_time": "2022-09-12T12:39:13.489916",
     "status": "completed"
    },
    "tags": []
   },
   "source": [
    "# KNN:"
   ]
  },
  {
   "cell_type": "code",
   "execution_count": 55,
   "id": "947bda8d",
   "metadata": {
    "execution": {
     "iopub.execute_input": "2022-09-12T12:39:13.613272Z",
     "iopub.status.busy": "2022-09-12T12:39:13.612203Z",
     "iopub.status.idle": "2022-09-12T12:39:13.617731Z",
     "shell.execute_reply": "2022-09-12T12:39:13.616483Z"
    },
    "papermill": {
     "duration": 0.049349,
     "end_time": "2022-09-12T12:39:13.619924",
     "exception": false,
     "start_time": "2022-09-12T12:39:13.570575",
     "status": "completed"
    },
    "tags": []
   },
   "outputs": [],
   "source": [
    "from sklearn.neighbors import KNeighborsClassifier\n"
   ]
  },
  {
   "cell_type": "code",
   "execution_count": 56,
   "id": "e0bff82b",
   "metadata": {
    "execution": {
     "iopub.execute_input": "2022-09-12T12:39:13.702235Z",
     "iopub.status.busy": "2022-09-12T12:39:13.701206Z",
     "iopub.status.idle": "2022-09-12T12:39:13.707057Z",
     "shell.execute_reply": "2022-09-12T12:39:13.705917Z"
    },
    "papermill": {
     "duration": 0.049524,
     "end_time": "2022-09-12T12:39:13.709572",
     "exception": false,
     "start_time": "2022-09-12T12:39:13.660048",
     "status": "completed"
    },
    "tags": []
   },
   "outputs": [],
   "source": [
    "knn = KNeighborsClassifier(n_neighbors=10)"
   ]
  },
  {
   "cell_type": "code",
   "execution_count": 57,
   "id": "85f0e3ba",
   "metadata": {
    "execution": {
     "iopub.execute_input": "2022-09-12T12:39:13.792926Z",
     "iopub.status.busy": "2022-09-12T12:39:13.792506Z",
     "iopub.status.idle": "2022-09-12T12:39:13.803708Z",
     "shell.execute_reply": "2022-09-12T12:39:13.802721Z"
    },
    "papermill": {
     "duration": 0.056411,
     "end_time": "2022-09-12T12:39:13.805872",
     "exception": false,
     "start_time": "2022-09-12T12:39:13.749461",
     "status": "completed"
    },
    "tags": []
   },
   "outputs": [
    {
     "data": {
      "text/plain": [
       "KNeighborsClassifier(n_neighbors=10)"
      ]
     },
     "execution_count": 57,
     "metadata": {},
     "output_type": "execute_result"
    }
   ],
   "source": [
    "knn.fit(X_train , y_train)"
   ]
  },
  {
   "cell_type": "code",
   "execution_count": 58,
   "id": "15116050",
   "metadata": {
    "execution": {
     "iopub.execute_input": "2022-09-12T12:39:13.887795Z",
     "iopub.status.busy": "2022-09-12T12:39:13.887415Z",
     "iopub.status.idle": "2022-09-12T12:39:13.926931Z",
     "shell.execute_reply": "2022-09-12T12:39:13.925891Z"
    },
    "papermill": {
     "duration": 0.083461,
     "end_time": "2022-09-12T12:39:13.929354",
     "exception": false,
     "start_time": "2022-09-12T12:39:13.845893",
     "status": "completed"
    },
    "tags": []
   },
   "outputs": [
    {
     "data": {
      "text/plain": [
       "0.8281036834924966"
      ]
     },
     "execution_count": 58,
     "metadata": {},
     "output_type": "execute_result"
    }
   ],
   "source": [
    "knn.score(X_train , y_train)"
   ]
  },
  {
   "cell_type": "code",
   "execution_count": 59,
   "id": "f2a1102b",
   "metadata": {
    "execution": {
     "iopub.execute_input": "2022-09-12T12:39:14.014636Z",
     "iopub.status.busy": "2022-09-12T12:39:14.013853Z",
     "iopub.status.idle": "2022-09-12T12:39:14.032124Z",
     "shell.execute_reply": "2022-09-12T12:39:14.030823Z"
    },
    "papermill": {
     "duration": 0.064176,
     "end_time": "2022-09-12T12:39:14.034664",
     "exception": false,
     "start_time": "2022-09-12T12:39:13.970488",
     "status": "completed"
    },
    "tags": []
   },
   "outputs": [
    {
     "data": {
      "text/plain": [
       "0.7989130434782609"
      ]
     },
     "execution_count": 59,
     "metadata": {},
     "output_type": "execute_result"
    }
   ],
   "source": [
    "knn.score(X_test , y_test)"
   ]
  },
  {
   "cell_type": "markdown",
   "id": "8280eabe",
   "metadata": {
    "papermill": {
     "duration": 0.104967,
     "end_time": "2022-09-12T12:39:14.180018",
     "exception": false,
     "start_time": "2022-09-12T12:39:14.075051",
     "status": "completed"
    },
    "tags": []
   },
   "source": [
    "# Decision Tree:\n"
   ]
  },
  {
   "cell_type": "code",
   "execution_count": 60,
   "id": "882957a2",
   "metadata": {
    "execution": {
     "iopub.execute_input": "2022-09-12T12:39:14.263305Z",
     "iopub.status.busy": "2022-09-12T12:39:14.262562Z",
     "iopub.status.idle": "2022-09-12T12:39:14.267080Z",
     "shell.execute_reply": "2022-09-12T12:39:14.266180Z"
    },
    "papermill": {
     "duration": 0.048874,
     "end_time": "2022-09-12T12:39:14.269373",
     "exception": false,
     "start_time": "2022-09-12T12:39:14.220499",
     "status": "completed"
    },
    "tags": []
   },
   "outputs": [],
   "source": [
    "dt =DecisionTreeClassifier(max_features=9 ,    max_depth=4)"
   ]
  },
  {
   "cell_type": "code",
   "execution_count": 61,
   "id": "7b295d9c",
   "metadata": {
    "execution": {
     "iopub.execute_input": "2022-09-12T12:39:14.353814Z",
     "iopub.status.busy": "2022-09-12T12:39:14.352815Z",
     "iopub.status.idle": "2022-09-12T12:39:14.364724Z",
     "shell.execute_reply": "2022-09-12T12:39:14.363551Z"
    },
    "papermill": {
     "duration": 0.056498,
     "end_time": "2022-09-12T12:39:14.366931",
     "exception": false,
     "start_time": "2022-09-12T12:39:14.310433",
     "status": "completed"
    },
    "tags": []
   },
   "outputs": [
    {
     "data": {
      "text/plain": [
       "DecisionTreeClassifier(max_depth=4, max_features=9)"
      ]
     },
     "execution_count": 61,
     "metadata": {},
     "output_type": "execute_result"
    }
   ],
   "source": [
    "dt.fit(X_train , y_train)"
   ]
  },
  {
   "cell_type": "code",
   "execution_count": 62,
   "id": "cc21d49f",
   "metadata": {
    "execution": {
     "iopub.execute_input": "2022-09-12T12:39:14.451392Z",
     "iopub.status.busy": "2022-09-12T12:39:14.450434Z",
     "iopub.status.idle": "2022-09-12T12:39:14.460575Z",
     "shell.execute_reply": "2022-09-12T12:39:14.459728Z"
    },
    "papermill": {
     "duration": 0.054413,
     "end_time": "2022-09-12T12:39:14.462723",
     "exception": false,
     "start_time": "2022-09-12T12:39:14.408310",
     "status": "completed"
    },
    "tags": []
   },
   "outputs": [
    {
     "data": {
      "text/plain": [
       "0.8281036834924966"
      ]
     },
     "execution_count": 62,
     "metadata": {},
     "output_type": "execute_result"
    }
   ],
   "source": [
    "dt.score(X_train , y_train)"
   ]
  },
  {
   "cell_type": "code",
   "execution_count": 63,
   "id": "138c4d7b",
   "metadata": {
    "execution": {
     "iopub.execute_input": "2022-09-12T12:39:14.548472Z",
     "iopub.status.busy": "2022-09-12T12:39:14.547846Z",
     "iopub.status.idle": "2022-09-12T12:39:14.556839Z",
     "shell.execute_reply": "2022-09-12T12:39:14.555598Z"
    },
    "papermill": {
     "duration": 0.056003,
     "end_time": "2022-09-12T12:39:14.559554",
     "exception": false,
     "start_time": "2022-09-12T12:39:14.503551",
     "status": "completed"
    },
    "tags": []
   },
   "outputs": [
    {
     "data": {
      "text/plain": [
       "0.8206521739130435"
      ]
     },
     "execution_count": 63,
     "metadata": {},
     "output_type": "execute_result"
    }
   ],
   "source": [
    "dt.score(X_test , y_test)\n"
   ]
  },
  {
   "cell_type": "code",
   "execution_count": 64,
   "id": "f5a1f20b",
   "metadata": {
    "execution": {
     "iopub.execute_input": "2022-09-12T12:39:14.643786Z",
     "iopub.status.busy": "2022-09-12T12:39:14.643315Z",
     "iopub.status.idle": "2022-09-12T12:39:16.382447Z",
     "shell.execute_reply": "2022-09-12T12:39:16.381195Z"
    },
    "papermill": {
     "duration": 1.784518,
     "end_time": "2022-09-12T12:39:16.385700",
     "exception": false,
     "start_time": "2022-09-12T12:39:14.601182",
     "status": "completed"
    },
    "tags": []
   },
   "outputs": [
    {
     "data": {
      "text/plain": [
       "[Text(0.49107142857142855, 0.9, 'X[2] <= -0.293\\ngini = 0.496\\nsamples = 733\\nvalue = [334, 399]'),\n",
       " Text(0.26785714285714285, 0.7, 'X[9] <= -0.222\\ngini = 0.35\\nsamples = 394\\nvalue = [89, 305]'),\n",
       " Text(0.14285714285714285, 0.5, 'X[5] <= 0.63\\ngini = 0.486\\nsamples = 156\\nvalue = [65, 91]'),\n",
       " Text(0.07142857142857142, 0.3, 'X[10] <= 0.194\\ngini = 0.5\\nsamples = 119\\nvalue = [60, 59]'),\n",
       " Text(0.03571428571428571, 0.1, 'gini = 0.469\\nsamples = 80\\nvalue = [50, 30]'),\n",
       " Text(0.10714285714285714, 0.1, 'gini = 0.381\\nsamples = 39\\nvalue = [10, 29]'),\n",
       " Text(0.21428571428571427, 0.3, 'X[3] <= -0.086\\ngini = 0.234\\nsamples = 37\\nvalue = [5, 32]'),\n",
       " Text(0.17857142857142858, 0.1, 'gini = 0.074\\nsamples = 26\\nvalue = [1, 25]'),\n",
       " Text(0.25, 0.1, 'gini = 0.463\\nsamples = 11\\nvalue = [4, 7]'),\n",
       " Text(0.39285714285714285, 0.5, 'X[4] <= 3.563\\ngini = 0.181\\nsamples = 238\\nvalue = [24, 214]'),\n",
       " Text(0.35714285714285715, 0.3, 'X[3] <= -2.587\\ngini = 0.175\\nsamples = 237\\nvalue = [23, 214]'),\n",
       " Text(0.32142857142857145, 0.1, 'gini = 0.0\\nsamples = 1\\nvalue = [1, 0]'),\n",
       " Text(0.39285714285714285, 0.1, 'gini = 0.169\\nsamples = 236\\nvalue = [22, 214]'),\n",
       " Text(0.42857142857142855, 0.3, 'gini = 0.0\\nsamples = 1\\nvalue = [1, 0]'),\n",
       " Text(0.7142857142857143, 0.7, 'X[8] <= 0.194\\ngini = 0.401\\nsamples = 339\\nvalue = [245, 94]'),\n",
       " Text(0.5714285714285714, 0.5, 'X[9] <= 1.138\\ngini = 0.323\\nsamples = 282\\nvalue = [225, 57]'),\n",
       " Text(0.5, 0.3, 'X[0] <= 0.317\\ngini = 0.287\\nsamples = 265\\nvalue = [219, 46]'),\n",
       " Text(0.4642857142857143, 0.1, 'gini = 0.185\\nsamples = 203\\nvalue = [182, 21]'),\n",
       " Text(0.5357142857142857, 0.1, 'gini = 0.481\\nsamples = 62\\nvalue = [37, 25]'),\n",
       " Text(0.6428571428571429, 0.3, 'X[3] <= 0.609\\ngini = 0.457\\nsamples = 17\\nvalue = [6, 11]'),\n",
       " Text(0.6071428571428571, 0.1, 'gini = 0.355\\nsamples = 13\\nvalue = [3, 10]'),\n",
       " Text(0.6785714285714286, 0.1, 'gini = 0.375\\nsamples = 4\\nvalue = [3, 1]'),\n",
       " Text(0.8571428571428571, 0.5, 'X[7] <= 0.558\\ngini = 0.456\\nsamples = 57\\nvalue = [20, 37]'),\n",
       " Text(0.7857142857142857, 0.3, 'X[1] <= -0.71\\ngini = 0.34\\nsamples = 46\\nvalue = [10, 36]'),\n",
       " Text(0.75, 0.1, 'gini = 0.48\\nsamples = 5\\nvalue = [3, 2]'),\n",
       " Text(0.8214285714285714, 0.1, 'gini = 0.283\\nsamples = 41\\nvalue = [7, 34]'),\n",
       " Text(0.9285714285714286, 0.3, 'X[7] <= 1.717\\ngini = 0.165\\nsamples = 11\\nvalue = [10, 1]'),\n",
       " Text(0.8928571428571429, 0.1, 'gini = 0.0\\nsamples = 10\\nvalue = [10, 0]'),\n",
       " Text(0.9642857142857143, 0.1, 'gini = 0.0\\nsamples = 1\\nvalue = [0, 1]')]"
      ]
     },
     "execution_count": 64,
     "metadata": {},
     "output_type": "execute_result"
    },
    {
     "data": {
      "image/png": "[encoded data removed]",
      "text/plain": [
       "<Figure size 1080x864 with 1 Axes>"
      ]
     },
     "metadata": {
      "needs_background": "light"
     },
     "output_type": "display_data"
    }
   ],
   "source": [
    "from sklearn import tree\n",
    "fig = plt.figure(figsize = (15,12))\n",
    "tree.plot_tree(dt , filled= True)"
   ]
  },
  {
   "cell_type": "code",
   "execution_count": 65,
   "id": "66a3629a",
   "metadata": {
    "execution": {
     "iopub.execute_input": "2022-09-12T12:39:16.473723Z",
     "iopub.status.busy": "2022-09-12T12:39:16.472675Z",
     "iopub.status.idle": "2022-09-12T12:39:16.486471Z",
     "shell.execute_reply": "2022-09-12T12:39:16.485336Z"
    },
    "papermill": {
     "duration": 0.059882,
     "end_time": "2022-09-12T12:39:16.488780",
     "exception": false,
     "start_time": "2022-09-12T12:39:16.428898",
     "status": "completed"
    },
    "tags": []
   },
   "outputs": [
    {
     "data": {
      "text/html": [
       "<div>\n",
       "<style scoped>\n",
       "    .dataframe tbody tr th:only-of-type {\n",
       "        vertical-align: middle;\n",
       "    }\n",
       "\n",
       "    .dataframe tbody tr th {\n",
       "        vertical-align: top;\n",
       "    }\n",
       "\n",
       "    .dataframe thead th {\n",
       "        text-align: right;\n",
       "    }\n",
       "</style>\n",
       "<table border=\"1\" class=\"dataframe\">\n",
       "  <thead>\n",
       "    <tr style=\"text-align: right;\">\n",
       "      <th></th>\n",
       "      <th>Y_test</th>\n",
       "      <th>Y_pred</th>\n",
       "    </tr>\n",
       "  </thead>\n",
       "  <tbody>\n",
       "    <tr>\n",
       "      <th>199</th>\n",
       "      <td>0</td>\n",
       "      <td>0</td>\n",
       "    </tr>\n",
       "    <tr>\n",
       "      <th>44</th>\n",
       "      <td>1</td>\n",
       "      <td>1</td>\n",
       "    </tr>\n",
       "    <tr>\n",
       "      <th>103</th>\n",
       "      <td>1</td>\n",
       "      <td>0</td>\n",
       "    </tr>\n",
       "    <tr>\n",
       "      <th>852</th>\n",
       "      <td>1</td>\n",
       "      <td>1</td>\n",
       "    </tr>\n",
       "    <tr>\n",
       "      <th>480</th>\n",
       "      <td>1</td>\n",
       "      <td>1</td>\n",
       "    </tr>\n",
       "    <tr>\n",
       "      <th>665</th>\n",
       "      <td>1</td>\n",
       "      <td>1</td>\n",
       "    </tr>\n",
       "    <tr>\n",
       "      <th>146</th>\n",
       "      <td>0</td>\n",
       "      <td>0</td>\n",
       "    </tr>\n",
       "    <tr>\n",
       "      <th>128</th>\n",
       "      <td>0</td>\n",
       "      <td>0</td>\n",
       "    </tr>\n",
       "    <tr>\n",
       "      <th>260</th>\n",
       "      <td>0</td>\n",
       "      <td>0</td>\n",
       "    </tr>\n",
       "    <tr>\n",
       "      <th>811</th>\n",
       "      <td>0</td>\n",
       "      <td>1</td>\n",
       "    </tr>\n",
       "  </tbody>\n",
       "</table>\n",
       "</div>"
      ],
      "text/plain": [
       "     Y_test  Y_pred\n",
       "199       0       0\n",
       "44        1       1\n",
       "103       1       0\n",
       "852       1       1\n",
       "480       1       1\n",
       "665       1       1\n",
       "146       0       0\n",
       "128       0       0\n",
       "260       0       0\n",
       "811       0       1"
      ]
     },
     "execution_count": 65,
     "metadata": {},
     "output_type": "execute_result"
    }
   ],
   "source": [
    "Y_pred = dt.predict(X_test)\n",
    "data = pd.DataFrame({\"Y_test\" : y_test , \"Y_pred\": Y_pred})\n",
    "data.head(10)"
   ]
  },
  {
   "cell_type": "code",
   "execution_count": 66,
   "id": "43ad001b",
   "metadata": {
    "execution": {
     "iopub.execute_input": "2022-09-12T12:39:16.576789Z",
     "iopub.status.busy": "2022-09-12T12:39:16.576336Z",
     "iopub.status.idle": "2022-09-12T12:39:16.756579Z",
     "shell.execute_reply": "2022-09-12T12:39:16.755636Z"
    },
    "papermill": {
     "duration": 0.226573,
     "end_time": "2022-09-12T12:39:16.758900",
     "exception": false,
     "start_time": "2022-09-12T12:39:16.532327",
     "status": "completed"
    },
    "tags": []
   },
   "outputs": [
    {
     "data": {
      "image/png": "[encoded data removed]",
      "text/plain": [
       "<Figure size 432x288 with 1 Axes>"
      ]
     },
     "metadata": {
      "needs_background": "light"
     },
     "output_type": "display_data"
    }
   ],
   "source": [
    "def f_importances(coef, names, top=-1):\n",
    "    imp = coef\n",
    "    imp, names = zip(*sorted(list(zip(imp, names))))\n",
    "\n",
    "    # Show all features\n",
    "    if top == -1:\n",
    "        top = len(names)\n",
    "\n",
    "    plt.barh(range(top), imp[::-1][0:top], align='center')\n",
    "    plt.yticks(range(top), names[::-1][0:top])\n",
    "    plt.title('feature importances for dt')\n",
    "    plt.show()\n",
    "\n",
    "# whatever your features are called\n",
    "features_names = list(df.columns)\n",
    "    \n",
    "#dt= DecisionTreeClassifier (max_depth=7, max_features=6)\n",
    "#df.fit(x_train,y_train)\n",
    "\n",
    "# Specify your top n features you want to visualize.\n",
    "# You can also discard the abs() function \n",
    "# if you are interested in negative contribution of features\n",
    "f_importances(abs(dt.feature_importances_), features_names, top=7)"
   ]
  },
  {
   "cell_type": "code",
   "execution_count": 67,
   "id": "340c908f",
   "metadata": {
    "execution": {
     "iopub.execute_input": "2022-09-12T12:39:16.847078Z",
     "iopub.status.busy": "2022-09-12T12:39:16.846343Z",
     "iopub.status.idle": "2022-09-12T12:39:16.856818Z",
     "shell.execute_reply": "2022-09-12T12:39:16.855422Z"
    },
    "papermill": {
     "duration": 0.057016,
     "end_time": "2022-09-12T12:39:16.859288",
     "exception": false,
     "start_time": "2022-09-12T12:39:16.802272",
     "status": "completed"
    },
    "tags": []
   },
   "outputs": [
    {
     "name": "stdout",
     "output_type": "stream",
     "text": [
      "Training set score: 0.8281\n",
      "Test set score: 0.8207\n"
     ]
    }
   ],
   "source": [
    "# print the scores on training and test set\n",
    "\n",
    "print('Training set score: {:.4f}'.format(dt.score(X_train, y_train)))\n",
    "\n",
    "print('Test set score: {:.4f}'.format(dt.score(X_test, y_test)))"
   ]
  },
  {
   "cell_type": "code",
   "execution_count": 68,
   "id": "a8d66c77",
   "metadata": {
    "execution": {
     "iopub.execute_input": "2022-09-12T12:39:16.946557Z",
     "iopub.status.busy": "2022-09-12T12:39:16.946167Z",
     "iopub.status.idle": "2022-09-12T12:39:16.957753Z",
     "shell.execute_reply": "2022-09-12T12:39:16.956128Z"
    },
    "papermill": {
     "duration": 0.05842,
     "end_time": "2022-09-12T12:39:16.960197",
     "exception": false,
     "start_time": "2022-09-12T12:39:16.901777",
     "status": "completed"
    },
    "tags": []
   },
   "outputs": [
    {
     "name": "stdout",
     "output_type": "stream",
     "text": [
      "              precision    recall  f1-score   support\n",
      "\n",
      "           0       0.76      0.83      0.79        76\n",
      "           1       0.87      0.81      0.84       108\n",
      "\n",
      "    accuracy                           0.82       184\n",
      "   macro avg       0.82      0.82      0.82       184\n",
      "weighted avg       0.82      0.82      0.82       184\n",
      "\n"
     ]
    }
   ],
   "source": [
    "#Classification Report#:it seems it is very good \n",
    "from sklearn.metrics import classification_report\n",
    "\n",
    "print(classification_report(y_test, Y_pred))"
   ]
  },
  {
   "cell_type": "code",
   "execution_count": 69,
   "id": "b6df04b7",
   "metadata": {
    "execution": {
     "iopub.execute_input": "2022-09-12T12:39:17.048019Z",
     "iopub.status.busy": "2022-09-12T12:39:17.047412Z",
     "iopub.status.idle": "2022-09-12T12:39:17.051152Z",
     "shell.execute_reply": "2022-09-12T12:39:17.050324Z"
    },
    "papermill": {
     "duration": 0.050039,
     "end_time": "2022-09-12T12:39:17.053400",
     "exception": false,
     "start_time": "2022-09-12T12:39:17.003361",
     "status": "completed"
    },
    "tags": []
   },
   "outputs": [],
   "source": [
    "#Here, the training-set accuracy score is0.8226 while the test-set accuracy to be 0.8207 \n",
    "#These two values are quite comparable.\n",
    "#So, there is no sign of overfitting"
   ]
  },
  {
   "cell_type": "markdown",
   "id": "8b8da9ee",
   "metadata": {
    "papermill": {
     "duration": 0.042312,
     "end_time": "2022-09-12T12:39:17.138381",
     "exception": false,
     "start_time": "2022-09-12T12:39:17.096069",
     "status": "completed"
    },
    "tags": []
   },
   "source": [
    "# Random Forest:"
   ]
  },
  {
   "cell_type": "code",
   "execution_count": 70,
   "id": "dc93bc51",
   "metadata": {
    "execution": {
     "iopub.execute_input": "2022-09-12T12:39:17.226091Z",
     "iopub.status.busy": "2022-09-12T12:39:17.225462Z",
     "iopub.status.idle": "2022-09-12T12:39:17.230040Z",
     "shell.execute_reply": "2022-09-12T12:39:17.229192Z"
    },
    "papermill": {
     "duration": 0.051149,
     "end_time": "2022-09-12T12:39:17.232290",
     "exception": false,
     "start_time": "2022-09-12T12:39:17.181141",
     "status": "completed"
    },
    "tags": []
   },
   "outputs": [],
   "source": [
    "rf = RandomForestClassifier(max_features=7 ,    max_depth=3)"
   ]
  },
  {
   "cell_type": "code",
   "execution_count": 71,
   "id": "5cb758b4",
   "metadata": {
    "execution": {
     "iopub.execute_input": "2022-09-12T12:39:17.320676Z",
     "iopub.status.busy": "2022-09-12T12:39:17.319758Z",
     "iopub.status.idle": "2022-09-12T12:39:17.520892Z",
     "shell.execute_reply": "2022-09-12T12:39:17.519730Z"
    },
    "papermill": {
     "duration": 0.2484,
     "end_time": "2022-09-12T12:39:17.523455",
     "exception": false,
     "start_time": "2022-09-12T12:39:17.275055",
     "status": "completed"
    },
    "tags": []
   },
   "outputs": [
    {
     "data": {
      "text/plain": [
       "0.8362892223738063"
      ]
     },
     "execution_count": 71,
     "metadata": {},
     "output_type": "execute_result"
    }
   ],
   "source": [
    "rf.fit(X_train , y_train)\n",
    "rf.score(X_train , y_train)"
   ]
  },
  {
   "cell_type": "code",
   "execution_count": 72,
   "id": "a296fa13",
   "metadata": {
    "execution": {
     "iopub.execute_input": "2022-09-12T12:39:17.611796Z",
     "iopub.status.busy": "2022-09-12T12:39:17.611388Z",
     "iopub.status.idle": "2022-09-12T12:39:17.632747Z",
     "shell.execute_reply": "2022-09-12T12:39:17.631813Z"
    },
    "papermill": {
     "duration": 0.06905,
     "end_time": "2022-09-12T12:39:17.635171",
     "exception": false,
     "start_time": "2022-09-12T12:39:17.566121",
     "status": "completed"
    },
    "tags": []
   },
   "outputs": [
    {
     "data": {
      "text/plain": [
       "0.8206521739130435"
      ]
     },
     "execution_count": 72,
     "metadata": {},
     "output_type": "execute_result"
    }
   ],
   "source": [
    "rf.score(X_test , y_test)"
   ]
  },
  {
   "cell_type": "code",
   "execution_count": 73,
   "id": "96b0284f",
   "metadata": {
    "execution": {
     "iopub.execute_input": "2022-09-12T12:39:17.723424Z",
     "iopub.status.busy": "2022-09-12T12:39:17.722825Z",
     "iopub.status.idle": "2022-09-12T12:39:17.924267Z",
     "shell.execute_reply": "2022-09-12T12:39:17.923151Z"
    },
    "papermill": {
     "duration": 0.248416,
     "end_time": "2022-09-12T12:39:17.926698",
     "exception": false,
     "start_time": "2022-09-12T12:39:17.678282",
     "status": "completed"
    },
    "tags": []
   },
   "outputs": [
    {
     "data": {
      "image/png": "[encoded data removed]",
      "text/plain": [
       "<Figure size 432x288 with 1 Axes>"
      ]
     },
     "metadata": {
      "needs_background": "light"
     },
     "output_type": "display_data"
    }
   ],
   "source": [
    "def f_importances(coef, names, top=-1):\n",
    "    imp = coef\n",
    "    imp, names = zip(*sorted(list(zip(imp, names))))\n",
    "\n",
    "    # Show all features\n",
    "    if top == -1:\n",
    "        top = len(names)\n",
    "\n",
    "    plt.barh(range(top), imp[::-1][0:top], align='center')\n",
    "    plt.yticks(range(top), names[::-1][0:top])\n",
    "    plt.title('feature importances')\n",
    "    plt.show()\n",
    "\n",
    "# whatever your features are called\n",
    "features_names = list(df.columns)\n",
    "    \n",
    "rf =RandomForestClassifier(n_estimators=4 , max_depth=3 , min_samples_split=25 , max_features=4)\n",
    "rf.fit(X_train,y_train)\n",
    "\n",
    "# Specify your top n features you want to visualize.\n",
    "# You can also discard the abs() function \n",
    "# if you are interested in negative contribution of features\n",
    "f_importances(abs(rf.feature_importances_), features_names, top=8)"
   ]
  },
  {
   "cell_type": "code",
   "execution_count": 74,
   "id": "0b4284d0",
   "metadata": {
    "execution": {
     "iopub.execute_input": "2022-09-12T12:39:18.015971Z",
     "iopub.status.busy": "2022-09-12T12:39:18.015039Z",
     "iopub.status.idle": "2022-09-12T12:39:18.022270Z",
     "shell.execute_reply": "2022-09-12T12:39:18.021382Z"
    },
    "papermill": {
     "duration": 0.054301,
     "end_time": "2022-09-12T12:39:18.024633",
     "exception": false,
     "start_time": "2022-09-12T12:39:17.970332",
     "status": "completed"
    },
    "tags": []
   },
   "outputs": [],
   "source": [
    "from sklearn.metrics import accuracy_score, precision_score, recall_score, f1_score\n",
    "Accuracy, Precision, Recall, F1= {}, {}, {}, {}\n",
    "models = {}\n",
    "models['Logistic Regression'] = LogisticRegression(penalty='l1', solver='liblinear', max_iter=1000)\n",
    "models['K-Nearest Neighbor'] = KNeighborsClassifier(n_neighbors=6, algorithm='kd_tree', metric='manhattan')\n",
    "models['Decision Trees'] = DecisionTreeClassifier(criterion='gini', max_depth=4)\n",
    "models['Random Forest'] = RandomForestClassifier(n_estimators = 85, min_samples_split= 8, min_samples_leaf= 3, max_features= 'auto',\n",
    "                                      max_depth= 50, bootstrap= True, random_state=125)"
   ]
  },
  {
   "cell_type": "code",
   "execution_count": 75,
   "id": "6a909ec7",
   "metadata": {
    "execution": {
     "iopub.execute_input": "2022-09-12T12:39:18.113638Z",
     "iopub.status.busy": "2022-09-12T12:39:18.112883Z",
     "iopub.status.idle": "2022-09-12T12:39:18.319890Z",
     "shell.execute_reply": "2022-09-12T12:39:18.318557Z"
    },
    "papermill": {
     "duration": 0.254291,
     "end_time": "2022-09-12T12:39:18.322944",
     "exception": false,
     "start_time": "2022-09-12T12:39:18.068653",
     "status": "completed"
    },
    "tags": []
   },
   "outputs": [],
   "source": [
    "for key in models.keys():\n",
    "\n",
    "    # Fit the classifier model\n",
    "    models[key].fit(X_train, y_train)\n",
    "    \n",
    "    # Prediction \n",
    "    predictions = models[key].predict(X_test)\n",
    "    \n",
    "    # Calculate Accuracy, Precision and Recall Metrics\n",
    "    Accuracy[key] = accuracy_score(predictions, y_test)\n",
    "    Precision[key] = precision_score(predictions, y_test)\n",
    "    Recall[key] = recall_score(predictions, y_test)\n",
    "    F1[key] = f1_score(predictions, y_test)"
   ]
  },
  {
   "cell_type": "code",
   "execution_count": 76,
   "id": "aa15787d",
   "metadata": {
    "execution": {
     "iopub.execute_input": "2022-09-12T12:39:18.431793Z",
     "iopub.status.busy": "2022-09-12T12:39:18.430507Z",
     "iopub.status.idle": "2022-09-12T12:39:18.444289Z",
     "shell.execute_reply": "2022-09-12T12:39:18.443435Z"
    },
    "papermill": {
     "duration": 0.079594,
     "end_time": "2022-09-12T12:39:18.446393",
     "exception": false,
     "start_time": "2022-09-12T12:39:18.366799",
     "status": "completed"
    },
    "tags": []
   },
   "outputs": [
    {
     "data": {
      "text/plain": [
       "<bound method DataFrame.sort_values of                      Accuracy  Precision    Recall  F1 Score\n",
       "Logistic Regression  0.831522   0.833333  0.873786  0.853081\n",
       "K-Nearest Neighbor   0.820652   0.824074  0.864078  0.843602\n",
       "Decision Trees       0.798913   0.833333  0.825688  0.829493\n",
       "Random Forest        0.788043   0.824074  0.816514  0.820276>"
      ]
     },
     "execution_count": 76,
     "metadata": {},
     "output_type": "execute_result"
    }
   ],
   "source": [
    "df_model = pd.DataFrame(index=models.keys(), columns=['Accuracy', 'Precision', 'Recall', 'F1 Score'])\n",
    "df_model['Accuracy'] = Accuracy.values()\n",
    "df_model['Precision'] = Precision.values()\n",
    "df_model['Recall'] = Recall.values()\n",
    "df_model['F1 Score'] = F1.values()\n",
    "df_model.sort_values"
   ]
  },
  {
   "cell_type": "code",
   "execution_count": 77,
   "id": "4ea3fcda",
   "metadata": {
    "execution": {
     "iopub.execute_input": "2022-09-12T12:39:18.535435Z",
     "iopub.status.busy": "2022-09-12T12:39:18.534736Z",
     "iopub.status.idle": "2022-09-12T12:39:19.012589Z",
     "shell.execute_reply": "2022-09-12T12:39:19.011584Z"
    },
    "papermill": {
     "duration": 0.525399,
     "end_time": "2022-09-12T12:39:19.015166",
     "exception": false,
     "start_time": "2022-09-12T12:39:18.489767",
     "status": "completed"
    },
    "tags": []
   },
   "outputs": [
    {
     "data": {
      "text/plain": [
       "<matplotlib.legend.Legend at 0x7fb86233b4d0>"
      ]
     },
     "execution_count": 77,
     "metadata": {},
     "output_type": "execute_result"
    },
    {
     "data": {
      "image/png": "[encoded data removed]",
      "text/plain": [
       "<Figure size 1080x576 with 1 Axes>"
      ]
     },
     "metadata": {
      "needs_background": "light"
     },
     "output_type": "display_data"
    }
   ],
   "source": [
    "plt.rcParams[\"figure.figsize\"] = (15,8)\n",
    "ax = df_model.sort_values(by='Accuracy',ascending=False).plot.bar(rot=0)\n",
    "ax.title.set_text('Comparaison of Models')\n",
    "ax.legend(ncol= len(models.keys()), bbox_to_anchor=(0, 1), loc='upper left',prop={'size': 13})\n"
   ]
  },
  {
   "cell_type": "code",
   "execution_count": 78,
   "id": "b7214810",
   "metadata": {
    "execution": {
     "iopub.execute_input": "2022-09-12T12:39:19.105161Z",
     "iopub.status.busy": "2022-09-12T12:39:19.104748Z",
     "iopub.status.idle": "2022-09-12T12:39:19.109506Z",
     "shell.execute_reply": "2022-09-12T12:39:19.108396Z"
    },
    "papermill": {
     "duration": 0.052192,
     "end_time": "2022-09-12T12:39:19.111893",
     "exception": false,
     "start_time": "2022-09-12T12:39:19.059701",
     "status": "completed"
    },
    "tags": []
   },
   "outputs": [],
   "source": [
    "#after this comparesion we find that the logistic regression has the highest acc "
   ]
  },
  {
   "cell_type": "markdown",
   "id": "1a59f4d0",
   "metadata": {
    "papermill": {
     "duration": 0.043874,
     "end_time": "2022-09-12T12:39:19.200067",
     "exception": false,
     "start_time": "2022-09-12T12:39:19.156193",
     "status": "completed"
    },
    "tags": []
   },
   "source": [
    "# XGBoost Model :"
   ]
  },
  {
   "cell_type": "code",
   "execution_count": 79,
   "id": "22ed90c7",
   "metadata": {
    "execution": {
     "iopub.execute_input": "2022-09-12T12:39:19.290026Z",
     "iopub.status.busy": "2022-09-12T12:39:19.288826Z",
     "iopub.status.idle": "2022-09-12T12:39:31.808342Z",
     "shell.execute_reply": "2022-09-12T12:39:31.806857Z"
    },
    "papermill": {
     "duration": 12.567544,
     "end_time": "2022-09-12T12:39:31.811209",
     "exception": false,
     "start_time": "2022-09-12T12:39:19.243665",
     "status": "completed"
    },
    "tags": []
   },
   "outputs": [
    {
     "name": "stdout",
     "output_type": "stream",
     "text": [
      "Requirement already satisfied: xgboost in /opt/conda/lib/python3.7/site-packages (1.6.1)\r\n",
      "Requirement already satisfied: scipy in /opt/conda/lib/python3.7/site-packages (from xgboost) (1.7.3)\r\n",
      "Requirement already satisfied: numpy in /opt/conda/lib/python3.7/site-packages (from xgboost) (1.21.6)\r\n",
      "\u001b[33mWARNING: Running pip as the 'root' user can result in broken permissions and conflicting behaviour with the system package manager. It is recommended to use a virtual environment instead: https://pip.pypa.io/warnings/venv\u001b[0m\u001b[33m\r\n",
      "\u001b[0mNote: you may need to restart the kernel to use updated packages.\n"
     ]
    }
   ],
   "source": [
    "pip install xgboost"
   ]
  },
  {
   "cell_type": "code",
   "execution_count": 80,
   "id": "9d8a09af",
   "metadata": {
    "execution": {
     "iopub.execute_input": "2022-09-12T12:39:31.904540Z",
     "iopub.status.busy": "2022-09-12T12:39:31.904125Z",
     "iopub.status.idle": "2022-09-12T12:39:54.181007Z",
     "shell.execute_reply": "2022-09-12T12:39:54.179484Z"
    },
    "papermill": {
     "duration": 22.326061,
     "end_time": "2022-09-12T12:39:54.183522",
     "exception": false,
     "start_time": "2022-09-12T12:39:31.857461",
     "status": "completed"
    },
    "tags": []
   },
   "outputs": [
    {
     "name": "stdout",
     "output_type": "stream",
     "text": [
      "Requirement already satisfied: xgboost in /opt/conda/lib/python3.7/site-packages (1.6.1)\r\n",
      "Collecting xgboost\r\n",
      "  Downloading xgboost-1.6.2-py3-none-manylinux2014_x86_64.whl (255.9 MB)\r\n",
      "\u001b[2K     \u001b[90m━━━━━━━━━━━━━━━━━━━━━━━━━━━━━━━━━━━━━━━\u001b[0m \u001b[32m255.9/255.9 MB\u001b[0m \u001b[31m4.6 MB/s\u001b[0m eta \u001b[36m0:00:00\u001b[0m\r\n",
      "\u001b[?25hRequirement already satisfied: scipy in /opt/conda/lib/python3.7/site-packages (from xgboost) (1.7.3)\r\n",
      "Requirement already satisfied: numpy in /opt/conda/lib/python3.7/site-packages (from xgboost) (1.21.6)\r\n",
      "Installing collected packages: xgboost\r\n",
      "  Attempting uninstall: xgboost\r\n",
      "    Found existing installation: xgboost 1.6.1\r\n",
      "    Uninstalling xgboost-1.6.1:\r\n",
      "      Successfully uninstalled xgboost-1.6.1\r\n",
      "Successfully installed xgboost-1.6.2\r\n",
      "\u001b[33mWARNING: Running pip as the 'root' user can result in broken permissions and conflicting behaviour with the system package manager. It is recommended to use a virtual environment instead: https://pip.pypa.io/warnings/venv\u001b[0m\u001b[33m\r\n",
      "\u001b[0mNote: you may need to restart the kernel to use updated packages.\n"
     ]
    }
   ],
   "source": [
    "pip install --upgrade xgboost"
   ]
  },
  {
   "cell_type": "code",
   "execution_count": 81,
   "id": "5beae5a4",
   "metadata": {
    "execution": {
     "iopub.execute_input": "2022-09-12T12:39:54.288209Z",
     "iopub.status.busy": "2022-09-12T12:39:54.287742Z",
     "iopub.status.idle": "2022-09-12T12:39:54.293654Z",
     "shell.execute_reply": "2022-09-12T12:39:54.292451Z"
    },
    "papermill": {
     "duration": 0.061647,
     "end_time": "2022-09-12T12:39:54.295986",
     "exception": false,
     "start_time": "2022-09-12T12:39:54.234339",
     "status": "completed"
    },
    "tags": []
   },
   "outputs": [],
   "source": [
    "from xgboost import XGBClassifier"
   ]
  },
  {
   "cell_type": "code",
   "execution_count": 82,
   "id": "bfa40265",
   "metadata": {
    "execution": {
     "iopub.execute_input": "2022-09-12T12:39:54.399945Z",
     "iopub.status.busy": "2022-09-12T12:39:54.399535Z",
     "iopub.status.idle": "2022-09-12T12:39:54.405457Z",
     "shell.execute_reply": "2022-09-12T12:39:54.404193Z"
    },
    "papermill": {
     "duration": 0.060655,
     "end_time": "2022-09-12T12:39:54.407894",
     "exception": false,
     "start_time": "2022-09-12T12:39:54.347239",
     "status": "completed"
    },
    "tags": []
   },
   "outputs": [],
   "source": [
    "xgb = XGBClassifier(max_depth = 7 , learning_rate = 0.25 , objective = 'binary:logistic' , n_estimators= 5, random_state=42)"
   ]
  },
  {
   "cell_type": "code",
   "execution_count": 83,
   "id": "504509f1",
   "metadata": {
    "execution": {
     "iopub.execute_input": "2022-09-12T12:39:54.513297Z",
     "iopub.status.busy": "2022-09-12T12:39:54.512865Z",
     "iopub.status.idle": "2022-09-12T12:39:54.566799Z",
     "shell.execute_reply": "2022-09-12T12:39:54.565652Z"
    },
    "papermill": {
     "duration": 0.108908,
     "end_time": "2022-09-12T12:39:54.569348",
     "exception": false,
     "start_time": "2022-09-12T12:39:54.460440",
     "status": "completed"
    },
    "tags": []
   },
   "outputs": [
    {
     "data": {
      "text/plain": [
       "XGBClassifier(base_score=0.5, booster='gbtree', callbacks=None,\n",
       "              colsample_bylevel=1, colsample_bynode=1, colsample_bytree=1,\n",
       "              early_stopping_rounds=None, enable_categorical=False,\n",
       "              eval_metric=None, gamma=0, gpu_id=-1, grow_policy='depthwise',\n",
       "              importance_type=None, interaction_constraints='',\n",
       "              learning_rate=0.25, max_bin=256, max_cat_to_onehot=4,\n",
       "              max_delta_step=0, max_depth=7, max_leaves=0, min_child_weight=1,\n",
       "              missing=nan, monotone_constraints='()', n_estimators=5, n_jobs=0,\n",
       "              num_parallel_tree=1, predictor='auto', random_state=42,\n",
       "              reg_alpha=0, reg_lambda=1, ...)"
      ]
     },
     "execution_count": 83,
     "metadata": {},
     "output_type": "execute_result"
    }
   ],
   "source": [
    "xgb.fit(X_train , y_train)"
   ]
  },
  {
   "cell_type": "code",
   "execution_count": 84,
   "id": "b9dbd192",
   "metadata": {
    "execution": {
     "iopub.execute_input": "2022-09-12T12:39:54.674948Z",
     "iopub.status.busy": "2022-09-12T12:39:54.674241Z",
     "iopub.status.idle": "2022-09-12T12:39:54.688541Z",
     "shell.execute_reply": "2022-09-12T12:39:54.687391Z"
    },
    "papermill": {
     "duration": 0.069528,
     "end_time": "2022-09-12T12:39:54.690885",
     "exception": false,
     "start_time": "2022-09-12T12:39:54.621357",
     "status": "completed"
    },
    "tags": []
   },
   "outputs": [
    {
     "data": {
      "text/plain": [
       "0.9167803547066848"
      ]
     },
     "execution_count": 84,
     "metadata": {},
     "output_type": "execute_result"
    }
   ],
   "source": [
    "xgb.score(X_train , y_train)"
   ]
  },
  {
   "cell_type": "code",
   "execution_count": 85,
   "id": "dc8cbd10",
   "metadata": {
    "execution": {
     "iopub.execute_input": "2022-09-12T12:39:54.795464Z",
     "iopub.status.busy": "2022-09-12T12:39:54.794763Z",
     "iopub.status.idle": "2022-09-12T12:39:54.821628Z",
     "shell.execute_reply": "2022-09-12T12:39:54.820754Z"
    },
    "papermill": {
     "duration": 0.081903,
     "end_time": "2022-09-12T12:39:54.823980",
     "exception": false,
     "start_time": "2022-09-12T12:39:54.742077",
     "status": "completed"
    },
    "tags": []
   },
   "outputs": [
    {
     "data": {
      "text/plain": [
       "0.7989130434782609"
      ]
     },
     "execution_count": 85,
     "metadata": {},
     "output_type": "execute_result"
    }
   ],
   "source": [
    "xgb.score(X_test , y_test)"
   ]
  },
  {
   "cell_type": "code",
   "execution_count": 86,
   "id": "1af080fd",
   "metadata": {
    "execution": {
     "iopub.execute_input": "2022-09-12T12:39:54.929896Z",
     "iopub.status.busy": "2022-09-12T12:39:54.929481Z",
     "iopub.status.idle": "2022-09-12T12:39:55.146135Z",
     "shell.execute_reply": "2022-09-12T12:39:55.144949Z"
    },
    "papermill": {
     "duration": 0.273069,
     "end_time": "2022-09-12T12:39:55.148534",
     "exception": false,
     "start_time": "2022-09-12T12:39:54.875465",
     "status": "completed"
    },
    "tags": []
   },
   "outputs": [
    {
     "data": {
      "image/png": "[encoded data removed]",
      "text/plain": [
       "<Figure size 1080x576 with 1 Axes>"
      ]
     },
     "metadata": {
      "needs_background": "light"
     },
     "output_type": "display_data"
    }
   ],
   "source": [
    "from matplotlib import pyplot as plt\n",
    "\n",
    "def f_importances(coef, names, top=-1):\n",
    "    imp = coef\n",
    "    imp, names = zip(*sorted(list(zip(imp, names))))\n",
    "\n",
    "    # Show all features\n",
    "    if top == -1:\n",
    "        top = len(names)\n",
    "\n",
    "    plt.barh(range(top), imp[::-1][0:top], align='center')\n",
    "    plt.yticks(range(top), names[::-1][0:top])\n",
    "    plt.title('feature importances')\n",
    "    plt.show()\n",
    "\n",
    "# whatever your features are called\n",
    "features_names = list(df.columns)\n",
    "\n",
    "\n",
    "\n",
    "# Specify your top n features you want to visualize.\n",
    "# You can also discard the abs() function \n",
    "# if you are interested in negative contribution of features\n",
    "f_importances(abs(xgb.feature_importances_), features_names, top=6)\n"
   ]
  },
  {
   "cell_type": "markdown",
   "id": "a4e9e914",
   "metadata": {
    "papermill": {
     "duration": 0.05146,
     "end_time": "2022-09-12T12:39:55.252636",
     "exception": false,
     "start_time": "2022-09-12T12:39:55.201176",
     "status": "completed"
    },
    "tags": []
   },
   "source": [
    "# Adaboost :"
   ]
  },
  {
   "cell_type": "code",
   "execution_count": 87,
   "id": "31065aef",
   "metadata": {
    "execution": {
     "iopub.execute_input": "2022-09-12T12:39:55.358214Z",
     "iopub.status.busy": "2022-09-12T12:39:55.357753Z",
     "iopub.status.idle": "2022-09-12T12:39:55.363018Z",
     "shell.execute_reply": "2022-09-12T12:39:55.362054Z"
    },
    "papermill": {
     "duration": 0.060994,
     "end_time": "2022-09-12T12:39:55.365347",
     "exception": false,
     "start_time": "2022-09-12T12:39:55.304353",
     "status": "completed"
    },
    "tags": []
   },
   "outputs": [],
   "source": [
    "from sklearn.ensemble import AdaBoostClassifier"
   ]
  },
  {
   "cell_type": "code",
   "execution_count": 88,
   "id": "4993c797",
   "metadata": {
    "execution": {
     "iopub.execute_input": "2022-09-12T12:39:55.471410Z",
     "iopub.status.busy": "2022-09-12T12:39:55.470678Z",
     "iopub.status.idle": "2022-09-12T12:39:55.475762Z",
     "shell.execute_reply": "2022-09-12T12:39:55.474673Z"
    },
    "papermill": {
     "duration": 0.061312,
     "end_time": "2022-09-12T12:39:55.478085",
     "exception": false,
     "start_time": "2022-09-12T12:39:55.416773",
     "status": "completed"
    },
    "tags": []
   },
   "outputs": [],
   "source": [
    "ada = AdaBoostClassifier(n_estimators=3, learning_rate=0.2)"
   ]
  },
  {
   "cell_type": "code",
   "execution_count": 89,
   "id": "e09a243e",
   "metadata": {
    "execution": {
     "iopub.execute_input": "2022-09-12T12:39:55.582654Z",
     "iopub.status.busy": "2022-09-12T12:39:55.582229Z",
     "iopub.status.idle": "2022-09-12T12:39:55.599677Z",
     "shell.execute_reply": "2022-09-12T12:39:55.598562Z"
    },
    "papermill": {
     "duration": 0.072636,
     "end_time": "2022-09-12T12:39:55.602197",
     "exception": false,
     "start_time": "2022-09-12T12:39:55.529561",
     "status": "completed"
    },
    "tags": []
   },
   "outputs": [
    {
     "data": {
      "text/plain": [
       "AdaBoostClassifier(learning_rate=0.2, n_estimators=3)"
      ]
     },
     "execution_count": 89,
     "metadata": {},
     "output_type": "execute_result"
    }
   ],
   "source": [
    "ada.fit(X_train , y_train)"
   ]
  },
  {
   "cell_type": "code",
   "execution_count": 90,
   "id": "1c594367",
   "metadata": {
    "execution": {
     "iopub.execute_input": "2022-09-12T12:39:55.709023Z",
     "iopub.status.busy": "2022-09-12T12:39:55.708641Z",
     "iopub.status.idle": "2022-09-12T12:39:55.720134Z",
     "shell.execute_reply": "2022-09-12T12:39:55.718928Z"
    },
    "papermill": {
     "duration": 0.067448,
     "end_time": "2022-09-12T12:39:55.722298",
     "exception": false,
     "start_time": "2022-09-12T12:39:55.654850",
     "status": "completed"
    },
    "tags": []
   },
   "outputs": [
    {
     "data": {
      "text/plain": [
       "0.7748976807639836"
      ]
     },
     "execution_count": 90,
     "metadata": {},
     "output_type": "execute_result"
    }
   ],
   "source": [
    "ada.score(X_train , y_train )"
   ]
  },
  {
   "cell_type": "code",
   "execution_count": 91,
   "id": "ba71b18b",
   "metadata": {
    "execution": {
     "iopub.execute_input": "2022-09-12T12:39:55.828228Z",
     "iopub.status.busy": "2022-09-12T12:39:55.827807Z",
     "iopub.status.idle": "2022-09-12T12:39:55.838488Z",
     "shell.execute_reply": "2022-09-12T12:39:55.837616Z"
    },
    "papermill": {
     "duration": 0.065884,
     "end_time": "2022-09-12T12:39:55.840679",
     "exception": false,
     "start_time": "2022-09-12T12:39:55.774795",
     "status": "completed"
    },
    "tags": []
   },
   "outputs": [
    {
     "data": {
      "text/plain": [
       "0.7717391304347826"
      ]
     },
     "execution_count": 91,
     "metadata": {},
     "output_type": "execute_result"
    }
   ],
   "source": [
    "ada.score(X_test , y_test)"
   ]
  },
  {
   "cell_type": "markdown",
   "id": "149993c1",
   "metadata": {
    "papermill": {
     "duration": 0.051458,
     "end_time": "2022-09-12T12:39:55.944800",
     "exception": false,
     "start_time": "2022-09-12T12:39:55.893342",
     "status": "completed"
    },
    "tags": []
   },
   "source": [
    "# Voting :"
   ]
  },
  {
   "cell_type": "code",
   "execution_count": 92,
   "id": "00a26f45",
   "metadata": {
    "execution": {
     "iopub.execute_input": "2022-09-12T12:39:56.050143Z",
     "iopub.status.busy": "2022-09-12T12:39:56.049736Z",
     "iopub.status.idle": "2022-09-12T12:39:56.054874Z",
     "shell.execute_reply": "2022-09-12T12:39:56.053895Z"
    },
    "papermill": {
     "duration": 0.060941,
     "end_time": "2022-09-12T12:39:56.057210",
     "exception": false,
     "start_time": "2022-09-12T12:39:55.996269",
     "status": "completed"
    },
    "tags": []
   },
   "outputs": [],
   "source": [
    "from sklearn.linear_model import LogisticRegression\n",
    "from sklearn.neighbors import  KNeighborsClassifier\n",
    "from sklearn.ensemble import VotingClassifier"
   ]
  },
  {
   "cell_type": "code",
   "execution_count": 93,
   "id": "09ae7cba",
   "metadata": {
    "execution": {
     "iopub.execute_input": "2022-09-12T12:39:56.161843Z",
     "iopub.status.busy": "2022-09-12T12:39:56.161448Z",
     "iopub.status.idle": "2022-09-12T12:39:56.167762Z",
     "shell.execute_reply": "2022-09-12T12:39:56.166914Z"
    },
    "papermill": {
     "duration": 0.061274,
     "end_time": "2022-09-12T12:39:56.170138",
     "exception": false,
     "start_time": "2022-09-12T12:39:56.108864",
     "status": "completed"
    },
    "tags": []
   },
   "outputs": [],
   "source": [
    "clf1 = LogisticRegression()\n",
    "clf2 = KNeighborsClassifier(n_neighbors=4)\n",
    "clf3 = XGBClassifier(max_depth = 5 , learning_rate = 0.3 , objective = 'binary:logistic' , n_estimators= 5, random_state=42)\n",
    "clf4 = RandomForestClassifier(n_estimators=3 , max_depth=6  , max_features=4)\n"
   ]
  },
  {
   "cell_type": "code",
   "execution_count": 94,
   "id": "763804be",
   "metadata": {
    "execution": {
     "iopub.execute_input": "2022-09-12T12:39:56.276023Z",
     "iopub.status.busy": "2022-09-12T12:39:56.275629Z",
     "iopub.status.idle": "2022-09-12T12:39:56.280561Z",
     "shell.execute_reply": "2022-09-12T12:39:56.279641Z"
    },
    "papermill": {
     "duration": 0.06069,
     "end_time": "2022-09-12T12:39:56.282810",
     "exception": false,
     "start_time": "2022-09-12T12:39:56.222120",
     "status": "completed"
    },
    "tags": []
   },
   "outputs": [],
   "source": [
    "v_clf = VotingClassifier(estimators=[(\"LogisticRegression\" , clf1) , ('KNeighborsClassifier' , clf2) ,\n",
    "                                     (\"XGBClassifier\" , clf3) ,(\"RandomForestClassifier\" , clf4)] , voting = \"hard\")"
   ]
  },
  {
   "cell_type": "code",
   "execution_count": 95,
   "id": "1833d694",
   "metadata": {
    "execution": {
     "iopub.execute_input": "2022-09-12T12:39:56.388333Z",
     "iopub.status.busy": "2022-09-12T12:39:56.387920Z",
     "iopub.status.idle": "2022-09-12T12:39:56.479678Z",
     "shell.execute_reply": "2022-09-12T12:39:56.478205Z"
    },
    "papermill": {
     "duration": 0.14871,
     "end_time": "2022-09-12T12:39:56.483468",
     "exception": false,
     "start_time": "2022-09-12T12:39:56.334758",
     "status": "completed"
    },
    "tags": []
   },
   "outputs": [
    {
     "data": {
      "text/plain": [
       "VotingClassifier(estimators=[('LogisticRegression', LogisticRegression()),\n",
       "                             ('KNeighborsClassifier',\n",
       "                              KNeighborsClassifier(n_neighbors=4)),\n",
       "                             ('XGBClassifier',\n",
       "                              XGBClassifier(base_score=None, booster=None,\n",
       "                                            callbacks=None,\n",
       "                                            colsample_bylevel=None,\n",
       "                                            colsample_bynode=None,\n",
       "                                            colsample_bytree=None,\n",
       "                                            early_stopping_rounds=None,\n",
       "                                            enable_categorical=False,\n",
       "                                            eval_metric=None, gamma...\n",
       "                                            learning_rate=0.3, max_bin=None,\n",
       "                                            max_cat_to_onehot=None,\n",
       "                                            max_delta_step=None, max_depth=5,\n",
       "                                            max_leaves=None,\n",
       "                                            min_child_weight=None, missing=nan,\n",
       "                                            monotone_constraints=None,\n",
       "                                            n_estimators=5, n_jobs=None,\n",
       "                                            num_parallel_tree=None,\n",
       "                                            predictor=None, random_state=42,\n",
       "                                            reg_alpha=None, reg_lambda=None, ...)),\n",
       "                             ('RandomForestClassifier',\n",
       "                              RandomForestClassifier(max_depth=6,\n",
       "                                                     max_features=4,\n",
       "                                                     n_estimators=3))])"
      ]
     },
     "execution_count": 95,
     "metadata": {},
     "output_type": "execute_result"
    }
   ],
   "source": [
    "v_clf.fit(X_train , y_train)"
   ]
  },
  {
   "cell_type": "code",
   "execution_count": 96,
   "id": "2db3fd76",
   "metadata": {
    "execution": {
     "iopub.execute_input": "2022-09-12T12:39:56.611250Z",
     "iopub.status.busy": "2022-09-12T12:39:56.609909Z",
     "iopub.status.idle": "2022-09-12T12:39:56.700507Z",
     "shell.execute_reply": "2022-09-12T12:39:56.699254Z"
    },
    "papermill": {
     "duration": 0.148259,
     "end_time": "2022-09-12T12:39:56.703716",
     "exception": false,
     "start_time": "2022-09-12T12:39:56.555457",
     "status": "completed"
    },
    "tags": []
   },
   "outputs": [
    {
     "data": {
      "text/plain": [
       "0.8676671214188267"
      ]
     },
     "execution_count": 96,
     "metadata": {},
     "output_type": "execute_result"
    }
   ],
   "source": [
    "v_clf.score(X_train , y_train)"
   ]
  },
  {
   "cell_type": "code",
   "execution_count": 97,
   "id": "732d29c2",
   "metadata": {
    "execution": {
     "iopub.execute_input": "2022-09-12T12:39:56.825834Z",
     "iopub.status.busy": "2022-09-12T12:39:56.824397Z",
     "iopub.status.idle": "2022-09-12T12:39:56.862601Z",
     "shell.execute_reply": "2022-09-12T12:39:56.861195Z"
    },
    "papermill": {
     "duration": 0.102065,
     "end_time": "2022-09-12T12:39:56.865780",
     "exception": false,
     "start_time": "2022-09-12T12:39:56.763715",
     "status": "completed"
    },
    "tags": []
   },
   "outputs": [
    {
     "data": {
      "text/plain": [
       "0.842391304347826"
      ]
     },
     "execution_count": 97,
     "metadata": {},
     "output_type": "execute_result"
    }
   ],
   "source": [
    "v_clf.score(X_test , y_test)"
   ]
  },
  {
   "cell_type": "markdown",
   "id": "9cf5b847",
   "metadata": {
    "papermill": {
     "duration": 0.053613,
     "end_time": "2022-09-12T12:39:56.974793",
     "exception": false,
     "start_time": "2022-09-12T12:39:56.921180",
     "status": "completed"
    },
    "tags": []
   },
   "source": [
    "# Light GBM :"
   ]
  },
  {
   "cell_type": "code",
   "execution_count": 98,
   "id": "ea08cc6c",
   "metadata": {
    "execution": {
     "iopub.execute_input": "2022-09-12T12:39:57.083212Z",
     "iopub.status.busy": "2022-09-12T12:39:57.082802Z",
     "iopub.status.idle": "2022-09-12T12:40:08.169088Z",
     "shell.execute_reply": "2022-09-12T12:40:08.167217Z"
    },
    "papermill": {
     "duration": 11.144755,
     "end_time": "2022-09-12T12:40:08.172402",
     "exception": false,
     "start_time": "2022-09-12T12:39:57.027647",
     "status": "completed"
    },
    "tags": []
   },
   "outputs": [
    {
     "name": "stdout",
     "output_type": "stream",
     "text": [
      "Requirement already satisfied: lightgbm in /opt/conda/lib/python3.7/site-packages (3.3.2)\r\n",
      "Requirement already satisfied: wheel in /opt/conda/lib/python3.7/site-packages (from lightgbm) (0.37.1)\r\n",
      "Requirement already satisfied: scipy in /opt/conda/lib/python3.7/site-packages (from lightgbm) (1.7.3)\r\n",
      "Requirement already satisfied: numpy in /opt/conda/lib/python3.7/site-packages (from lightgbm) (1.21.6)\r\n",
      "Requirement already satisfied: scikit-learn!=0.22.0 in /opt/conda/lib/python3.7/site-packages (from lightgbm) (1.0.2)\r\n",
      "Requirement already satisfied: joblib>=0.11 in /opt/conda/lib/python3.7/site-packages (from scikit-learn!=0.22.0->lightgbm) (1.0.1)\r\n",
      "Requirement already satisfied: threadpoolctl>=2.0.0 in /opt/conda/lib/python3.7/site-packages (from scikit-learn!=0.22.0->lightgbm) (3.1.0)\r\n",
      "\u001b[33mWARNING: Running pip as the 'root' user can result in broken permissions and conflicting behaviour with the system package manager. It is recommended to use a virtual environment instead: https://pip.pypa.io/warnings/venv\u001b[0m\u001b[33m\r\n",
      "\u001b[0mNote: you may need to restart the kernel to use updated packages.\n"
     ]
    }
   ],
   "source": [
    "pip install lightgbm"
   ]
  },
  {
   "cell_type": "code",
   "execution_count": 99,
   "id": "f9314990",
   "metadata": {
    "execution": {
     "iopub.execute_input": "2022-09-12T12:40:08.284913Z",
     "iopub.status.busy": "2022-09-12T12:40:08.284377Z",
     "iopub.status.idle": "2022-09-12T12:40:08.291634Z",
     "shell.execute_reply": "2022-09-12T12:40:08.290261Z"
    },
    "papermill": {
     "duration": 0.066531,
     "end_time": "2022-09-12T12:40:08.294793",
     "exception": false,
     "start_time": "2022-09-12T12:40:08.228262",
     "status": "completed"
    },
    "tags": []
   },
   "outputs": [],
   "source": [
    "from sklearn.metrics import roc_auc_score\n"
   ]
  },
  {
   "cell_type": "code",
   "execution_count": 100,
   "id": "ee4d64ad",
   "metadata": {
    "execution": {
     "iopub.execute_input": "2022-09-12T12:40:08.402458Z",
     "iopub.status.busy": "2022-09-12T12:40:08.402028Z",
     "iopub.status.idle": "2022-09-12T12:40:08.406419Z",
     "shell.execute_reply": "2022-09-12T12:40:08.405460Z"
    },
    "papermill": {
     "duration": 0.061431,
     "end_time": "2022-09-12T12:40:08.408724",
     "exception": false,
     "start_time": "2022-09-12T12:40:08.347293",
     "status": "completed"
    },
    "tags": []
   },
   "outputs": [],
   "source": [
    "from lightgbm import LGBMClassifier"
   ]
  },
  {
   "cell_type": "code",
   "execution_count": 101,
   "id": "6a451e6d",
   "metadata": {
    "execution": {
     "iopub.execute_input": "2022-09-12T12:40:08.520048Z",
     "iopub.status.busy": "2022-09-12T12:40:08.519618Z",
     "iopub.status.idle": "2022-09-12T12:40:09.103254Z",
     "shell.execute_reply": "2022-09-12T12:40:09.102033Z"
    },
    "papermill": {
     "duration": 0.643561,
     "end_time": "2022-09-12T12:40:09.106551",
     "exception": false,
     "start_time": "2022-09-12T12:40:08.462990",
     "status": "completed"
    },
    "tags": []
   },
   "outputs": [
    {
     "name": "stderr",
     "output_type": "stream",
     "text": [
      "/opt/conda/lib/python3.7/site-packages/lightgbm/sklearn.py:726: UserWarning: 'early_stopping_rounds' argument is deprecated and will be removed in a future release of LightGBM. Pass 'early_stopping()' callback via 'callbacks' argument instead.\n",
      "  _log_warning(\"'early_stopping_rounds' argument is deprecated and will be removed in a future release of LightGBM. \"\n",
      "/opt/conda/lib/python3.7/site-packages/lightgbm/sklearn.py:736: UserWarning: 'verbose' argument is deprecated and will be removed in a future release of LightGBM. Pass 'log_evaluation()' callback via 'callbacks' argument instead.\n",
      "  _log_warning(\"'verbose' argument is deprecated and will be removed in a future release of LightGBM. \"\n"
     ]
    },
    {
     "name": "stdout",
     "output_type": "stream",
     "text": [
      "[1]\tvalid_0's auc: 0.88231\tvalid_0's binary_logloss: 0.636188\n",
      "[2]\tvalid_0's auc: 0.869578\tvalid_0's binary_logloss: 0.603904\n",
      "[3]\tvalid_0's auc: 0.884016\tvalid_0's binary_logloss: 0.571924\n",
      "[4]\tvalid_0's auc: 0.885112\tvalid_0's binary_logloss: 0.548769\n",
      "[5]\tvalid_0's auc: 0.89961\tvalid_0's binary_logloss: 0.523775\n",
      "[6]\tvalid_0's auc: 0.90491\tvalid_0's binary_logloss: 0.505397\n",
      "[7]\tvalid_0's auc: 0.904179\tvalid_0's binary_logloss: 0.488112\n",
      "[8]\tvalid_0's auc: 0.908199\tvalid_0's binary_logloss: 0.47033\n",
      "[9]\tvalid_0's auc: 0.906555\tvalid_0's binary_logloss: 0.4588\n",
      "[10]\tvalid_0's auc: 0.907895\tvalid_0's binary_logloss: 0.448635\n",
      "[11]\tvalid_0's auc: 0.909174\tvalid_0's binary_logloss: 0.438845\n",
      "[12]\tvalid_0's auc: 0.9096\tvalid_0's binary_logloss: 0.430783\n",
      "[13]\tvalid_0's auc: 0.912281\tvalid_0's binary_logloss: 0.421201\n",
      "[14]\tvalid_0's auc: 0.912281\tvalid_0's binary_logloss: 0.415539\n",
      "[15]\tvalid_0's auc: 0.911306\tvalid_0's binary_logloss: 0.412213\n",
      "[16]\tvalid_0's auc: 0.912037\tvalid_0's binary_logloss: 0.404953\n",
      "[17]\tvalid_0's auc: 0.914717\tvalid_0's binary_logloss: 0.396695\n",
      "[18]\tvalid_0's auc: 0.914352\tvalid_0's binary_logloss: 0.39494\n",
      "[19]\tvalid_0's auc: 0.913986\tvalid_0's binary_logloss: 0.392991\n",
      "[20]\tvalid_0's auc: 0.914352\tvalid_0's binary_logloss: 0.390312\n",
      "[21]\tvalid_0's auc: 0.914839\tvalid_0's binary_logloss: 0.386297\n",
      "[22]\tvalid_0's auc: 0.915205\tvalid_0's binary_logloss: 0.384111\n",
      "[23]\tvalid_0's auc: 0.913621\tvalid_0's binary_logloss: 0.383611\n",
      "[24]\tvalid_0's auc: 0.915448\tvalid_0's binary_logloss: 0.38073\n",
      "[25]\tvalid_0's auc: 0.917032\tvalid_0's binary_logloss: 0.377217\n",
      "[26]\tvalid_0's auc: 0.917398\tvalid_0's binary_logloss: 0.377332\n",
      "[27]\tvalid_0's auc: 0.916423\tvalid_0's binary_logloss: 0.377685\n",
      "[28]\tvalid_0's auc: 0.914961\tvalid_0's binary_logloss: 0.378829\n",
      "[29]\tvalid_0's auc: 0.914961\tvalid_0's binary_logloss: 0.378407\n",
      "[30]\tvalid_0's auc: 0.913012\tvalid_0's binary_logloss: 0.380959\n",
      "[31]\tvalid_0's auc: 0.912403\tvalid_0's binary_logloss: 0.381095\n",
      "[32]\tvalid_0's auc: 0.911672\tvalid_0's binary_logloss: 0.381958\n",
      "[33]\tvalid_0's auc: 0.911793\tvalid_0's binary_logloss: 0.382524\n",
      "[34]\tvalid_0's auc: 0.911672\tvalid_0's binary_logloss: 0.38164\n",
      "[35]\tvalid_0's auc: 0.911062\tvalid_0's binary_logloss: 0.383261\n",
      "[36]\tvalid_0's auc: 0.910453\tvalid_0's binary_logloss: 0.384463\n",
      "[37]\tvalid_0's auc: 0.911306\tvalid_0's binary_logloss: 0.384321\n",
      "[38]\tvalid_0's auc: 0.91021\tvalid_0's binary_logloss: 0.386934\n",
      "[39]\tvalid_0's auc: 0.909844\tvalid_0's binary_logloss: 0.38753\n",
      "[40]\tvalid_0's auc: 0.908991\tvalid_0's binary_logloss: 0.388479\n",
      "[41]\tvalid_0's auc: 0.908991\tvalid_0's binary_logloss: 0.390467\n",
      "[42]\tvalid_0's auc: 0.907773\tvalid_0's binary_logloss: 0.390951\n",
      "[43]\tvalid_0's auc: 0.907286\tvalid_0's binary_logloss: 0.393288\n",
      "[44]\tvalid_0's auc: 0.906311\tvalid_0's binary_logloss: 0.395387\n",
      "[45]\tvalid_0's auc: 0.905336\tvalid_0's binary_logloss: 0.397118\n",
      "[46]\tvalid_0's auc: 0.906189\tvalid_0's binary_logloss: 0.396526\n",
      "[47]\tvalid_0's auc: 0.905702\tvalid_0's binary_logloss: 0.397726\n",
      "[48]\tvalid_0's auc: 0.906189\tvalid_0's binary_logloss: 0.400012\n",
      "[49]\tvalid_0's auc: 0.905458\tvalid_0's binary_logloss: 0.399518\n",
      "[50]\tvalid_0's auc: 0.906067\tvalid_0's binary_logloss: 0.400531\n",
      "[51]\tvalid_0's auc: 0.905702\tvalid_0's binary_logloss: 0.401125\n",
      "[52]\tvalid_0's auc: 0.904849\tvalid_0's binary_logloss: 0.404025\n",
      "[53]\tvalid_0's auc: 0.905336\tvalid_0's binary_logloss: 0.402899\n",
      "[54]\tvalid_0's auc: 0.903387\tvalid_0's binary_logloss: 0.408392\n",
      "[55]\tvalid_0's auc: 0.903874\tvalid_0's binary_logloss: 0.407292\n",
      "[56]\tvalid_0's auc: 0.903143\tvalid_0's binary_logloss: 0.410627\n",
      "[57]\tvalid_0's auc: 0.903752\tvalid_0's binary_logloss: 0.411238\n",
      "[58]\tvalid_0's auc: 0.903752\tvalid_0's binary_logloss: 0.411865\n",
      "[59]\tvalid_0's auc: 0.903143\tvalid_0's binary_logloss: 0.41237\n",
      "[60]\tvalid_0's auc: 0.904727\tvalid_0's binary_logloss: 0.410132\n",
      "[61]\tvalid_0's auc: 0.904971\tvalid_0's binary_logloss: 0.410361\n",
      "[62]\tvalid_0's auc: 0.905702\tvalid_0's binary_logloss: 0.411459\n",
      "[63]\tvalid_0's auc: 0.904118\tvalid_0's binary_logloss: 0.414925\n",
      "[64]\tvalid_0's auc: 0.904483\tvalid_0's binary_logloss: 0.41627\n",
      "[65]\tvalid_0's auc: 0.904727\tvalid_0's binary_logloss: 0.416891\n",
      "[66]\tvalid_0's auc: 0.904118\tvalid_0's binary_logloss: 0.418005\n",
      "[67]\tvalid_0's auc: 0.90424\tvalid_0's binary_logloss: 0.419407\n",
      "[68]\tvalid_0's auc: 0.903265\tvalid_0's binary_logloss: 0.420968\n",
      "[69]\tvalid_0's auc: 0.902412\tvalid_0's binary_logloss: 0.422748\n",
      "[70]\tvalid_0's auc: 0.901681\tvalid_0's binary_logloss: 0.4274\n",
      "[71]\tvalid_0's auc: 0.901438\tvalid_0's binary_logloss: 0.428313\n",
      "[72]\tvalid_0's auc: 0.901072\tvalid_0's binary_logloss: 0.431352\n",
      "[73]\tvalid_0's auc: 0.90095\tvalid_0's binary_logloss: 0.432677\n",
      "[74]\tvalid_0's auc: 0.900707\tvalid_0's binary_logloss: 0.432825\n",
      "[75]\tvalid_0's auc: 0.901194\tvalid_0's binary_logloss: 0.434928\n",
      "[76]\tvalid_0's auc: 0.901194\tvalid_0's binary_logloss: 0.43724\n",
      "[77]\tvalid_0's auc: 0.900219\tvalid_0's binary_logloss: 0.439425\n",
      "[78]\tvalid_0's auc: 0.900097\tvalid_0's binary_logloss: 0.441385\n",
      "[79]\tvalid_0's auc: 0.900585\tvalid_0's binary_logloss: 0.44188\n",
      "[80]\tvalid_0's auc: 0.899488\tvalid_0's binary_logloss: 0.445795\n",
      "[81]\tvalid_0's auc: 0.899976\tvalid_0's binary_logloss: 0.445758\n",
      "[82]\tvalid_0's auc: 0.900097\tvalid_0's binary_logloss: 0.448636\n",
      "[83]\tvalid_0's auc: 0.899001\tvalid_0's binary_logloss: 0.449457\n",
      "[84]\tvalid_0's auc: 0.899245\tvalid_0's binary_logloss: 0.45034\n",
      "[85]\tvalid_0's auc: 0.899001\tvalid_0's binary_logloss: 0.451828\n",
      "[86]\tvalid_0's auc: 0.897783\tvalid_0's binary_logloss: 0.455979\n",
      "[87]\tvalid_0's auc: 0.899245\tvalid_0's binary_logloss: 0.457328\n",
      "[88]\tvalid_0's auc: 0.900097\tvalid_0's binary_logloss: 0.457506\n",
      "[89]\tvalid_0's auc: 0.898879\tvalid_0's binary_logloss: 0.458935\n",
      "[90]\tvalid_0's auc: 0.899488\tvalid_0's binary_logloss: 0.46073\n",
      "[91]\tvalid_0's auc: 0.899732\tvalid_0's binary_logloss: 0.462089\n",
      "[92]\tvalid_0's auc: 0.901559\tvalid_0's binary_logloss: 0.460632\n",
      "[93]\tvalid_0's auc: 0.901803\tvalid_0's binary_logloss: 0.459032\n",
      "[94]\tvalid_0's auc: 0.902412\tvalid_0's binary_logloss: 0.458364\n",
      "[95]\tvalid_0's auc: 0.902412\tvalid_0's binary_logloss: 0.459734\n",
      "[96]\tvalid_0's auc: 0.904362\tvalid_0's binary_logloss: 0.455908\n",
      "[97]\tvalid_0's auc: 0.903752\tvalid_0's binary_logloss: 0.457722\n",
      "[98]\tvalid_0's auc: 0.904971\tvalid_0's binary_logloss: 0.455691\n",
      "[99]\tvalid_0's auc: 0.904849\tvalid_0's binary_logloss: 0.456788\n",
      "[100]\tvalid_0's auc: 0.904118\tvalid_0's binary_logloss: 0.459676\n",
      "[101]\tvalid_0's auc: 0.904483\tvalid_0's binary_logloss: 0.459458\n",
      "[102]\tvalid_0's auc: 0.904605\tvalid_0's binary_logloss: 0.461188\n",
      "[103]\tvalid_0's auc: 0.903996\tvalid_0's binary_logloss: 0.464443\n",
      "[104]\tvalid_0's auc: 0.904118\tvalid_0's binary_logloss: 0.465645\n",
      "[105]\tvalid_0's auc: 0.903509\tvalid_0's binary_logloss: 0.468184\n",
      "[106]\tvalid_0's auc: 0.902534\tvalid_0's binary_logloss: 0.470051\n",
      "[107]\tvalid_0's auc: 0.904362\tvalid_0's binary_logloss: 0.470903\n",
      "[108]\tvalid_0's auc: 0.902412\tvalid_0's binary_logloss: 0.475102\n",
      "[109]\tvalid_0's auc: 0.903265\tvalid_0's binary_logloss: 0.475219\n",
      "[110]\tvalid_0's auc: 0.903021\tvalid_0's binary_logloss: 0.477124\n",
      "[111]\tvalid_0's auc: 0.903752\tvalid_0's binary_logloss: 0.477844\n",
      "[112]\tvalid_0's auc: 0.903387\tvalid_0's binary_logloss: 0.479206\n",
      "[113]\tvalid_0's auc: 0.903874\tvalid_0's binary_logloss: 0.481164\n",
      "[114]\tvalid_0's auc: 0.903265\tvalid_0's binary_logloss: 0.484303\n",
      "[115]\tvalid_0's auc: 0.9029\tvalid_0's binary_logloss: 0.484136\n",
      "[116]\tvalid_0's auc: 0.902656\tvalid_0's binary_logloss: 0.485681\n",
      "[117]\tvalid_0's auc: 0.902656\tvalid_0's binary_logloss: 0.484902\n",
      "[118]\tvalid_0's auc: 0.903143\tvalid_0's binary_logloss: 0.485054\n",
      "[119]\tvalid_0's auc: 0.903265\tvalid_0's binary_logloss: 0.487432\n",
      "[120]\tvalid_0's auc: 0.904118\tvalid_0's binary_logloss: 0.487588\n",
      "[121]\tvalid_0's auc: 0.903265\tvalid_0's binary_logloss: 0.489748\n",
      "[122]\tvalid_0's auc: 0.903631\tvalid_0's binary_logloss: 0.489762\n",
      "[123]\tvalid_0's auc: 0.903143\tvalid_0's binary_logloss: 0.494236\n",
      "[124]\tvalid_0's auc: 0.903631\tvalid_0's binary_logloss: 0.493984\n",
      "[125]\tvalid_0's auc: 0.903631\tvalid_0's binary_logloss: 0.497479\n",
      "[126]\tvalid_0's auc: 0.903752\tvalid_0's binary_logloss: 0.49541\n",
      "[127]\tvalid_0's auc: 0.903752\tvalid_0's binary_logloss: 0.493508\n",
      "[128]\tvalid_0's auc: 0.903874\tvalid_0's binary_logloss: 0.496317\n",
      "[129]\tvalid_0's auc: 0.903265\tvalid_0's binary_logloss: 0.498621\n",
      "[130]\tvalid_0's auc: 0.902778\tvalid_0's binary_logloss: 0.501579\n",
      "[131]\tvalid_0's auc: 0.903387\tvalid_0's binary_logloss: 0.502541\n",
      "[132]\tvalid_0's auc: 0.903021\tvalid_0's binary_logloss: 0.504675\n",
      "[133]\tvalid_0's auc: 0.903509\tvalid_0's binary_logloss: 0.504619\n",
      "[134]\tvalid_0's auc: 0.903265\tvalid_0's binary_logloss: 0.508388\n",
      "[135]\tvalid_0's auc: 0.903631\tvalid_0's binary_logloss: 0.508833\n",
      "[136]\tvalid_0's auc: 0.903143\tvalid_0's binary_logloss: 0.510363\n",
      "[137]\tvalid_0's auc: 0.902656\tvalid_0's binary_logloss: 0.511233\n",
      "[138]\tvalid_0's auc: 0.903021\tvalid_0's binary_logloss: 0.512739\n",
      "[139]\tvalid_0's auc: 0.902778\tvalid_0's binary_logloss: 0.514544\n",
      "[140]\tvalid_0's auc: 0.902656\tvalid_0's binary_logloss: 0.516147\n",
      "[141]\tvalid_0's auc: 0.902656\tvalid_0's binary_logloss: 0.51864\n",
      "[142]\tvalid_0's auc: 0.901559\tvalid_0's binary_logloss: 0.522955\n",
      "[143]\tvalid_0's auc: 0.902412\tvalid_0's binary_logloss: 0.522047\n",
      "[144]\tvalid_0's auc: 0.902047\tvalid_0's binary_logloss: 0.526025\n",
      "[145]\tvalid_0's auc: 0.901681\tvalid_0's binary_logloss: 0.527855\n",
      "[146]\tvalid_0's auc: 0.901438\tvalid_0's binary_logloss: 0.529069\n",
      "[147]\tvalid_0's auc: 0.901438\tvalid_0's binary_logloss: 0.529194\n",
      "[148]\tvalid_0's auc: 0.901925\tvalid_0's binary_logloss: 0.529934\n",
      "[149]\tvalid_0's auc: 0.903021\tvalid_0's binary_logloss: 0.529836\n",
      "[150]\tvalid_0's auc: 0.90229\tvalid_0's binary_logloss: 0.531746\n",
      "[151]\tvalid_0's auc: 0.903143\tvalid_0's binary_logloss: 0.5329\n",
      "[152]\tvalid_0's auc: 0.903265\tvalid_0's binary_logloss: 0.534036\n",
      "[153]\tvalid_0's auc: 0.902412\tvalid_0's binary_logloss: 0.536028\n",
      "[154]\tvalid_0's auc: 0.902412\tvalid_0's binary_logloss: 0.536839\n",
      "[155]\tvalid_0's auc: 0.903143\tvalid_0's binary_logloss: 0.537181\n",
      "[156]\tvalid_0's auc: 0.903752\tvalid_0's binary_logloss: 0.536762\n",
      "[157]\tvalid_0's auc: 0.903509\tvalid_0's binary_logloss: 0.537865\n",
      "[158]\tvalid_0's auc: 0.903143\tvalid_0's binary_logloss: 0.540518\n",
      "[159]\tvalid_0's auc: 0.902412\tvalid_0's binary_logloss: 0.544525\n",
      "[160]\tvalid_0's auc: 0.902656\tvalid_0's binary_logloss: 0.547318\n",
      "[161]\tvalid_0's auc: 0.902047\tvalid_0's binary_logloss: 0.550115\n",
      "[162]\tvalid_0's auc: 0.90229\tvalid_0's binary_logloss: 0.551049\n",
      "[163]\tvalid_0's auc: 0.902412\tvalid_0's binary_logloss: 0.552504\n",
      "[164]\tvalid_0's auc: 0.902778\tvalid_0's binary_logloss: 0.55249\n",
      "[165]\tvalid_0's auc: 0.901925\tvalid_0's binary_logloss: 0.55515\n",
      "[166]\tvalid_0's auc: 0.901925\tvalid_0's binary_logloss: 0.556998\n",
      "[167]\tvalid_0's auc: 0.902047\tvalid_0's binary_logloss: 0.558737\n",
      "[168]\tvalid_0's auc: 0.901194\tvalid_0's binary_logloss: 0.561384\n",
      "[169]\tvalid_0's auc: 0.901194\tvalid_0's binary_logloss: 0.563745\n",
      "[170]\tvalid_0's auc: 0.901803\tvalid_0's binary_logloss: 0.566514\n",
      "[171]\tvalid_0's auc: 0.90095\tvalid_0's binary_logloss: 0.569334\n",
      "[172]\tvalid_0's auc: 0.901316\tvalid_0's binary_logloss: 0.569605\n",
      "[173]\tvalid_0's auc: 0.90229\tvalid_0's binary_logloss: 0.569667\n",
      "[174]\tvalid_0's auc: 0.901559\tvalid_0's binary_logloss: 0.571514\n",
      "[175]\tvalid_0's auc: 0.901681\tvalid_0's binary_logloss: 0.57296\n",
      "[176]\tvalid_0's auc: 0.901803\tvalid_0's binary_logloss: 0.573442\n",
      "[177]\tvalid_0's auc: 0.902412\tvalid_0's binary_logloss: 0.574609\n",
      "[178]\tvalid_0's auc: 0.902412\tvalid_0's binary_logloss: 0.576773\n",
      "[179]\tvalid_0's auc: 0.902047\tvalid_0's binary_logloss: 0.580406\n",
      "[180]\tvalid_0's auc: 0.902047\tvalid_0's binary_logloss: 0.581564\n",
      "[181]\tvalid_0's auc: 0.901681\tvalid_0's binary_logloss: 0.58413\n",
      "[182]\tvalid_0's auc: 0.901803\tvalid_0's binary_logloss: 0.586526\n",
      "[183]\tvalid_0's auc: 0.901803\tvalid_0's binary_logloss: 0.587879\n",
      "[184]\tvalid_0's auc: 0.902169\tvalid_0's binary_logloss: 0.591084\n",
      "[185]\tvalid_0's auc: 0.901925\tvalid_0's binary_logloss: 0.590085\n",
      "[186]\tvalid_0's auc: 0.902169\tvalid_0's binary_logloss: 0.591583\n",
      "[187]\tvalid_0's auc: 0.9029\tvalid_0's binary_logloss: 0.591395\n",
      "[188]\tvalid_0's auc: 0.903143\tvalid_0's binary_logloss: 0.594024\n",
      "[189]\tvalid_0's auc: 0.9029\tvalid_0's binary_logloss: 0.595447\n",
      "[190]\tvalid_0's auc: 0.902656\tvalid_0's binary_logloss: 0.597181\n",
      "[191]\tvalid_0's auc: 0.902778\tvalid_0's binary_logloss: 0.598224\n",
      "[192]\tvalid_0's auc: 0.903021\tvalid_0's binary_logloss: 0.599286\n",
      "[193]\tvalid_0's auc: 0.903021\tvalid_0's binary_logloss: 0.600844\n",
      "[194]\tvalid_0's auc: 0.902656\tvalid_0's binary_logloss: 0.604212\n",
      "[195]\tvalid_0's auc: 0.903143\tvalid_0's binary_logloss: 0.605658\n",
      "[196]\tvalid_0's auc: 0.901925\tvalid_0's binary_logloss: 0.606968\n",
      "[197]\tvalid_0's auc: 0.901803\tvalid_0's binary_logloss: 0.608283\n",
      "[198]\tvalid_0's auc: 0.902169\tvalid_0's binary_logloss: 0.606426\n",
      "[199]\tvalid_0's auc: 0.902534\tvalid_0's binary_logloss: 0.606816\n",
      "[200]\tvalid_0's auc: 0.903387\tvalid_0's binary_logloss: 0.607491\n",
      "[201]\tvalid_0's auc: 0.903752\tvalid_0's binary_logloss: 0.610178\n",
      "[202]\tvalid_0's auc: 0.903021\tvalid_0's binary_logloss: 0.611759\n",
      "[203]\tvalid_0's auc: 0.903387\tvalid_0's binary_logloss: 0.613671\n",
      "[204]\tvalid_0's auc: 0.903143\tvalid_0's binary_logloss: 0.618739\n",
      "[205]\tvalid_0's auc: 0.903509\tvalid_0's binary_logloss: 0.619357\n",
      "[206]\tvalid_0's auc: 0.903509\tvalid_0's binary_logloss: 0.620779\n",
      "[207]\tvalid_0's auc: 0.902778\tvalid_0's binary_logloss: 0.623967\n",
      "[208]\tvalid_0's auc: 0.902534\tvalid_0's binary_logloss: 0.62616\n",
      "[209]\tvalid_0's auc: 0.903021\tvalid_0's binary_logloss: 0.627468\n",
      "[210]\tvalid_0's auc: 0.901681\tvalid_0's binary_logloss: 0.629301\n",
      "[211]\tvalid_0's auc: 0.901925\tvalid_0's binary_logloss: 0.631808\n",
      "[212]\tvalid_0's auc: 0.902169\tvalid_0's binary_logloss: 0.632687\n",
      "[213]\tvalid_0's auc: 0.902047\tvalid_0's binary_logloss: 0.633172\n",
      "[214]\tvalid_0's auc: 0.901681\tvalid_0's binary_logloss: 0.637533\n",
      "[215]\tvalid_0's auc: 0.902047\tvalid_0's binary_logloss: 0.637041\n",
      "[216]\tvalid_0's auc: 0.902412\tvalid_0's binary_logloss: 0.637631\n",
      "[217]\tvalid_0's auc: 0.902412\tvalid_0's binary_logloss: 0.639381\n",
      "[218]\tvalid_0's auc: 0.902412\tvalid_0's binary_logloss: 0.641428\n",
      "[219]\tvalid_0's auc: 0.902412\tvalid_0's binary_logloss: 0.642666\n",
      "[220]\tvalid_0's auc: 0.902412\tvalid_0's binary_logloss: 0.646297\n",
      "[221]\tvalid_0's auc: 0.902534\tvalid_0's binary_logloss: 0.649533\n",
      "[222]\tvalid_0's auc: 0.903143\tvalid_0's binary_logloss: 0.650641\n",
      "[223]\tvalid_0's auc: 0.9029\tvalid_0's binary_logloss: 0.654245\n",
      "[224]\tvalid_0's auc: 0.902169\tvalid_0's binary_logloss: 0.657842\n",
      "[225]\tvalid_0's auc: 0.902412\tvalid_0's binary_logloss: 0.658964\n",
      "[226]\tvalid_0's auc: 0.901559\tvalid_0's binary_logloss: 0.661396\n",
      "[227]\tvalid_0's auc: 0.901559\tvalid_0's binary_logloss: 0.662825\n",
      "[228]\tvalid_0's auc: 0.901803\tvalid_0's binary_logloss: 0.662317\n",
      "[229]\tvalid_0's auc: 0.902656\tvalid_0's binary_logloss: 0.66321\n",
      "[230]\tvalid_0's auc: 0.9029\tvalid_0's binary_logloss: 0.663895\n",
      "[231]\tvalid_0's auc: 0.902656\tvalid_0's binary_logloss: 0.666014\n",
      "[232]\tvalid_0's auc: 0.901925\tvalid_0's binary_logloss: 0.669316\n",
      "[233]\tvalid_0's auc: 0.901803\tvalid_0's binary_logloss: 0.670831\n",
      "[234]\tvalid_0's auc: 0.90229\tvalid_0's binary_logloss: 0.672463\n",
      "[235]\tvalid_0's auc: 0.901803\tvalid_0's binary_logloss: 0.674582\n",
      "[236]\tvalid_0's auc: 0.901681\tvalid_0's binary_logloss: 0.674625\n",
      "[237]\tvalid_0's auc: 0.901438\tvalid_0's binary_logloss: 0.676361\n",
      "[238]\tvalid_0's auc: 0.901438\tvalid_0's binary_logloss: 0.677134\n",
      "[239]\tvalid_0's auc: 0.901559\tvalid_0's binary_logloss: 0.677368\n",
      "[240]\tvalid_0's auc: 0.901681\tvalid_0's binary_logloss: 0.680816\n",
      "[241]\tvalid_0's auc: 0.900828\tvalid_0's binary_logloss: 0.685808\n",
      "[242]\tvalid_0's auc: 0.901072\tvalid_0's binary_logloss: 0.689062\n",
      "[243]\tvalid_0's auc: 0.90095\tvalid_0's binary_logloss: 0.690232\n",
      "[244]\tvalid_0's auc: 0.900707\tvalid_0's binary_logloss: 0.693591\n",
      "[245]\tvalid_0's auc: 0.900707\tvalid_0's binary_logloss: 0.696434\n",
      "[246]\tvalid_0's auc: 0.900585\tvalid_0's binary_logloss: 0.6968\n",
      "[247]\tvalid_0's auc: 0.900585\tvalid_0's binary_logloss: 0.699538\n",
      "[248]\tvalid_0's auc: 0.900828\tvalid_0's binary_logloss: 0.702635\n",
      "[249]\tvalid_0's auc: 0.90095\tvalid_0's binary_logloss: 0.703605\n",
      "[250]\tvalid_0's auc: 0.901194\tvalid_0's binary_logloss: 0.708141\n",
      "[251]\tvalid_0's auc: 0.900828\tvalid_0's binary_logloss: 0.707552\n",
      "[252]\tvalid_0's auc: 0.900585\tvalid_0's binary_logloss: 0.709417\n",
      "[253]\tvalid_0's auc: 0.901316\tvalid_0's binary_logloss: 0.710839\n",
      "[254]\tvalid_0's auc: 0.901438\tvalid_0's binary_logloss: 0.71221\n",
      "[255]\tvalid_0's auc: 0.901316\tvalid_0's binary_logloss: 0.714354\n",
      "[256]\tvalid_0's auc: 0.901316\tvalid_0's binary_logloss: 0.716173\n",
      "[257]\tvalid_0's auc: 0.901316\tvalid_0's binary_logloss: 0.71893\n",
      "[258]\tvalid_0's auc: 0.901438\tvalid_0's binary_logloss: 0.720994\n",
      "[259]\tvalid_0's auc: 0.901681\tvalid_0's binary_logloss: 0.722888\n",
      "[260]\tvalid_0's auc: 0.902047\tvalid_0's binary_logloss: 0.721875\n",
      "[261]\tvalid_0's auc: 0.902047\tvalid_0's binary_logloss: 0.72572\n",
      "[262]\tvalid_0's auc: 0.901681\tvalid_0's binary_logloss: 0.727882\n",
      "[263]\tvalid_0's auc: 0.901316\tvalid_0's binary_logloss: 0.731235\n",
      "[264]\tvalid_0's auc: 0.901072\tvalid_0's binary_logloss: 0.734967\n",
      "[265]\tvalid_0's auc: 0.901316\tvalid_0's binary_logloss: 0.737091\n",
      "[266]\tvalid_0's auc: 0.901803\tvalid_0's binary_logloss: 0.738188\n",
      "[267]\tvalid_0's auc: 0.901438\tvalid_0's binary_logloss: 0.737859\n",
      "[268]\tvalid_0's auc: 0.902047\tvalid_0's binary_logloss: 0.73845\n",
      "[269]\tvalid_0's auc: 0.902169\tvalid_0's binary_logloss: 0.73865\n",
      "[270]\tvalid_0's auc: 0.902169\tvalid_0's binary_logloss: 0.74065\n",
      "[271]\tvalid_0's auc: 0.901925\tvalid_0's binary_logloss: 0.74249\n",
      "[272]\tvalid_0's auc: 0.902047\tvalid_0's binary_logloss: 0.744551\n",
      "[273]\tvalid_0's auc: 0.901803\tvalid_0's binary_logloss: 0.744502\n",
      "[274]\tvalid_0's auc: 0.90229\tvalid_0's binary_logloss: 0.745752\n",
      "[275]\tvalid_0's auc: 0.901438\tvalid_0's binary_logloss: 0.748276\n",
      "[276]\tvalid_0's auc: 0.901681\tvalid_0's binary_logloss: 0.750584\n",
      "[277]\tvalid_0's auc: 0.902778\tvalid_0's binary_logloss: 0.75193\n",
      "[278]\tvalid_0's auc: 0.903143\tvalid_0's binary_logloss: 0.752869\n",
      "[279]\tvalid_0's auc: 0.903021\tvalid_0's binary_logloss: 0.752422\n",
      "[280]\tvalid_0's auc: 0.903021\tvalid_0's binary_logloss: 0.754208\n",
      "[281]\tvalid_0's auc: 0.902534\tvalid_0's binary_logloss: 0.755048\n",
      "[282]\tvalid_0's auc: 0.903143\tvalid_0's binary_logloss: 0.757157\n",
      "[283]\tvalid_0's auc: 0.902778\tvalid_0's binary_logloss: 0.759024\n",
      "[284]\tvalid_0's auc: 0.902656\tvalid_0's binary_logloss: 0.763936\n",
      "[285]\tvalid_0's auc: 0.9029\tvalid_0's binary_logloss: 0.764878\n",
      "[286]\tvalid_0's auc: 0.902412\tvalid_0's binary_logloss: 0.767956\n",
      "[287]\tvalid_0's auc: 0.901438\tvalid_0's binary_logloss: 0.771626\n",
      "[288]\tvalid_0's auc: 0.901438\tvalid_0's binary_logloss: 0.773636\n",
      "[289]\tvalid_0's auc: 0.901438\tvalid_0's binary_logloss: 0.774624\n",
      "[290]\tvalid_0's auc: 0.901681\tvalid_0's binary_logloss: 0.777026\n",
      "[291]\tvalid_0's auc: 0.901803\tvalid_0's binary_logloss: 0.779288\n",
      "[292]\tvalid_0's auc: 0.901559\tvalid_0's binary_logloss: 0.781871\n",
      "[293]\tvalid_0's auc: 0.901316\tvalid_0's binary_logloss: 0.784089\n",
      "[294]\tvalid_0's auc: 0.90095\tvalid_0's binary_logloss: 0.786269\n",
      "[295]\tvalid_0's auc: 0.901072\tvalid_0's binary_logloss: 0.78677\n",
      "[296]\tvalid_0's auc: 0.901316\tvalid_0's binary_logloss: 0.787852\n",
      "[297]\tvalid_0's auc: 0.901803\tvalid_0's binary_logloss: 0.789112\n",
      "[298]\tvalid_0's auc: 0.902534\tvalid_0's binary_logloss: 0.78886\n",
      "[299]\tvalid_0's auc: 0.902534\tvalid_0's binary_logloss: 0.787066\n",
      "[300]\tvalid_0's auc: 0.902656\tvalid_0's binary_logloss: 0.787551\n",
      "[301]\tvalid_0's auc: 0.903143\tvalid_0's binary_logloss: 0.785579\n",
      "[302]\tvalid_0's auc: 0.9029\tvalid_0's binary_logloss: 0.789069\n",
      "[303]\tvalid_0's auc: 0.9029\tvalid_0's binary_logloss: 0.790306\n",
      "[304]\tvalid_0's auc: 0.902534\tvalid_0's binary_logloss: 0.791783\n",
      "[305]\tvalid_0's auc: 0.902412\tvalid_0's binary_logloss: 0.794673\n",
      "[306]\tvalid_0's auc: 0.902412\tvalid_0's binary_logloss: 0.80012\n",
      "[307]\tvalid_0's auc: 0.902169\tvalid_0's binary_logloss: 0.802547\n",
      "[308]\tvalid_0's auc: 0.901803\tvalid_0's binary_logloss: 0.803437\n",
      "[309]\tvalid_0's auc: 0.901681\tvalid_0's binary_logloss: 0.804262\n",
      "[310]\tvalid_0's auc: 0.901925\tvalid_0's binary_logloss: 0.806975\n",
      "[311]\tvalid_0's auc: 0.90229\tvalid_0's binary_logloss: 0.808711\n",
      "[312]\tvalid_0's auc: 0.902169\tvalid_0's binary_logloss: 0.810143\n",
      "[313]\tvalid_0's auc: 0.902534\tvalid_0's binary_logloss: 0.81155\n",
      "[314]\tvalid_0's auc: 0.90229\tvalid_0's binary_logloss: 0.813548\n",
      "[315]\tvalid_0's auc: 0.902169\tvalid_0's binary_logloss: 0.81549\n",
      "[316]\tvalid_0's auc: 0.90229\tvalid_0's binary_logloss: 0.816472\n",
      "[317]\tvalid_0's auc: 0.902534\tvalid_0's binary_logloss: 0.815434\n",
      "[318]\tvalid_0's auc: 0.90229\tvalid_0's binary_logloss: 0.817507\n",
      "[319]\tvalid_0's auc: 0.90229\tvalid_0's binary_logloss: 0.82083\n",
      "[320]\tvalid_0's auc: 0.902047\tvalid_0's binary_logloss: 0.822392\n",
      "[321]\tvalid_0's auc: 0.902534\tvalid_0's binary_logloss: 0.822681\n",
      "[322]\tvalid_0's auc: 0.902778\tvalid_0's binary_logloss: 0.82321\n",
      "[323]\tvalid_0's auc: 0.902778\tvalid_0's binary_logloss: 0.825854\n",
      "[324]\tvalid_0's auc: 0.902412\tvalid_0's binary_logloss: 0.826842\n",
      "[325]\tvalid_0's auc: 0.902534\tvalid_0's binary_logloss: 0.829763\n",
      "[326]\tvalid_0's auc: 0.90229\tvalid_0's binary_logloss: 0.830142\n",
      "[327]\tvalid_0's auc: 0.902778\tvalid_0's binary_logloss: 0.832439\n",
      "[328]\tvalid_0's auc: 0.902656\tvalid_0's binary_logloss: 0.834623\n",
      "[329]\tvalid_0's auc: 0.90229\tvalid_0's binary_logloss: 0.835429\n",
      "[330]\tvalid_0's auc: 0.90229\tvalid_0's binary_logloss: 0.83821\n",
      "[331]\tvalid_0's auc: 0.902534\tvalid_0's binary_logloss: 0.838356\n",
      "[332]\tvalid_0's auc: 0.902534\tvalid_0's binary_logloss: 0.841696\n",
      "[333]\tvalid_0's auc: 0.90229\tvalid_0's binary_logloss: 0.843298\n",
      "[334]\tvalid_0's auc: 0.90229\tvalid_0's binary_logloss: 0.845622\n",
      "[335]\tvalid_0's auc: 0.902412\tvalid_0's binary_logloss: 0.848002\n",
      "[336]\tvalid_0's auc: 0.90229\tvalid_0's binary_logloss: 0.849753\n",
      "[337]\tvalid_0's auc: 0.901925\tvalid_0's binary_logloss: 0.851589\n",
      "[338]\tvalid_0's auc: 0.901925\tvalid_0's binary_logloss: 0.854136\n",
      "[339]\tvalid_0's auc: 0.901925\tvalid_0's binary_logloss: 0.854284\n",
      "[340]\tvalid_0's auc: 0.901681\tvalid_0's binary_logloss: 0.85803\n",
      "[341]\tvalid_0's auc: 0.901681\tvalid_0's binary_logloss: 0.858293\n",
      "[342]\tvalid_0's auc: 0.902047\tvalid_0's binary_logloss: 0.861311\n",
      "[343]\tvalid_0's auc: 0.902169\tvalid_0's binary_logloss: 0.860639\n",
      "[344]\tvalid_0's auc: 0.90229\tvalid_0's binary_logloss: 0.864198\n",
      "[345]\tvalid_0's auc: 0.90229\tvalid_0's binary_logloss: 0.864075\n",
      "[346]\tvalid_0's auc: 0.90229\tvalid_0's binary_logloss: 0.864073\n",
      "[347]\tvalid_0's auc: 0.901925\tvalid_0's binary_logloss: 0.867022\n",
      "[348]\tvalid_0's auc: 0.901681\tvalid_0's binary_logloss: 0.868368\n",
      "[349]\tvalid_0's auc: 0.901681\tvalid_0's binary_logloss: 0.871376\n",
      "[350]\tvalid_0's auc: 0.901559\tvalid_0's binary_logloss: 0.872614\n",
      "[351]\tvalid_0's auc: 0.901681\tvalid_0's binary_logloss: 0.872853\n",
      "[352]\tvalid_0's auc: 0.901925\tvalid_0's binary_logloss: 0.873041\n",
      "[353]\tvalid_0's auc: 0.901681\tvalid_0's binary_logloss: 0.87372\n",
      "[354]\tvalid_0's auc: 0.902047\tvalid_0's binary_logloss: 0.875931\n",
      "[355]\tvalid_0's auc: 0.901925\tvalid_0's binary_logloss: 0.877459\n",
      "[356]\tvalid_0's auc: 0.902047\tvalid_0's binary_logloss: 0.87916\n",
      "[357]\tvalid_0's auc: 0.902534\tvalid_0's binary_logloss: 0.879581\n",
      "[358]\tvalid_0's auc: 0.902169\tvalid_0's binary_logloss: 0.881708\n",
      "[359]\tvalid_0's auc: 0.901803\tvalid_0's binary_logloss: 0.883342\n",
      "[360]\tvalid_0's auc: 0.901803\tvalid_0's binary_logloss: 0.885842\n",
      "[361]\tvalid_0's auc: 0.901681\tvalid_0's binary_logloss: 0.887796\n",
      "[362]\tvalid_0's auc: 0.901316\tvalid_0's binary_logloss: 0.890365\n",
      "[363]\tvalid_0's auc: 0.901072\tvalid_0's binary_logloss: 0.893863\n",
      "[364]\tvalid_0's auc: 0.90095\tvalid_0's binary_logloss: 0.896483\n",
      "[365]\tvalid_0's auc: 0.901681\tvalid_0's binary_logloss: 0.896389\n",
      "[366]\tvalid_0's auc: 0.901925\tvalid_0's binary_logloss: 0.898594\n",
      "[367]\tvalid_0's auc: 0.90229\tvalid_0's binary_logloss: 0.899032\n",
      "[368]\tvalid_0's auc: 0.901803\tvalid_0's binary_logloss: 0.900764\n",
      "[369]\tvalid_0's auc: 0.901316\tvalid_0's binary_logloss: 0.903937\n",
      "[370]\tvalid_0's auc: 0.901438\tvalid_0's binary_logloss: 0.907221\n",
      "[371]\tvalid_0's auc: 0.901681\tvalid_0's binary_logloss: 0.908691\n",
      "[372]\tvalid_0's auc: 0.901438\tvalid_0's binary_logloss: 0.912054\n",
      "[373]\tvalid_0's auc: 0.901316\tvalid_0's binary_logloss: 0.913012\n",
      "[374]\tvalid_0's auc: 0.901072\tvalid_0's binary_logloss: 0.914011\n",
      "[375]\tvalid_0's auc: 0.90095\tvalid_0's binary_logloss: 0.916951\n",
      "[376]\tvalid_0's auc: 0.901316\tvalid_0's binary_logloss: 0.920171\n",
      "[377]\tvalid_0's auc: 0.901681\tvalid_0's binary_logloss: 0.921963\n",
      "[378]\tvalid_0's auc: 0.901559\tvalid_0's binary_logloss: 0.92207\n",
      "[379]\tvalid_0's auc: 0.901438\tvalid_0's binary_logloss: 0.923817\n",
      "[380]\tvalid_0's auc: 0.901316\tvalid_0's binary_logloss: 0.925967\n",
      "[381]\tvalid_0's auc: 0.901438\tvalid_0's binary_logloss: 0.92606\n",
      "[382]\tvalid_0's auc: 0.901072\tvalid_0's binary_logloss: 0.927961\n",
      "[383]\tvalid_0's auc: 0.90095\tvalid_0's binary_logloss: 0.931433\n",
      "[384]\tvalid_0's auc: 0.900219\tvalid_0's binary_logloss: 0.934903\n",
      "[385]\tvalid_0's auc: 0.900341\tvalid_0's binary_logloss: 0.934125\n",
      "[386]\tvalid_0's auc: 0.900463\tvalid_0's binary_logloss: 0.934224\n",
      "[387]\tvalid_0's auc: 0.901072\tvalid_0's binary_logloss: 0.935503\n",
      "[388]\tvalid_0's auc: 0.900828\tvalid_0's binary_logloss: 0.937562\n",
      "[389]\tvalid_0's auc: 0.900219\tvalid_0's binary_logloss: 0.941953\n",
      "[390]\tvalid_0's auc: 0.900828\tvalid_0's binary_logloss: 0.941403\n",
      "[391]\tvalid_0's auc: 0.900219\tvalid_0's binary_logloss: 0.942339\n",
      "[392]\tvalid_0's auc: 0.900341\tvalid_0's binary_logloss: 0.945284\n",
      "[393]\tvalid_0's auc: 0.900463\tvalid_0's binary_logloss: 0.948584\n",
      "[394]\tvalid_0's auc: 0.900707\tvalid_0's binary_logloss: 0.950199\n",
      "[395]\tvalid_0's auc: 0.900463\tvalid_0's binary_logloss: 0.950247\n",
      "[396]\tvalid_0's auc: 0.900707\tvalid_0's binary_logloss: 0.952828\n",
      "[397]\tvalid_0's auc: 0.900707\tvalid_0's binary_logloss: 0.955409\n",
      "[398]\tvalid_0's auc: 0.90095\tvalid_0's binary_logloss: 0.958774\n",
      "[399]\tvalid_0's auc: 0.900707\tvalid_0's binary_logloss: 0.959528\n",
      "[400]\tvalid_0's auc: 0.900828\tvalid_0's binary_logloss: 0.961943\n",
      "[401]\tvalid_0's auc: 0.900707\tvalid_0's binary_logloss: 0.963167\n",
      "[402]\tvalid_0's auc: 0.90095\tvalid_0's binary_logloss: 0.963715\n",
      "[403]\tvalid_0's auc: 0.900585\tvalid_0's binary_logloss: 0.965337\n",
      "[404]\tvalid_0's auc: 0.90095\tvalid_0's binary_logloss: 0.965728\n",
      "[405]\tvalid_0's auc: 0.900828\tvalid_0's binary_logloss: 0.967177\n",
      "[406]\tvalid_0's auc: 0.900463\tvalid_0's binary_logloss: 0.969859\n",
      "[407]\tvalid_0's auc: 0.900707\tvalid_0's binary_logloss: 0.970167\n",
      "[408]\tvalid_0's auc: 0.901194\tvalid_0's binary_logloss: 0.97142\n",
      "[409]\tvalid_0's auc: 0.901072\tvalid_0's binary_logloss: 0.975127\n",
      "[410]\tvalid_0's auc: 0.90095\tvalid_0's binary_logloss: 0.97837\n",
      "[411]\tvalid_0's auc: 0.90095\tvalid_0's binary_logloss: 0.979962\n",
      "[412]\tvalid_0's auc: 0.900707\tvalid_0's binary_logloss: 0.98117\n",
      "[413]\tvalid_0's auc: 0.900707\tvalid_0's binary_logloss: 0.983882\n",
      "[414]\tvalid_0's auc: 0.900707\tvalid_0's binary_logloss: 0.984035\n",
      "[415]\tvalid_0's auc: 0.90095\tvalid_0's binary_logloss: 0.986485\n",
      "[416]\tvalid_0's auc: 0.901194\tvalid_0's binary_logloss: 0.987669\n",
      "[417]\tvalid_0's auc: 0.901072\tvalid_0's binary_logloss: 0.991149\n",
      "[418]\tvalid_0's auc: 0.901681\tvalid_0's binary_logloss: 0.991503\n",
      "[419]\tvalid_0's auc: 0.901681\tvalid_0's binary_logloss: 0.993574\n",
      "[420]\tvalid_0's auc: 0.900828\tvalid_0's binary_logloss: 0.995943\n",
      "[421]\tvalid_0's auc: 0.900828\tvalid_0's binary_logloss: 0.998272\n",
      "[422]\tvalid_0's auc: 0.90095\tvalid_0's binary_logloss: 0.997608\n",
      "[423]\tvalid_0's auc: 0.90095\tvalid_0's binary_logloss: 0.999308\n",
      "[424]\tvalid_0's auc: 0.90095\tvalid_0's binary_logloss: 1.00021\n",
      "[425]\tvalid_0's auc: 0.901072\tvalid_0's binary_logloss: 1.00263\n",
      "[426]\tvalid_0's auc: 0.90095\tvalid_0's binary_logloss: 1.00544\n",
      "[427]\tvalid_0's auc: 0.901194\tvalid_0's binary_logloss: 1.00816\n",
      "[428]\tvalid_0's auc: 0.901194\tvalid_0's binary_logloss: 1.00956\n",
      "[429]\tvalid_0's auc: 0.901316\tvalid_0's binary_logloss: 1.01158\n",
      "[430]\tvalid_0's auc: 0.901194\tvalid_0's binary_logloss: 1.01434\n",
      "[431]\tvalid_0's auc: 0.901438\tvalid_0's binary_logloss: 1.01448\n",
      "[432]\tvalid_0's auc: 0.901438\tvalid_0's binary_logloss: 1.01522\n",
      "[433]\tvalid_0's auc: 0.901925\tvalid_0's binary_logloss: 1.01784\n",
      "[434]\tvalid_0's auc: 0.901316\tvalid_0's binary_logloss: 1.01935\n",
      "[435]\tvalid_0's auc: 0.901803\tvalid_0's binary_logloss: 1.01909\n",
      "[436]\tvalid_0's auc: 0.901438\tvalid_0's binary_logloss: 1.01983\n",
      "[437]\tvalid_0's auc: 0.901803\tvalid_0's binary_logloss: 1.02244\n",
      "[438]\tvalid_0's auc: 0.901559\tvalid_0's binary_logloss: 1.02431\n",
      "[439]\tvalid_0's auc: 0.901681\tvalid_0's binary_logloss: 1.02864\n",
      "[440]\tvalid_0's auc: 0.901438\tvalid_0's binary_logloss: 1.029\n",
      "[441]\tvalid_0's auc: 0.901925\tvalid_0's binary_logloss: 1.03151\n",
      "[442]\tvalid_0's auc: 0.901925\tvalid_0's binary_logloss: 1.03246\n",
      "[443]\tvalid_0's auc: 0.901438\tvalid_0's binary_logloss: 1.03559\n",
      "[444]\tvalid_0's auc: 0.901438\tvalid_0's binary_logloss: 1.03777\n",
      "[445]\tvalid_0's auc: 0.901438\tvalid_0's binary_logloss: 1.04012\n",
      "[446]\tvalid_0's auc: 0.901559\tvalid_0's binary_logloss: 1.04157\n",
      "[447]\tvalid_0's auc: 0.901681\tvalid_0's binary_logloss: 1.04275\n",
      "[448]\tvalid_0's auc: 0.901316\tvalid_0's binary_logloss: 1.04528\n",
      "[449]\tvalid_0's auc: 0.901559\tvalid_0's binary_logloss: 1.04567\n",
      "[450]\tvalid_0's auc: 0.901316\tvalid_0's binary_logloss: 1.04852\n",
      "[451]\tvalid_0's auc: 0.90095\tvalid_0's binary_logloss: 1.05034\n",
      "[452]\tvalid_0's auc: 0.901803\tvalid_0's binary_logloss: 1.05136\n",
      "[453]\tvalid_0's auc: 0.90229\tvalid_0's binary_logloss: 1.04951\n",
      "[454]\tvalid_0's auc: 0.902534\tvalid_0's binary_logloss: 1.04877\n",
      "[455]\tvalid_0's auc: 0.902412\tvalid_0's binary_logloss: 1.05297\n",
      "[456]\tvalid_0's auc: 0.902656\tvalid_0's binary_logloss: 1.05347\n",
      "[457]\tvalid_0's auc: 0.902656\tvalid_0's binary_logloss: 1.0559\n",
      "[458]\tvalid_0's auc: 0.902047\tvalid_0's binary_logloss: 1.0587\n",
      "[459]\tvalid_0's auc: 0.90229\tvalid_0's binary_logloss: 1.05831\n",
      "[460]\tvalid_0's auc: 0.902169\tvalid_0's binary_logloss: 1.06141\n",
      "[461]\tvalid_0's auc: 0.901925\tvalid_0's binary_logloss: 1.06325\n",
      "[462]\tvalid_0's auc: 0.902047\tvalid_0's binary_logloss: 1.06443\n",
      "[463]\tvalid_0's auc: 0.90229\tvalid_0's binary_logloss: 1.06676\n",
      "[464]\tvalid_0's auc: 0.902412\tvalid_0's binary_logloss: 1.06844\n",
      "[465]\tvalid_0's auc: 0.902656\tvalid_0's binary_logloss: 1.06743\n",
      "[466]\tvalid_0's auc: 0.902169\tvalid_0's binary_logloss: 1.06899\n",
      "[467]\tvalid_0's auc: 0.901925\tvalid_0's binary_logloss: 1.07283\n",
      "[468]\tvalid_0's auc: 0.901925\tvalid_0's binary_logloss: 1.07395\n",
      "[469]\tvalid_0's auc: 0.902047\tvalid_0's binary_logloss: 1.07645\n",
      "[470]\tvalid_0's auc: 0.901803\tvalid_0's binary_logloss: 1.07729\n",
      "[471]\tvalid_0's auc: 0.901925\tvalid_0's binary_logloss: 1.07706\n",
      "[472]\tvalid_0's auc: 0.901925\tvalid_0's binary_logloss: 1.0786\n",
      "[473]\tvalid_0's auc: 0.902047\tvalid_0's binary_logloss: 1.07875\n",
      "[474]\tvalid_0's auc: 0.90229\tvalid_0's binary_logloss: 1.08021\n",
      "[475]\tvalid_0's auc: 0.902412\tvalid_0's binary_logloss: 1.07996\n",
      "[476]\tvalid_0's auc: 0.90229\tvalid_0's binary_logloss: 1.08363\n",
      "[477]\tvalid_0's auc: 0.902169\tvalid_0's binary_logloss: 1.08405\n",
      "[478]\tvalid_0's auc: 0.902169\tvalid_0's binary_logloss: 1.08544\n",
      "[479]\tvalid_0's auc: 0.901925\tvalid_0's binary_logloss: 1.09103\n",
      "[480]\tvalid_0's auc: 0.902412\tvalid_0's binary_logloss: 1.09165\n",
      "[481]\tvalid_0's auc: 0.901925\tvalid_0's binary_logloss: 1.09184\n",
      "[482]\tvalid_0's auc: 0.901559\tvalid_0's binary_logloss: 1.09287\n",
      "[483]\tvalid_0's auc: 0.902047\tvalid_0's binary_logloss: 1.09503\n",
      "[484]\tvalid_0's auc: 0.902047\tvalid_0's binary_logloss: 1.09708\n",
      "[485]\tvalid_0's auc: 0.901803\tvalid_0's binary_logloss: 1.09742\n",
      "[486]\tvalid_0's auc: 0.901316\tvalid_0's binary_logloss: 1.09778\n",
      "[487]\tvalid_0's auc: 0.901559\tvalid_0's binary_logloss: 1.1007\n",
      "[488]\tvalid_0's auc: 0.901316\tvalid_0's binary_logloss: 1.10164\n",
      "[489]\tvalid_0's auc: 0.901438\tvalid_0's binary_logloss: 1.10096\n",
      "[490]\tvalid_0's auc: 0.901559\tvalid_0's binary_logloss: 1.10378\n",
      "[491]\tvalid_0's auc: 0.901559\tvalid_0's binary_logloss: 1.10678\n",
      "[492]\tvalid_0's auc: 0.901559\tvalid_0's binary_logloss: 1.10945\n",
      "[493]\tvalid_0's auc: 0.901559\tvalid_0's binary_logloss: 1.11209\n",
      "[494]\tvalid_0's auc: 0.901681\tvalid_0's binary_logloss: 1.11163\n",
      "[495]\tvalid_0's auc: 0.901559\tvalid_0's binary_logloss: 1.11318\n",
      "[496]\tvalid_0's auc: 0.901559\tvalid_0's binary_logloss: 1.11391\n",
      "[497]\tvalid_0's auc: 0.901559\tvalid_0's binary_logloss: 1.11413\n",
      "[498]\tvalid_0's auc: 0.901438\tvalid_0's binary_logloss: 1.11652\n",
      "[499]\tvalid_0's auc: 0.901438\tvalid_0's binary_logloss: 1.11775\n",
      "[500]\tvalid_0's auc: 0.901438\tvalid_0's binary_logloss: 1.1165\n"
     ]
    }
   ],
   "source": [
    "lgbm_clf = LGBMClassifier(n_estimators=500)\n",
    "evals = [(X_test, y_test)]\n",
    "lgbm_clf.fit(X_train, y_train, early_stopping_rounds=500, eval_metric=\"auc\", eval_set=evals, verbose=True)\n",
    "lgbm_roc_score = roc_auc_score(y_test, lgbm_clf.predict_proba(X_test)[:,1],average='macro')"
   ]
  },
  {
   "cell_type": "code",
   "execution_count": 102,
   "id": "9d5b164f",
   "metadata": {
    "execution": {
     "iopub.execute_input": "2022-09-12T12:40:09.217813Z",
     "iopub.status.busy": "2022-09-12T12:40:09.216534Z",
     "iopub.status.idle": "2022-09-12T12:40:09.223027Z",
     "shell.execute_reply": "2022-09-12T12:40:09.222053Z"
    },
    "papermill": {
     "duration": 0.064986,
     "end_time": "2022-09-12T12:40:09.225699",
     "exception": false,
     "start_time": "2022-09-12T12:40:09.160713",
     "status": "completed"
    },
    "tags": []
   },
   "outputs": [
    {
     "name": "stdout",
     "output_type": "stream",
     "text": [
      "ROC AUC: 0.9174\n"
     ]
    }
   ],
   "source": [
    "print('ROC AUC: {0:.4f}'.format(lgbm_roc_score))"
   ]
  },
  {
   "cell_type": "markdown",
   "id": "d7bcf91e",
   "metadata": {
    "papermill": {
     "duration": 0.054796,
     "end_time": "2022-09-12T12:40:09.335432",
     "exception": false,
     "start_time": "2022-09-12T12:40:09.280636",
     "status": "completed"
    },
    "tags": []
   },
   "source": [
    "# CatBOOST:"
   ]
  },
  {
   "cell_type": "code",
   "execution_count": 103,
   "id": "b88902cd",
   "metadata": {
    "execution": {
     "iopub.execute_input": "2022-09-12T12:40:09.448126Z",
     "iopub.status.busy": "2022-09-12T12:40:09.447271Z",
     "iopub.status.idle": "2022-09-12T12:40:20.526393Z",
     "shell.execute_reply": "2022-09-12T12:40:20.524391Z"
    },
    "papermill": {
     "duration": 11.138741,
     "end_time": "2022-09-12T12:40:20.529438",
     "exception": false,
     "start_time": "2022-09-12T12:40:09.390697",
     "status": "completed"
    },
    "tags": []
   },
   "outputs": [
    {
     "name": "stdout",
     "output_type": "stream",
     "text": [
      "Requirement already satisfied: catboost in /opt/conda/lib/python3.7/site-packages (1.0.6)\r\n",
      "Requirement already satisfied: numpy>=1.16.0 in /opt/conda/lib/python3.7/site-packages (from catboost) (1.21.6)\r\n",
      "Requirement already satisfied: plotly in /opt/conda/lib/python3.7/site-packages (from catboost) (5.10.0)\r\n",
      "Requirement already satisfied: graphviz in /opt/conda/lib/python3.7/site-packages (from catboost) (0.8.4)\r\n",
      "Requirement already satisfied: pandas>=0.24.0 in /opt/conda/lib/python3.7/site-packages (from catboost) (1.3.5)\r\n",
      "Requirement already satisfied: matplotlib in /opt/conda/lib/python3.7/site-packages (from catboost) (3.5.3)\r\n",
      "Requirement already satisfied: scipy in /opt/conda/lib/python3.7/site-packages (from catboost) (1.7.3)\r\n",
      "Requirement already satisfied: six in /opt/conda/lib/python3.7/site-packages (from catboost) (1.15.0)\r\n",
      "Requirement already satisfied: python-dateutil>=2.7.3 in /opt/conda/lib/python3.7/site-packages (from pandas>=0.24.0->catboost) (2.8.2)\r\n",
      "Requirement already satisfied: pytz>=2017.3 in /opt/conda/lib/python3.7/site-packages (from pandas>=0.24.0->catboost) (2022.1)\r\n",
      "Requirement already satisfied: cycler>=0.10 in /opt/conda/lib/python3.7/site-packages (from matplotlib->catboost) (0.11.0)\r\n",
      "Requirement already satisfied: pyparsing>=2.2.1 in /opt/conda/lib/python3.7/site-packages (from matplotlib->catboost) (3.0.9)\r\n",
      "Requirement already satisfied: packaging>=20.0 in /opt/conda/lib/python3.7/site-packages (from matplotlib->catboost) (21.3)\r\n",
      "Requirement already satisfied: pillow>=6.2.0 in /opt/conda/lib/python3.7/site-packages (from matplotlib->catboost) (9.1.1)\r\n",
      "Requirement already satisfied: kiwisolver>=1.0.1 in /opt/conda/lib/python3.7/site-packages (from matplotlib->catboost) (1.4.3)\r\n",
      "Requirement already satisfied: fonttools>=4.22.0 in /opt/conda/lib/python3.7/site-packages (from matplotlib->catboost) (4.33.3)\r\n",
      "Requirement already satisfied: tenacity>=6.2.0 in /opt/conda/lib/python3.7/site-packages (from plotly->catboost) (8.0.1)\r\n",
      "Requirement already satisfied: typing-extensions in /opt/conda/lib/python3.7/site-packages (from kiwisolver>=1.0.1->matplotlib->catboost) (4.3.0)\r\n",
      "\u001b[33mWARNING: Running pip as the 'root' user can result in broken permissions and conflicting behaviour with the system package manager. It is recommended to use a virtual environment instead: https://pip.pypa.io/warnings/venv\u001b[0m\u001b[33m\r\n",
      "\u001b[0mNote: you may need to restart the kernel to use updated packages.\n"
     ]
    }
   ],
   "source": [
    "pip install catboost"
   ]
  },
  {
   "cell_type": "code",
   "execution_count": 104,
   "id": "e1a4776c",
   "metadata": {
    "execution": {
     "iopub.execute_input": "2022-09-12T12:40:20.642244Z",
     "iopub.status.busy": "2022-09-12T12:40:20.641804Z",
     "iopub.status.idle": "2022-09-12T12:40:20.875605Z",
     "shell.execute_reply": "2022-09-12T12:40:20.874682Z"
    },
    "papermill": {
     "duration": 0.29379,
     "end_time": "2022-09-12T12:40:20.878683",
     "exception": false,
     "start_time": "2022-09-12T12:40:20.584893",
     "status": "completed"
    },
    "tags": []
   },
   "outputs": [
    {
     "name": "stdout",
     "output_type": "stream",
     "text": [
      "Learning rate set to 0.070047\n",
      "0:\tlearn: 0.6694277\ttotal: 54.1ms\tremaining: 5.73s\n",
      "1:\tlearn: 0.6512225\ttotal: 54.9ms\tremaining: 2.88s\n",
      "2:\tlearn: 0.6305240\ttotal: 55.7ms\tremaining: 1.93s\n",
      "3:\tlearn: 0.6130591\ttotal: 56.5ms\tremaining: 1.46s\n",
      "4:\tlearn: 0.5994500\ttotal: 57.3ms\tremaining: 1.17s\n",
      "5:\tlearn: 0.5855302\ttotal: 58.2ms\tremaining: 979ms\n",
      "6:\tlearn: 0.5730551\ttotal: 58.9ms\tremaining: 841ms\n",
      "7:\tlearn: 0.5593636\ttotal: 59.6ms\tremaining: 738ms\n",
      "8:\tlearn: 0.5487239\ttotal: 60.4ms\tremaining: 657ms\n",
      "9:\tlearn: 0.5377056\ttotal: 61.2ms\tremaining: 593ms\n",
      "10:\tlearn: 0.5281364\ttotal: 61.9ms\tremaining: 540ms\n",
      "11:\tlearn: 0.5197308\ttotal: 62.6ms\tremaining: 495ms\n",
      "12:\tlearn: 0.5103584\ttotal: 63.1ms\tremaining: 456ms\n",
      "13:\tlearn: 0.5019622\ttotal: 63.8ms\tremaining: 424ms\n",
      "14:\tlearn: 0.4945458\ttotal: 64.4ms\tremaining: 395ms\n",
      "15:\tlearn: 0.4867965\ttotal: 65.1ms\tremaining: 370ms\n",
      "16:\tlearn: 0.4814426\ttotal: 65.7ms\tremaining: 348ms\n",
      "17:\tlearn: 0.4753944\ttotal: 66.4ms\tremaining: 328ms\n",
      "18:\tlearn: 0.4703347\ttotal: 67ms\tremaining: 310ms\n",
      "19:\tlearn: 0.4642325\ttotal: 67.7ms\tremaining: 294ms\n",
      "20:\tlearn: 0.4586721\ttotal: 68.4ms\tremaining: 280ms\n",
      "21:\tlearn: 0.4529470\ttotal: 69.2ms\tremaining: 267ms\n",
      "22:\tlearn: 0.4478112\ttotal: 70ms\tremaining: 256ms\n",
      "23:\tlearn: 0.4431681\ttotal: 70.8ms\tremaining: 245ms\n",
      "24:\tlearn: 0.4388322\ttotal: 71.6ms\tremaining: 235ms\n",
      "25:\tlearn: 0.4347289\ttotal: 72.4ms\tremaining: 225ms\n",
      "26:\tlearn: 0.4319015\ttotal: 73.3ms\tremaining: 217ms\n",
      "27:\tlearn: 0.4280136\ttotal: 74.1ms\tremaining: 209ms\n",
      "28:\tlearn: 0.4249481\ttotal: 74.8ms\tremaining: 201ms\n",
      "29:\tlearn: 0.4211777\ttotal: 75.6ms\tremaining: 194ms\n",
      "30:\tlearn: 0.4179957\ttotal: 76.4ms\tremaining: 187ms\n",
      "31:\tlearn: 0.4152258\ttotal: 77.1ms\tremaining: 181ms\n",
      "32:\tlearn: 0.4123804\ttotal: 77.9ms\tremaining: 175ms\n",
      "33:\tlearn: 0.4092171\ttotal: 78.6ms\tremaining: 169ms\n",
      "34:\tlearn: 0.4060064\ttotal: 80.2ms\tremaining: 165ms\n",
      "35:\tlearn: 0.4038855\ttotal: 81ms\tremaining: 160ms\n",
      "36:\tlearn: 0.4011062\ttotal: 82ms\tremaining: 155ms\n",
      "37:\tlearn: 0.3980454\ttotal: 82.8ms\tremaining: 150ms\n",
      "38:\tlearn: 0.3955612\ttotal: 83.7ms\tremaining: 146ms\n",
      "39:\tlearn: 0.3928282\ttotal: 84.5ms\tremaining: 142ms\n",
      "40:\tlearn: 0.3901773\ttotal: 85.3ms\tremaining: 137ms\n",
      "41:\tlearn: 0.3878891\ttotal: 85.9ms\tremaining: 133ms\n",
      "42:\tlearn: 0.3848989\ttotal: 86.7ms\tremaining: 129ms\n",
      "43:\tlearn: 0.3827986\ttotal: 87.5ms\tremaining: 125ms\n",
      "44:\tlearn: 0.3806417\ttotal: 88.3ms\tremaining: 122ms\n",
      "45:\tlearn: 0.3785335\ttotal: 88.9ms\tremaining: 118ms\n",
      "46:\tlearn: 0.3761470\ttotal: 89.6ms\tremaining: 114ms\n",
      "47:\tlearn: 0.3739805\ttotal: 90.3ms\tremaining: 111ms\n",
      "48:\tlearn: 0.3722283\ttotal: 91ms\tremaining: 108ms\n",
      "49:\tlearn: 0.3702032\ttotal: 91.6ms\tremaining: 104ms\n",
      "50:\tlearn: 0.3685028\ttotal: 92.2ms\tremaining: 101ms\n",
      "51:\tlearn: 0.3669004\ttotal: 92.9ms\tremaining: 98.2ms\n",
      "52:\tlearn: 0.3649574\ttotal: 93.6ms\tremaining: 95.4ms\n",
      "53:\tlearn: 0.3634675\ttotal: 94.2ms\tremaining: 92.5ms\n",
      "54:\tlearn: 0.3614847\ttotal: 94.9ms\tremaining: 89.8ms\n",
      "55:\tlearn: 0.3600640\ttotal: 95.6ms\tremaining: 87.1ms\n",
      "56:\tlearn: 0.3587076\ttotal: 96.5ms\tremaining: 84.7ms\n",
      "57:\tlearn: 0.3569831\ttotal: 97.2ms\tremaining: 82.1ms\n",
      "58:\tlearn: 0.3557657\ttotal: 97.9ms\tremaining: 79.7ms\n",
      "59:\tlearn: 0.3534680\ttotal: 98.6ms\tremaining: 77.2ms\n",
      "60:\tlearn: 0.3525156\ttotal: 99.3ms\tremaining: 74.9ms\n",
      "61:\tlearn: 0.3511223\ttotal: 100ms\tremaining: 72.6ms\n",
      "62:\tlearn: 0.3495825\ttotal: 101ms\tremaining: 70.3ms\n",
      "63:\tlearn: 0.3482068\ttotal: 101ms\tremaining: 68ms\n",
      "64:\tlearn: 0.3468613\ttotal: 102ms\tremaining: 65.7ms\n",
      "65:\tlearn: 0.3459486\ttotal: 102ms\tremaining: 63.6ms\n",
      "66:\tlearn: 0.3446797\ttotal: 103ms\tremaining: 61.4ms\n",
      "67:\tlearn: 0.3436028\ttotal: 104ms\tremaining: 59.4ms\n",
      "68:\tlearn: 0.3425942\ttotal: 104ms\tremaining: 57.4ms\n",
      "69:\tlearn: 0.3414088\ttotal: 105ms\tremaining: 55.4ms\n",
      "70:\tlearn: 0.3401292\ttotal: 105ms\tremaining: 53.4ms\n",
      "71:\tlearn: 0.3389948\ttotal: 106ms\tremaining: 51.6ms\n",
      "72:\tlearn: 0.3379724\ttotal: 107ms\tremaining: 49.8ms\n",
      "73:\tlearn: 0.3363149\ttotal: 108ms\tremaining: 47.9ms\n",
      "74:\tlearn: 0.3354207\ttotal: 108ms\tremaining: 46.2ms\n",
      "75:\tlearn: 0.3343724\ttotal: 109ms\tremaining: 44.4ms\n",
      "76:\tlearn: 0.3332435\ttotal: 110ms\tremaining: 42.7ms\n",
      "77:\tlearn: 0.3317830\ttotal: 110ms\tremaining: 41ms\n",
      "78:\tlearn: 0.3308260\ttotal: 111ms\tremaining: 39.3ms\n",
      "79:\tlearn: 0.3298816\ttotal: 111ms\tremaining: 37.6ms\n",
      "80:\tlearn: 0.3286362\ttotal: 112ms\tremaining: 36ms\n",
      "81:\tlearn: 0.3276758\ttotal: 113ms\tremaining: 34.4ms\n",
      "82:\tlearn: 0.3266394\ttotal: 113ms\tremaining: 32.8ms\n",
      "83:\tlearn: 0.3258508\ttotal: 114ms\tremaining: 31.2ms\n",
      "84:\tlearn: 0.3247320\ttotal: 115ms\tremaining: 29.7ms\n",
      "85:\tlearn: 0.3240187\ttotal: 115ms\tremaining: 28.1ms\n",
      "86:\tlearn: 0.3229186\ttotal: 116ms\tremaining: 26.6ms\n",
      "87:\tlearn: 0.3222056\ttotal: 116ms\tremaining: 25.1ms\n",
      "88:\tlearn: 0.3214735\ttotal: 117ms\tremaining: 23.6ms\n",
      "89:\tlearn: 0.3211815\ttotal: 118ms\tremaining: 22.2ms\n",
      "90:\tlearn: 0.3203526\ttotal: 118ms\tremaining: 20.8ms\n",
      "91:\tlearn: 0.3196782\ttotal: 119ms\tremaining: 19.4ms\n",
      "92:\tlearn: 0.3188332\ttotal: 120ms\tremaining: 18ms\n",
      "93:\tlearn: 0.3181274\ttotal: 120ms\tremaining: 16.6ms\n",
      "94:\tlearn: 0.3171019\ttotal: 121ms\tremaining: 15.3ms\n",
      "95:\tlearn: 0.3160069\ttotal: 122ms\tremaining: 13.9ms\n",
      "96:\tlearn: 0.3158320\ttotal: 122ms\tremaining: 12.6ms\n",
      "97:\tlearn: 0.3153099\ttotal: 123ms\tremaining: 11.3ms\n",
      "98:\tlearn: 0.3140481\ttotal: 123ms\tremaining: 9.97ms\n",
      "99:\tlearn: 0.3138064\ttotal: 124ms\tremaining: 8.67ms\n",
      "100:\tlearn: 0.3137215\ttotal: 124ms\tremaining: 7.39ms\n",
      "101:\tlearn: 0.3128591\ttotal: 125ms\tremaining: 6.13ms\n",
      "102:\tlearn: 0.3123996\ttotal: 126ms\tremaining: 4.88ms\n",
      "103:\tlearn: 0.3115540\ttotal: 126ms\tremaining: 3.65ms\n",
      "104:\tlearn: 0.3108445\ttotal: 127ms\tremaining: 2.42ms\n",
      "105:\tlearn: 0.3103116\ttotal: 128ms\tremaining: 1.2ms\n",
      "106:\tlearn: 0.3102518\ttotal: 128ms\tremaining: 0us\n"
     ]
    },
    {
     "data": {
      "text/plain": [
       "<catboost.core.CatBoostClassifier at 0x7fb842de9c90>"
      ]
     },
     "execution_count": 104,
     "metadata": {},
     "output_type": "execute_result"
    }
   ],
   "source": [
    "# model building catboost\n",
    "from catboost import CatBoostClassifier\n",
    "model2 = CatBoostClassifier(iterations=107)\n",
    "model2.fit(X_train, y_train)\n"
   ]
  },
  {
   "cell_type": "code",
   "execution_count": 105,
   "id": "a586bdcf",
   "metadata": {
    "execution": {
     "iopub.execute_input": "2022-09-12T12:40:20.991598Z",
     "iopub.status.busy": "2022-09-12T12:40:20.990839Z",
     "iopub.status.idle": "2022-09-12T12:40:21.000773Z",
     "shell.execute_reply": "2022-09-12T12:40:20.999615Z"
    },
    "papermill": {
     "duration": 0.069759,
     "end_time": "2022-09-12T12:40:21.003645",
     "exception": false,
     "start_time": "2022-09-12T12:40:20.933886",
     "status": "completed"
    },
    "tags": []
   },
   "outputs": [],
   "source": [
    "# predict\n",
    "y_pred = model2.predict(X_test)\n"
   ]
  },
  {
   "cell_type": "code",
   "execution_count": 106,
   "id": "def43d2a",
   "metadata": {
    "execution": {
     "iopub.execute_input": "2022-09-12T12:40:21.115982Z",
     "iopub.status.busy": "2022-09-12T12:40:21.115181Z",
     "iopub.status.idle": "2022-09-12T12:40:21.122704Z",
     "shell.execute_reply": "2022-09-12T12:40:21.121598Z"
    },
    "papermill": {
     "duration": 0.065798,
     "end_time": "2022-09-12T12:40:21.125150",
     "exception": false,
     "start_time": "2022-09-12T12:40:21.059352",
     "status": "completed"
    },
    "tags": []
   },
   "outputs": [
    {
     "name": "stdout",
     "output_type": "stream",
     "text": [
      "Accuracy: 0.8097826086956522\n"
     ]
    }
   ],
   "source": [
    "# Print accuracy\n",
    "from sklearn.metrics import accuracy_score\n",
    "print('Accuracy:', accuracy_score(y_test, y_pred))"
   ]
  },
  {
   "cell_type": "code",
   "execution_count": 107,
   "id": "62d0880d",
   "metadata": {
    "execution": {
     "iopub.execute_input": "2022-09-12T12:40:21.235919Z",
     "iopub.status.busy": "2022-09-12T12:40:21.235489Z",
     "iopub.status.idle": "2022-09-12T12:40:21.248209Z",
     "shell.execute_reply": "2022-09-12T12:40:21.246206Z"
    },
    "papermill": {
     "duration": 0.071524,
     "end_time": "2022-09-12T12:40:21.250972",
     "exception": false,
     "start_time": "2022-09-12T12:40:21.179448",
     "status": "completed"
    },
    "tags": []
   },
   "outputs": [
    {
     "name": "stdout",
     "output_type": "stream",
     "text": [
      "Classification report\n",
      "               precision    recall  f1-score   support\n",
      "\n",
      "           0       0.77      0.78      0.77        76\n",
      "           1       0.84      0.83      0.84       108\n",
      "\n",
      "    accuracy                           0.81       184\n",
      "   macro avg       0.80      0.80      0.80       184\n",
      "weighted avg       0.81      0.81      0.81       184\n",
      "\n"
     ]
    }
   ],
   "source": [
    "# print classification report\n",
    "from sklearn.metrics import classification_report\n",
    "print('Classification report\\n',classification_report(y_test, y_pred))"
   ]
  },
  {
   "cell_type": "markdown",
   "id": "862c63ee",
   "metadata": {
    "papermill": {
     "duration": 0.055163,
     "end_time": "2022-09-12T12:40:21.361110",
     "exception": false,
     "start_time": "2022-09-12T12:40:21.305947",
     "status": "completed"
    },
    "tags": []
   },
   "source": [
    "# XGBM :"
   ]
  },
  {
   "cell_type": "code",
   "execution_count": 108,
   "id": "c5a15ea0",
   "metadata": {
    "execution": {
     "iopub.execute_input": "2022-09-12T12:40:21.473150Z",
     "iopub.status.busy": "2022-09-12T12:40:21.472356Z",
     "iopub.status.idle": "2022-09-12T12:40:21.477846Z",
     "shell.execute_reply": "2022-09-12T12:40:21.476686Z"
    },
    "papermill": {
     "duration": 0.063894,
     "end_time": "2022-09-12T12:40:21.480227",
     "exception": false,
     "start_time": "2022-09-12T12:40:21.416333",
     "status": "completed"
    },
    "tags": []
   },
   "outputs": [],
   "source": [
    "import xgboost as Xgb"
   ]
  },
  {
   "cell_type": "code",
   "execution_count": 109,
   "id": "d4bc4b78",
   "metadata": {
    "execution": {
     "iopub.execute_input": "2022-09-12T12:40:21.592125Z",
     "iopub.status.busy": "2022-09-12T12:40:21.591278Z",
     "iopub.status.idle": "2022-09-12T12:40:21.596898Z",
     "shell.execute_reply": "2022-09-12T12:40:21.595705Z"
    },
    "papermill": {
     "duration": 0.064079,
     "end_time": "2022-09-12T12:40:21.599376",
     "exception": false,
     "start_time": "2022-09-12T12:40:21.535297",
     "status": "completed"
    },
    "tags": []
   },
   "outputs": [],
   "source": [
    "xgb = Xgb.XGBClassifier()"
   ]
  },
  {
   "cell_type": "code",
   "execution_count": 110,
   "id": "aaf402bc",
   "metadata": {
    "execution": {
     "iopub.execute_input": "2022-09-12T12:40:21.712659Z",
     "iopub.status.busy": "2022-09-12T12:40:21.712218Z",
     "iopub.status.idle": "2022-09-12T12:40:22.165992Z",
     "shell.execute_reply": "2022-09-12T12:40:22.164983Z"
    },
    "papermill": {
     "duration": 0.513009,
     "end_time": "2022-09-12T12:40:22.168612",
     "exception": false,
     "start_time": "2022-09-12T12:40:21.655603",
     "status": "completed"
    },
    "tags": []
   },
   "outputs": [
    {
     "data": {
      "text/plain": [
       "XGBClassifier(base_score=0.5, booster='gbtree', callbacks=None,\n",
       "              colsample_bylevel=1, colsample_bynode=1, colsample_bytree=1,\n",
       "              early_stopping_rounds=None, enable_categorical=False,\n",
       "              eval_metric=None, gamma=0, gpu_id=-1, grow_policy='depthwise',\n",
       "              importance_type=None, interaction_constraints='',\n",
       "              learning_rate=0.300000012, max_bin=256, max_cat_to_onehot=4,\n",
       "              max_delta_step=0, max_depth=6, max_leaves=0, min_child_weight=1,\n",
       "              missing=nan, monotone_constraints='()', n_estimators=100,\n",
       "              n_jobs=0, num_parallel_tree=1, predictor='auto', random_state=0,\n",
       "              reg_alpha=0, reg_lambda=1, ...)"
      ]
     },
     "execution_count": 110,
     "metadata": {},
     "output_type": "execute_result"
    }
   ],
   "source": [
    "xgb.fit(X_train,y_train)"
   ]
  },
  {
   "cell_type": "code",
   "execution_count": 111,
   "id": "f91cfd51",
   "metadata": {
    "execution": {
     "iopub.execute_input": "2022-09-12T12:40:22.283566Z",
     "iopub.status.busy": "2022-09-12T12:40:22.282869Z",
     "iopub.status.idle": "2022-09-12T12:40:22.298623Z",
     "shell.execute_reply": "2022-09-12T12:40:22.297254Z"
    },
    "papermill": {
     "duration": 0.077223,
     "end_time": "2022-09-12T12:40:22.301396",
     "exception": false,
     "start_time": "2022-09-12T12:40:22.224173",
     "status": "completed"
    },
    "tags": []
   },
   "outputs": [
    {
     "data": {
      "text/plain": [
       "1.0"
      ]
     },
     "execution_count": 111,
     "metadata": {},
     "output_type": "execute_result"
    }
   ],
   "source": [
    "xgb.score(X_train, y_train)"
   ]
  },
  {
   "cell_type": "code",
   "execution_count": 112,
   "id": "ec8dd016",
   "metadata": {
    "execution": {
     "iopub.execute_input": "2022-09-12T12:40:22.417497Z",
     "iopub.status.busy": "2022-09-12T12:40:22.417065Z",
     "iopub.status.idle": "2022-09-12T12:40:22.429723Z",
     "shell.execute_reply": "2022-09-12T12:40:22.428543Z"
    },
    "papermill": {
     "duration": 0.07394,
     "end_time": "2022-09-12T12:40:22.432687",
     "exception": false,
     "start_time": "2022-09-12T12:40:22.358747",
     "status": "completed"
    },
    "tags": []
   },
   "outputs": [],
   "source": [
    "y_pred_xgb = xgb.predict(X_test)"
   ]
  },
  {
   "cell_type": "code",
   "execution_count": 113,
   "id": "6c61c00c",
   "metadata": {
    "execution": {
     "iopub.execute_input": "2022-09-12T12:40:22.548346Z",
     "iopub.status.busy": "2022-09-12T12:40:22.547901Z",
     "iopub.status.idle": "2022-09-12T12:40:22.562487Z",
     "shell.execute_reply": "2022-09-12T12:40:22.561320Z"
    },
    "papermill": {
     "duration": 0.076779,
     "end_time": "2022-09-12T12:40:22.565363",
     "exception": false,
     "start_time": "2022-09-12T12:40:22.488584",
     "status": "completed"
    },
    "tags": []
   },
   "outputs": [],
   "source": [
    "from sklearn.metrics import accuracy_score,confusion_matrix,classification_report,f1_score\n",
    "xgb_train = round(xgb.score(X_train, y_train) * 100, 2)\n",
    "xgb_accuracy = round(accuracy_score(y_pred_xgb, y_test) * 100, 2)\n",
    "xgb_f1 = round(f1_score(y_pred_xgb, y_test) * 100, 2)"
   ]
  },
  {
   "cell_type": "code",
   "execution_count": 114,
   "id": "008af90e",
   "metadata": {
    "execution": {
     "iopub.execute_input": "2022-09-12T12:40:22.680175Z",
     "iopub.status.busy": "2022-09-12T12:40:22.678932Z",
     "iopub.status.idle": "2022-09-12T12:40:22.693513Z",
     "shell.execute_reply": "2022-09-12T12:40:22.691906Z"
    },
    "papermill": {
     "duration": 0.074257,
     "end_time": "2022-09-12T12:40:22.696226",
     "exception": false,
     "start_time": "2022-09-12T12:40:22.621969",
     "status": "completed"
    },
    "tags": []
   },
   "outputs": [
    {
     "name": "stdout",
     "output_type": "stream",
     "text": [
      "Training Accuracy     : 100.0 %\n",
      "Model Accuracy Score  : 83.15 %\n",
      "Confusion Matrix: \n",
      " [[59 17]\n",
      " [14 94]]\n",
      "Classification_Report: \n",
      "               precision    recall  f1-score   support\n",
      "\n",
      "           0       0.81      0.78      0.79        76\n",
      "           1       0.85      0.87      0.86       108\n",
      "\n",
      "    accuracy                           0.83       184\n",
      "   macro avg       0.83      0.82      0.83       184\n",
      "weighted avg       0.83      0.83      0.83       184\n",
      "\n"
     ]
    }
   ],
   "source": [
    "print(\"Training Accuracy     :\",xgb_train,\"%\")\n",
    "print(\"Model Accuracy Score  :\",xgb_accuracy,\"%\")\n",
    "print(\"Confusion Matrix: \\n\",confusion_matrix(y_test,y_pred_xgb))\n",
    "print(\"Classification_Report: \\n\",classification_report(y_test,y_pred_xgb))"
   ]
  },
  {
   "cell_type": "markdown",
   "id": "f0ac25ad",
   "metadata": {
    "papermill": {
     "duration": 0.109334,
     "end_time": "2022-09-12T12:40:22.862284",
     "exception": false,
     "start_time": "2022-09-12T12:40:22.752950",
     "status": "completed"
    },
    "tags": []
   },
   "source": [
    "# Conclusion:"
   ]
  },
  {
   "cell_type": "markdown",
   "id": "e7639073",
   "metadata": {
    "papermill": {
     "duration": 0.058977,
     "end_time": "2022-09-12T12:40:22.978131",
     "exception": false,
     "start_time": "2022-09-12T12:40:22.919154",
     "status": "completed"
    },
    "tags": []
   },
   "source": [
    "According to the compared algorithms,  XGBoost Model Algorithm gives the best result in terms of accuracy. \n",
    "When examined in general,\n",
    "the algorithms give results that are close to each other.\n",
    "Achieved 91% accuracy with  XGBoost Model :"
   ]
  }
 ],
 "metadata": {
  "kernelspec": {
   "display_name": "Python 3",
   "language": "python",
   "name": "python3"
  },
  "language_info": {
   "codemirror_mode": {
    "name": "ipython",
    "version": 3
   },
   "file_extension": ".py",
   "mimetype": "text/x-python",
   "name": "python",
   "nbconvert_exporter": "python",
   "pygments_lexer": "ipython3",
   "version": "3.7.12"
  },
  "papermill": {
   "default_parameters": {},
   "duration": 101.025505,
   "end_time": "2022-09-12T12:40:24.167015",
   "environment_variables": {},
   "exception": null,
   "input_path": "__notebook__.ipynb",
   "output_path": "__notebook__.ipynb",
   "parameters": {},
   "start_time": "2022-09-12T12:38:43.141510",
   "version": "2.3.4"
  }
 },
 "nbformat": 4,
 "nbformat_minor": 5
}
